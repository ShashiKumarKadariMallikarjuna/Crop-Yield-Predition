{
  "cells": [
    {
      "cell_type": "markdown",
      "metadata": {
        "id": "view-in-github",
        "colab_type": "text"
      },
      "source": [
        "<a href=\"https://colab.research.google.com/github/shashikumar1998/Crop-Yield-Predition/blob/main/LightGBM.ipynb\" target=\"_parent\"><img src=\"https://colab.research.google.com/assets/colab-badge.svg\" alt=\"Open In Colab\"/></a>"
      ]
    },
    {
      "cell_type": "code",
      "execution_count": null,
      "id": "a282f9c8-3e89-426a-b78c-15fb7294ef9f",
      "metadata": {
        "id": "a282f9c8-3e89-426a-b78c-15fb7294ef9f"
      },
      "outputs": [],
      "source": [
        "import lightgbm"
      ]
    },
    {
      "cell_type": "code",
      "execution_count": null,
      "id": "214f048c-c08a-4827-9d2d-14a8c55dc3c5",
      "metadata": {
        "id": "214f048c-c08a-4827-9d2d-14a8c55dc3c5",
        "outputId": "1e7b8c32-2bac-456a-f8de-c6b72741b777"
      },
      "outputs": [
        {
          "name": "stdout",
          "output_type": "stream",
          "text": [
            "lightgbm\t \n"
          ]
        }
      ],
      "source": [
        "%who"
      ]
    },
    {
      "cell_type": "code",
      "execution_count": null,
      "id": "5d260d2a-037d-4eb7-aaa8-2b9de7bcda3b",
      "metadata": {
        "id": "5d260d2a-037d-4eb7-aaa8-2b9de7bcda3b"
      },
      "outputs": [],
      "source": [
        "import pandas as pd\n",
        "import lightgbm as lgb\n",
        "from sklearn.model_selection import train_test_split\n",
        "from sklearn.metrics import mean_squared_error, mean_absolute_error, r2_score"
      ]
    },
    {
      "cell_type": "code",
      "execution_count": null,
      "id": "204fbaba-dca4-426e-8e59-bd65a9579e87",
      "metadata": {
        "id": "204fbaba-dca4-426e-8e59-bd65a9579e87",
        "outputId": "a14ef745-a3b1-49fe-9112-75e08e8917d7"
      },
      "outputs": [
        {
          "name": "stdout",
          "output_type": "stream",
          "text": [
            "lgb\t lightgbm\t mean_absolute_error\t mean_squared_error\t pd\t r2_score\t train_test_split\t \n"
          ]
        }
      ],
      "source": [
        "%who"
      ]
    },
    {
      "cell_type": "code",
      "execution_count": null,
      "id": "49ba71e4-05d7-4940-8624-dffd5fcb69c6",
      "metadata": {
        "id": "49ba71e4-05d7-4940-8624-dffd5fcb69c6",
        "outputId": "c880deab-c6e1-4b2b-a7ec-5b3575c603fa"
      },
      "outputs": [
        {
          "name": "stdout",
          "output_type": "stream",
          "text": [
            "Collecting pandas\n",
            "  Downloading pandas-2.1.2-cp39-cp39-macosx_10_9_x86_64.whl.metadata (18 kB)\n",
            "Requirement already satisfied: numpy<2,>=1.22.4 in /Users/mayo/opt/anaconda3/envs/new_env/lib/python3.9/site-packages (from pandas) (1.23.5)\n",
            "Requirement already satisfied: python-dateutil>=2.8.2 in /Users/mayo/opt/anaconda3/envs/new_env/lib/python3.9/site-packages (from pandas) (2.8.2)\n",
            "Collecting pytz>=2020.1 (from pandas)\n",
            "  Downloading pytz-2023.3.post1-py2.py3-none-any.whl.metadata (22 kB)\n",
            "Collecting tzdata>=2022.1 (from pandas)\n",
            "  Downloading tzdata-2023.3-py2.py3-none-any.whl (341 kB)\n",
            "\u001b[2K     \u001b[90m━━━━━━━━━━━━━━━━━━━━━━━━━━━━━━━━━━━━━━━\u001b[0m \u001b[32m341.8/341.8 kB\u001b[0m \u001b[31m1.6 MB/s\u001b[0m eta \u001b[36m0:00:00\u001b[0m00:01\u001b[0m00:01\u001b[0m\n",
            "\u001b[?25hRequirement already satisfied: six>=1.5 in /Users/mayo/opt/anaconda3/envs/new_env/lib/python3.9/site-packages (from python-dateutil>=2.8.2->pandas) (1.16.0)\n",
            "Downloading pandas-2.1.2-cp39-cp39-macosx_10_9_x86_64.whl (11.8 MB)\n",
            "\u001b[2K   \u001b[90m━━━━━━━━━━━━━━━━━━━━━━━━━━━━━━━━━━━━━━━━\u001b[0m \u001b[32m11.8/11.8 MB\u001b[0m \u001b[31m4.7 MB/s\u001b[0m eta \u001b[36m0:00:00\u001b[0m00:01\u001b[0m00:01\u001b[0m\n",
            "\u001b[?25hDownloading pytz-2023.3.post1-py2.py3-none-any.whl (502 kB)\n",
            "\u001b[2K   \u001b[90m━━━━━━━━━━━━━━━━━━━━━━━━━━━━━━━━━━━━━━━━\u001b[0m \u001b[32m502.5/502.5 kB\u001b[0m \u001b[31m5.4 MB/s\u001b[0m eta \u001b[36m0:00:00\u001b[0m00:01\u001b[0m00:01\u001b[0m\n",
            "\u001b[?25hInstalling collected packages: pytz, tzdata, pandas\n",
            "Successfully installed pandas-2.1.2 pytz-2023.3.post1 tzdata-2023.3\n",
            "Note: you may need to restart the kernel to use updated packages.\n"
          ]
        }
      ],
      "source": [
        "pip install pandas"
      ]
    },
    {
      "cell_type": "code",
      "execution_count": null,
      "id": "75b4451d-3fe8-47c3-b71f-a033ce9a2f35",
      "metadata": {
        "id": "75b4451d-3fe8-47c3-b71f-a033ce9a2f35",
        "outputId": "18f4fa26-e453-4b62-8757-ff07f50a1c01"
      },
      "outputs": [
        {
          "name": "stdout",
          "output_type": "stream",
          "text": [
            "Collecting sklearn\n",
            "  Downloading sklearn-0.0.post11.tar.gz (3.6 kB)\n",
            "  Preparing metadata (setup.py) ... \u001b[?25ldone\n",
            "\u001b[?25hBuilding wheels for collected packages: sklearn\n",
            "  Building wheel for sklearn (setup.py) ... \u001b[?25ldone\n",
            "\u001b[?25h  Created wheel for sklearn: filename=sklearn-0.0.post11-py3-none-any.whl size=2959 sha256=40edc4cc12a7249aa407ca8282755643d4c199bdda3c38a6533a74b91eddd01d\n",
            "  Stored in directory: /Users/mayo/Library/Caches/pip/wheels/9e/9e/4c/184e84f4ce918378a9ec9adafd1b6b73bea45f0a4a7855b6ce\n",
            "Successfully built sklearn\n",
            "Installing collected packages: sklearn\n",
            "Successfully installed sklearn-0.0.post11\n",
            "Note: you may need to restart the kernel to use updated packages.\n"
          ]
        }
      ],
      "source": [
        "pip install sklearn"
      ]
    },
    {
      "cell_type": "code",
      "execution_count": null,
      "id": "32b24a56-8588-4347-852d-f8b82dceb7f5",
      "metadata": {
        "id": "32b24a56-8588-4347-852d-f8b82dceb7f5"
      },
      "outputs": [],
      "source": [
        "# Load dataset\n",
        "df = pd.read_csv('transformed_new.CSV')"
      ]
    },
    {
      "cell_type": "code",
      "execution_count": null,
      "id": "308b638d-facb-4253-9000-6b7811eb9e25",
      "metadata": {
        "id": "308b638d-facb-4253-9000-6b7811eb9e25",
        "outputId": "940184ba-eb32-4bcf-832b-7f2ac3c561ee"
      },
      "outputs": [
        {
          "data": {
            "text/html": [
              "<div>\n",
              "<style scoped>\n",
              "    .dataframe tbody tr th:only-of-type {\n",
              "        vertical-align: middle;\n",
              "    }\n",
              "\n",
              "    .dataframe tbody tr th {\n",
              "        vertical-align: top;\n",
              "    }\n",
              "\n",
              "    .dataframe thead th {\n",
              "        text-align: right;\n",
              "    }\n",
              "</style>\n",
              "<table border=\"1\" class=\"dataframe\">\n",
              "  <thead>\n",
              "    <tr style=\"text-align: right;\">\n",
              "      <th></th>\n",
              "      <th>Unnamed: 0</th>\n",
              "      <th>crop_flow_lb_s</th>\n",
              "      <th>datetime</th>\n",
              "      <th>field</th>\n",
              "      <th>product_Corn</th>\n",
              "      <th>product_Soybeans</th>\n",
              "      <th>product_Wheat</th>\n",
              "      <th>PC1</th>\n",
              "      <th>PC2</th>\n",
              "      <th>PC3</th>\n",
              "      <th>PC4</th>\n",
              "      <th>PC5</th>\n",
              "      <th>PC6</th>\n",
              "      <th>PC7</th>\n",
              "      <th>month</th>\n",
              "      <th>year</th>\n",
              "    </tr>\n",
              "  </thead>\n",
              "  <tbody>\n",
              "    <tr>\n",
              "      <th>count</th>\n",
              "      <td>350445.000000</td>\n",
              "      <td>350445.000000</td>\n",
              "      <td>3.504450e+05</td>\n",
              "      <td>350445.000000</td>\n",
              "      <td>350445.000000</td>\n",
              "      <td>350445.000000</td>\n",
              "      <td>350445.000000</td>\n",
              "      <td>3.504450e+05</td>\n",
              "      <td>3.504450e+05</td>\n",
              "      <td>3.504450e+05</td>\n",
              "      <td>3.504450e+05</td>\n",
              "      <td>3.504450e+05</td>\n",
              "      <td>3.504450e+05</td>\n",
              "      <td>3.504450e+05</td>\n",
              "      <td>350445.000000</td>\n",
              "      <td>350445.000000</td>\n",
              "    </tr>\n",
              "    <tr>\n",
              "      <th>mean</th>\n",
              "      <td>175222.000000</td>\n",
              "      <td>5.743898</td>\n",
              "      <td>1.258615e+09</td>\n",
              "      <td>24.306025</td>\n",
              "      <td>0.334931</td>\n",
              "      <td>0.309789</td>\n",
              "      <td>0.355280</td>\n",
              "      <td>5.190513e-18</td>\n",
              "      <td>2.854782e-17</td>\n",
              "      <td>-1.012150e-16</td>\n",
              "      <td>-3.406274e-17</td>\n",
              "      <td>-1.686917e-17</td>\n",
              "      <td>-2.465494e-17</td>\n",
              "      <td>3.373834e-17</td>\n",
              "      <td>9.119211</td>\n",
              "      <td>2009.170107</td>\n",
              "    </tr>\n",
              "    <tr>\n",
              "      <th>std</th>\n",
              "      <td>101164.901881</td>\n",
              "      <td>4.287287</td>\n",
              "      <td>7.996111e+07</td>\n",
              "      <td>14.769762</td>\n",
              "      <td>0.471967</td>\n",
              "      <td>0.462407</td>\n",
              "      <td>0.478599</td>\n",
              "      <td>2.396261e+00</td>\n",
              "      <td>1.471472e+00</td>\n",
              "      <td>1.398188e+00</td>\n",
              "      <td>9.322872e-01</td>\n",
              "      <td>8.216129e-01</td>\n",
              "      <td>7.630474e-01</td>\n",
              "      <td>6.415329e-01</td>\n",
              "      <td>1.614555</td>\n",
              "      <td>2.551907</td>\n",
              "    </tr>\n",
              "    <tr>\n",
              "      <th>min</th>\n",
              "      <td>0.000000</td>\n",
              "      <td>0.000000</td>\n",
              "      <td>1.128960e+09</td>\n",
              "      <td>0.000000</td>\n",
              "      <td>0.000000</td>\n",
              "      <td>0.000000</td>\n",
              "      <td>0.000000</td>\n",
              "      <td>-4.880069e+00</td>\n",
              "      <td>-3.699477e+00</td>\n",
              "      <td>-3.425525e+00</td>\n",
              "      <td>-2.649816e+00</td>\n",
              "      <td>-3.390961e+00</td>\n",
              "      <td>-2.727430e+00</td>\n",
              "      <td>-2.265281e+00</td>\n",
              "      <td>7.000000</td>\n",
              "      <td>2005.000000</td>\n",
              "    </tr>\n",
              "    <tr>\n",
              "      <th>25%</th>\n",
              "      <td>87611.000000</td>\n",
              "      <td>2.610000</td>\n",
              "      <td>1.184072e+09</td>\n",
              "      <td>11.000000</td>\n",
              "      <td>0.000000</td>\n",
              "      <td>0.000000</td>\n",
              "      <td>0.000000</td>\n",
              "      <td>-1.922702e+00</td>\n",
              "      <td>-9.670035e-01</td>\n",
              "      <td>-9.703395e-01</td>\n",
              "      <td>-5.533245e-01</td>\n",
              "      <td>-4.596146e-01</td>\n",
              "      <td>-4.331103e-01</td>\n",
              "      <td>-4.845511e-01</td>\n",
              "      <td>7.000000</td>\n",
              "      <td>2007.000000</td>\n",
              "    </tr>\n",
              "    <tr>\n",
              "      <th>50%</th>\n",
              "      <td>175222.000000</td>\n",
              "      <td>4.420000</td>\n",
              "      <td>1.255975e+09</td>\n",
              "      <td>25.000000</td>\n",
              "      <td>0.000000</td>\n",
              "      <td>0.000000</td>\n",
              "      <td>0.000000</td>\n",
              "      <td>5.906300e-01</td>\n",
              "      <td>-1.414390e-01</td>\n",
              "      <td>-3.810936e-02</td>\n",
              "      <td>-1.147169e-01</td>\n",
              "      <td>7.072562e-02</td>\n",
              "      <td>-8.588472e-03</td>\n",
              "      <td>-5.168507e-02</td>\n",
              "      <td>10.000000</td>\n",
              "      <td>2009.000000</td>\n",
              "    </tr>\n",
              "    <tr>\n",
              "      <th>75%</th>\n",
              "      <td>262833.000000</td>\n",
              "      <td>7.630000</td>\n",
              "      <td>1.321438e+09</td>\n",
              "      <td>37.000000</td>\n",
              "      <td>1.000000</td>\n",
              "      <td>1.000000</td>\n",
              "      <td>1.000000</td>\n",
              "      <td>1.567563e+00</td>\n",
              "      <td>1.021298e+00</td>\n",
              "      <td>1.010548e+00</td>\n",
              "      <td>3.661083e-01</td>\n",
              "      <td>5.087709e-01</td>\n",
              "      <td>4.534989e-01</td>\n",
              "      <td>4.245724e-01</td>\n",
              "      <td>10.000000</td>\n",
              "      <td>2011.000000</td>\n",
              "    </tr>\n",
              "    <tr>\n",
              "      <th>max</th>\n",
              "      <td>350444.000000</td>\n",
              "      <td>30.150000</td>\n",
              "      <td>1.374692e+09</td>\n",
              "      <td>49.000000</td>\n",
              "      <td>1.000000</td>\n",
              "      <td>1.000000</td>\n",
              "      <td>1.000000</td>\n",
              "      <td>5.121849e+00</td>\n",
              "      <td>3.913822e+00</td>\n",
              "      <td>3.501005e+00</td>\n",
              "      <td>4.978489e+00</td>\n",
              "      <td>3.479247e+00</td>\n",
              "      <td>3.403414e+00</td>\n",
              "      <td>2.285096e+00</td>\n",
              "      <td>11.000000</td>\n",
              "      <td>2013.000000</td>\n",
              "    </tr>\n",
              "  </tbody>\n",
              "</table>\n",
              "</div>"
            ],
            "text/plain": [
              "          Unnamed: 0  crop_flow_lb_s      datetime          field  \\\n",
              "count  350445.000000   350445.000000  3.504450e+05  350445.000000   \n",
              "mean   175222.000000        5.743898  1.258615e+09      24.306025   \n",
              "std    101164.901881        4.287287  7.996111e+07      14.769762   \n",
              "min         0.000000        0.000000  1.128960e+09       0.000000   \n",
              "25%     87611.000000        2.610000  1.184072e+09      11.000000   \n",
              "50%    175222.000000        4.420000  1.255975e+09      25.000000   \n",
              "75%    262833.000000        7.630000  1.321438e+09      37.000000   \n",
              "max    350444.000000       30.150000  1.374692e+09      49.000000   \n",
              "\n",
              "        product_Corn  product_Soybeans  product_Wheat           PC1  \\\n",
              "count  350445.000000     350445.000000  350445.000000  3.504450e+05   \n",
              "mean        0.334931          0.309789       0.355280  5.190513e-18   \n",
              "std         0.471967          0.462407       0.478599  2.396261e+00   \n",
              "min         0.000000          0.000000       0.000000 -4.880069e+00   \n",
              "25%         0.000000          0.000000       0.000000 -1.922702e+00   \n",
              "50%         0.000000          0.000000       0.000000  5.906300e-01   \n",
              "75%         1.000000          1.000000       1.000000  1.567563e+00   \n",
              "max         1.000000          1.000000       1.000000  5.121849e+00   \n",
              "\n",
              "                PC2           PC3           PC4           PC5           PC6  \\\n",
              "count  3.504450e+05  3.504450e+05  3.504450e+05  3.504450e+05  3.504450e+05   \n",
              "mean   2.854782e-17 -1.012150e-16 -3.406274e-17 -1.686917e-17 -2.465494e-17   \n",
              "std    1.471472e+00  1.398188e+00  9.322872e-01  8.216129e-01  7.630474e-01   \n",
              "min   -3.699477e+00 -3.425525e+00 -2.649816e+00 -3.390961e+00 -2.727430e+00   \n",
              "25%   -9.670035e-01 -9.703395e-01 -5.533245e-01 -4.596146e-01 -4.331103e-01   \n",
              "50%   -1.414390e-01 -3.810936e-02 -1.147169e-01  7.072562e-02 -8.588472e-03   \n",
              "75%    1.021298e+00  1.010548e+00  3.661083e-01  5.087709e-01  4.534989e-01   \n",
              "max    3.913822e+00  3.501005e+00  4.978489e+00  3.479247e+00  3.403414e+00   \n",
              "\n",
              "                PC7          month           year  \n",
              "count  3.504450e+05  350445.000000  350445.000000  \n",
              "mean   3.373834e-17       9.119211    2009.170107  \n",
              "std    6.415329e-01       1.614555       2.551907  \n",
              "min   -2.265281e+00       7.000000    2005.000000  \n",
              "25%   -4.845511e-01       7.000000    2007.000000  \n",
              "50%   -5.168507e-02      10.000000    2009.000000  \n",
              "75%    4.245724e-01      10.000000    2011.000000  \n",
              "max    2.285096e+00      11.000000    2013.000000  "
            ]
          },
          "execution_count": 3,
          "metadata": {},
          "output_type": "execute_result"
        }
      ],
      "source": [
        "df.describe()"
      ]
    },
    {
      "cell_type": "code",
      "execution_count": null,
      "id": "bf23348c-76b2-489b-a17b-4b91b342e655",
      "metadata": {
        "id": "bf23348c-76b2-489b-a17b-4b91b342e655",
        "outputId": "ce171ed8-28c9-42a9-b0ce-bd02c0406b78"
      },
      "outputs": [
        {
          "data": {
            "text/html": [
              "<div>\n",
              "<style scoped>\n",
              "    .dataframe tbody tr th:only-of-type {\n",
              "        vertical-align: middle;\n",
              "    }\n",
              "\n",
              "    .dataframe tbody tr th {\n",
              "        vertical-align: top;\n",
              "    }\n",
              "\n",
              "    .dataframe thead th {\n",
              "        text-align: right;\n",
              "    }\n",
              "</style>\n",
              "<table border=\"1\" class=\"dataframe\">\n",
              "  <thead>\n",
              "    <tr style=\"text-align: right;\">\n",
              "      <th></th>\n",
              "      <th>Unnamed: 0</th>\n",
              "      <th>crop_flow_lb_s</th>\n",
              "      <th>datetime</th>\n",
              "      <th>field</th>\n",
              "      <th>product_Corn</th>\n",
              "      <th>product_Soybeans</th>\n",
              "      <th>product_Wheat</th>\n",
              "      <th>PC1</th>\n",
              "      <th>PC2</th>\n",
              "      <th>PC3</th>\n",
              "      <th>PC4</th>\n",
              "      <th>PC5</th>\n",
              "      <th>PC6</th>\n",
              "      <th>PC7</th>\n",
              "      <th>month</th>\n",
              "      <th>year</th>\n",
              "    </tr>\n",
              "  </thead>\n",
              "  <tbody>\n",
              "    <tr>\n",
              "      <th>0</th>\n",
              "      <td>0</td>\n",
              "      <td>0.00</td>\n",
              "      <td>1255701600</td>\n",
              "      <td>17</td>\n",
              "      <td>0</td>\n",
              "      <td>1</td>\n",
              "      <td>0</td>\n",
              "      <td>3.781658</td>\n",
              "      <td>1.597206</td>\n",
              "      <td>-0.231569</td>\n",
              "      <td>0.327539</td>\n",
              "      <td>-0.422582</td>\n",
              "      <td>0.499634</td>\n",
              "      <td>-0.862528</td>\n",
              "      <td>10</td>\n",
              "      <td>2009</td>\n",
              "    </tr>\n",
              "    <tr>\n",
              "      <th>1</th>\n",
              "      <td>1</td>\n",
              "      <td>4.80</td>\n",
              "      <td>1255701600</td>\n",
              "      <td>17</td>\n",
              "      <td>0</td>\n",
              "      <td>1</td>\n",
              "      <td>0</td>\n",
              "      <td>3.713158</td>\n",
              "      <td>1.502763</td>\n",
              "      <td>-0.156346</td>\n",
              "      <td>0.495098</td>\n",
              "      <td>-0.623663</td>\n",
              "      <td>0.532004</td>\n",
              "      <td>-0.868154</td>\n",
              "      <td>10</td>\n",
              "      <td>2009</td>\n",
              "    </tr>\n",
              "    <tr>\n",
              "      <th>2</th>\n",
              "      <td>2</td>\n",
              "      <td>4.68</td>\n",
              "      <td>1255701600</td>\n",
              "      <td>23</td>\n",
              "      <td>0</td>\n",
              "      <td>1</td>\n",
              "      <td>0</td>\n",
              "      <td>3.872774</td>\n",
              "      <td>1.673078</td>\n",
              "      <td>-0.514877</td>\n",
              "      <td>0.147105</td>\n",
              "      <td>-0.545803</td>\n",
              "      <td>1.158249</td>\n",
              "      <td>-0.604078</td>\n",
              "      <td>10</td>\n",
              "      <td>2009</td>\n",
              "    </tr>\n",
              "    <tr>\n",
              "      <th>3</th>\n",
              "      <td>3</td>\n",
              "      <td>3.98</td>\n",
              "      <td>1255701600</td>\n",
              "      <td>23</td>\n",
              "      <td>0</td>\n",
              "      <td>1</td>\n",
              "      <td>0</td>\n",
              "      <td>3.875117</td>\n",
              "      <td>1.675503</td>\n",
              "      <td>-0.520415</td>\n",
              "      <td>0.142061</td>\n",
              "      <td>-0.545247</td>\n",
              "      <td>1.168495</td>\n",
              "      <td>-0.599825</td>\n",
              "      <td>10</td>\n",
              "      <td>2009</td>\n",
              "    </tr>\n",
              "    <tr>\n",
              "      <th>4</th>\n",
              "      <td>4</td>\n",
              "      <td>2.98</td>\n",
              "      <td>1255701600</td>\n",
              "      <td>23</td>\n",
              "      <td>0</td>\n",
              "      <td>1</td>\n",
              "      <td>0</td>\n",
              "      <td>3.894926</td>\n",
              "      <td>1.694252</td>\n",
              "      <td>-0.573709</td>\n",
              "      <td>0.100911</td>\n",
              "      <td>-0.554342</td>\n",
              "      <td>1.279905</td>\n",
              "      <td>-0.555002</td>\n",
              "      <td>10</td>\n",
              "      <td>2009</td>\n",
              "    </tr>\n",
              "    <tr>\n",
              "      <th>...</th>\n",
              "      <td>...</td>\n",
              "      <td>...</td>\n",
              "      <td>...</td>\n",
              "      <td>...</td>\n",
              "      <td>...</td>\n",
              "      <td>...</td>\n",
              "      <td>...</td>\n",
              "      <td>...</td>\n",
              "      <td>...</td>\n",
              "      <td>...</td>\n",
              "      <td>...</td>\n",
              "      <td>...</td>\n",
              "      <td>...</td>\n",
              "      <td>...</td>\n",
              "      <td>...</td>\n",
              "      <td>...</td>\n",
              "    </tr>\n",
              "    <tr>\n",
              "      <th>350440</th>\n",
              "      <td>350440</td>\n",
              "      <td>10.60</td>\n",
              "      <td>1184004000</td>\n",
              "      <td>16</td>\n",
              "      <td>0</td>\n",
              "      <td>0</td>\n",
              "      <td>1</td>\n",
              "      <td>-4.100974</td>\n",
              "      <td>-0.358484</td>\n",
              "      <td>0.172790</td>\n",
              "      <td>-0.145473</td>\n",
              "      <td>0.453026</td>\n",
              "      <td>0.124937</td>\n",
              "      <td>-0.427422</td>\n",
              "      <td>7</td>\n",
              "      <td>2007</td>\n",
              "    </tr>\n",
              "    <tr>\n",
              "      <th>350441</th>\n",
              "      <td>350441</td>\n",
              "      <td>9.90</td>\n",
              "      <td>1184004000</td>\n",
              "      <td>16</td>\n",
              "      <td>0</td>\n",
              "      <td>0</td>\n",
              "      <td>1</td>\n",
              "      <td>-4.100974</td>\n",
              "      <td>-0.358484</td>\n",
              "      <td>0.172790</td>\n",
              "      <td>-0.145473</td>\n",
              "      <td>0.453026</td>\n",
              "      <td>0.124937</td>\n",
              "      <td>-0.427422</td>\n",
              "      <td>7</td>\n",
              "      <td>2007</td>\n",
              "    </tr>\n",
              "    <tr>\n",
              "      <th>350442</th>\n",
              "      <td>350442</td>\n",
              "      <td>10.40</td>\n",
              "      <td>1184004000</td>\n",
              "      <td>16</td>\n",
              "      <td>0</td>\n",
              "      <td>0</td>\n",
              "      <td>1</td>\n",
              "      <td>-4.100974</td>\n",
              "      <td>-0.358484</td>\n",
              "      <td>0.172790</td>\n",
              "      <td>-0.145473</td>\n",
              "      <td>0.453026</td>\n",
              "      <td>0.124937</td>\n",
              "      <td>-0.427422</td>\n",
              "      <td>7</td>\n",
              "      <td>2007</td>\n",
              "    </tr>\n",
              "    <tr>\n",
              "      <th>350443</th>\n",
              "      <td>350443</td>\n",
              "      <td>9.70</td>\n",
              "      <td>1184004000</td>\n",
              "      <td>16</td>\n",
              "      <td>0</td>\n",
              "      <td>0</td>\n",
              "      <td>1</td>\n",
              "      <td>-4.100974</td>\n",
              "      <td>-0.358484</td>\n",
              "      <td>0.172790</td>\n",
              "      <td>-0.145473</td>\n",
              "      <td>0.453026</td>\n",
              "      <td>0.124937</td>\n",
              "      <td>-0.427422</td>\n",
              "      <td>7</td>\n",
              "      <td>2007</td>\n",
              "    </tr>\n",
              "    <tr>\n",
              "      <th>350444</th>\n",
              "      <td>350444</td>\n",
              "      <td>9.80</td>\n",
              "      <td>1184004000</td>\n",
              "      <td>16</td>\n",
              "      <td>0</td>\n",
              "      <td>0</td>\n",
              "      <td>1</td>\n",
              "      <td>-4.098632</td>\n",
              "      <td>-0.356059</td>\n",
              "      <td>0.167252</td>\n",
              "      <td>-0.150516</td>\n",
              "      <td>0.453582</td>\n",
              "      <td>0.135182</td>\n",
              "      <td>-0.423169</td>\n",
              "      <td>7</td>\n",
              "      <td>2007</td>\n",
              "    </tr>\n",
              "  </tbody>\n",
              "</table>\n",
              "<p>350445 rows × 16 columns</p>\n",
              "</div>"
            ],
            "text/plain": [
              "        Unnamed: 0  crop_flow_lb_s    datetime  field  product_Corn  \\\n",
              "0                0            0.00  1255701600     17             0   \n",
              "1                1            4.80  1255701600     17             0   \n",
              "2                2            4.68  1255701600     23             0   \n",
              "3                3            3.98  1255701600     23             0   \n",
              "4                4            2.98  1255701600     23             0   \n",
              "...            ...             ...         ...    ...           ...   \n",
              "350440      350440           10.60  1184004000     16             0   \n",
              "350441      350441            9.90  1184004000     16             0   \n",
              "350442      350442           10.40  1184004000     16             0   \n",
              "350443      350443            9.70  1184004000     16             0   \n",
              "350444      350444            9.80  1184004000     16             0   \n",
              "\n",
              "        product_Soybeans  product_Wheat       PC1       PC2       PC3  \\\n",
              "0                      1              0  3.781658  1.597206 -0.231569   \n",
              "1                      1              0  3.713158  1.502763 -0.156346   \n",
              "2                      1              0  3.872774  1.673078 -0.514877   \n",
              "3                      1              0  3.875117  1.675503 -0.520415   \n",
              "4                      1              0  3.894926  1.694252 -0.573709   \n",
              "...                  ...            ...       ...       ...       ...   \n",
              "350440                 0              1 -4.100974 -0.358484  0.172790   \n",
              "350441                 0              1 -4.100974 -0.358484  0.172790   \n",
              "350442                 0              1 -4.100974 -0.358484  0.172790   \n",
              "350443                 0              1 -4.100974 -0.358484  0.172790   \n",
              "350444                 0              1 -4.098632 -0.356059  0.167252   \n",
              "\n",
              "             PC4       PC5       PC6       PC7  month  year  \n",
              "0       0.327539 -0.422582  0.499634 -0.862528     10  2009  \n",
              "1       0.495098 -0.623663  0.532004 -0.868154     10  2009  \n",
              "2       0.147105 -0.545803  1.158249 -0.604078     10  2009  \n",
              "3       0.142061 -0.545247  1.168495 -0.599825     10  2009  \n",
              "4       0.100911 -0.554342  1.279905 -0.555002     10  2009  \n",
              "...          ...       ...       ...       ...    ...   ...  \n",
              "350440 -0.145473  0.453026  0.124937 -0.427422      7  2007  \n",
              "350441 -0.145473  0.453026  0.124937 -0.427422      7  2007  \n",
              "350442 -0.145473  0.453026  0.124937 -0.427422      7  2007  \n",
              "350443 -0.145473  0.453026  0.124937 -0.427422      7  2007  \n",
              "350444 -0.150516  0.453582  0.135182 -0.423169      7  2007  \n",
              "\n",
              "[350445 rows x 16 columns]"
            ]
          },
          "execution_count": 38,
          "metadata": {},
          "output_type": "execute_result"
        }
      ],
      "source": [
        "df"
      ]
    },
    {
      "cell_type": "code",
      "execution_count": null,
      "id": "0a14283a-df54-422b-ac77-afaea4aa9b0f",
      "metadata": {
        "id": "0a14283a-df54-422b-ac77-afaea4aa9b0f",
        "outputId": "f1aa0ed1-85e4-4e0c-b4e8-995bcad8fb4d"
      },
      "outputs": [
        {
          "name": "stdout",
          "output_type": "stream",
          "text": [
            "Index(['Unnamed: 0', 'crop_flow_lb_s', 'datetime', 'field', 'product_Corn',\n",
            "       'product_Soybeans', 'product_Wheat', 'PC1', 'PC2', 'PC3', 'PC4', 'PC5',\n",
            "       'PC6', 'PC7', 'month', 'year'],\n",
            "      dtype='object')\n"
          ]
        }
      ],
      "source": [
        "print(df.columns)"
      ]
    },
    {
      "cell_type": "code",
      "execution_count": null,
      "id": "8566db0b-e276-4ebd-b334-6de048200a0f",
      "metadata": {
        "id": "8566db0b-e276-4ebd-b334-6de048200a0f"
      },
      "outputs": [],
      "source": [
        "df.drop(['Unnamed: 0'], axis=1, inplace=True)"
      ]
    },
    {
      "cell_type": "code",
      "execution_count": null,
      "id": "fc51b8ef-bbf2-4e09-a4bc-ee73414c96c3",
      "metadata": {
        "id": "fc51b8ef-bbf2-4e09-a4bc-ee73414c96c3",
        "outputId": "be88b27f-a3ea-451e-b09f-9921a8476473"
      },
      "outputs": [
        {
          "data": {
            "text/html": [
              "<div>\n",
              "<style scoped>\n",
              "    .dataframe tbody tr th:only-of-type {\n",
              "        vertical-align: middle;\n",
              "    }\n",
              "\n",
              "    .dataframe tbody tr th {\n",
              "        vertical-align: top;\n",
              "    }\n",
              "\n",
              "    .dataframe thead th {\n",
              "        text-align: right;\n",
              "    }\n",
              "</style>\n",
              "<table border=\"1\" class=\"dataframe\">\n",
              "  <thead>\n",
              "    <tr style=\"text-align: right;\">\n",
              "      <th></th>\n",
              "      <th>crop_flow_lb_s</th>\n",
              "      <th>datetime</th>\n",
              "      <th>field</th>\n",
              "      <th>product_Corn</th>\n",
              "      <th>product_Soybeans</th>\n",
              "      <th>product_Wheat</th>\n",
              "      <th>PC1</th>\n",
              "      <th>PC2</th>\n",
              "      <th>PC3</th>\n",
              "      <th>PC4</th>\n",
              "      <th>PC5</th>\n",
              "      <th>PC6</th>\n",
              "      <th>PC7</th>\n",
              "      <th>month</th>\n",
              "      <th>year</th>\n",
              "    </tr>\n",
              "  </thead>\n",
              "  <tbody>\n",
              "    <tr>\n",
              "      <th>0</th>\n",
              "      <td>0.00</td>\n",
              "      <td>1255701600</td>\n",
              "      <td>17</td>\n",
              "      <td>0</td>\n",
              "      <td>1</td>\n",
              "      <td>0</td>\n",
              "      <td>3.781658</td>\n",
              "      <td>1.597206</td>\n",
              "      <td>-0.231569</td>\n",
              "      <td>0.327539</td>\n",
              "      <td>-0.422582</td>\n",
              "      <td>0.499634</td>\n",
              "      <td>-0.862528</td>\n",
              "      <td>10</td>\n",
              "      <td>2009</td>\n",
              "    </tr>\n",
              "    <tr>\n",
              "      <th>1</th>\n",
              "      <td>4.80</td>\n",
              "      <td>1255701600</td>\n",
              "      <td>17</td>\n",
              "      <td>0</td>\n",
              "      <td>1</td>\n",
              "      <td>0</td>\n",
              "      <td>3.713158</td>\n",
              "      <td>1.502763</td>\n",
              "      <td>-0.156346</td>\n",
              "      <td>0.495098</td>\n",
              "      <td>-0.623663</td>\n",
              "      <td>0.532004</td>\n",
              "      <td>-0.868154</td>\n",
              "      <td>10</td>\n",
              "      <td>2009</td>\n",
              "    </tr>\n",
              "    <tr>\n",
              "      <th>2</th>\n",
              "      <td>4.68</td>\n",
              "      <td>1255701600</td>\n",
              "      <td>23</td>\n",
              "      <td>0</td>\n",
              "      <td>1</td>\n",
              "      <td>0</td>\n",
              "      <td>3.872774</td>\n",
              "      <td>1.673078</td>\n",
              "      <td>-0.514877</td>\n",
              "      <td>0.147105</td>\n",
              "      <td>-0.545803</td>\n",
              "      <td>1.158249</td>\n",
              "      <td>-0.604078</td>\n",
              "      <td>10</td>\n",
              "      <td>2009</td>\n",
              "    </tr>\n",
              "    <tr>\n",
              "      <th>3</th>\n",
              "      <td>3.98</td>\n",
              "      <td>1255701600</td>\n",
              "      <td>23</td>\n",
              "      <td>0</td>\n",
              "      <td>1</td>\n",
              "      <td>0</td>\n",
              "      <td>3.875117</td>\n",
              "      <td>1.675503</td>\n",
              "      <td>-0.520415</td>\n",
              "      <td>0.142061</td>\n",
              "      <td>-0.545247</td>\n",
              "      <td>1.168495</td>\n",
              "      <td>-0.599825</td>\n",
              "      <td>10</td>\n",
              "      <td>2009</td>\n",
              "    </tr>\n",
              "    <tr>\n",
              "      <th>4</th>\n",
              "      <td>2.98</td>\n",
              "      <td>1255701600</td>\n",
              "      <td>23</td>\n",
              "      <td>0</td>\n",
              "      <td>1</td>\n",
              "      <td>0</td>\n",
              "      <td>3.894926</td>\n",
              "      <td>1.694252</td>\n",
              "      <td>-0.573709</td>\n",
              "      <td>0.100911</td>\n",
              "      <td>-0.554342</td>\n",
              "      <td>1.279905</td>\n",
              "      <td>-0.555002</td>\n",
              "      <td>10</td>\n",
              "      <td>2009</td>\n",
              "    </tr>\n",
              "    <tr>\n",
              "      <th>...</th>\n",
              "      <td>...</td>\n",
              "      <td>...</td>\n",
              "      <td>...</td>\n",
              "      <td>...</td>\n",
              "      <td>...</td>\n",
              "      <td>...</td>\n",
              "      <td>...</td>\n",
              "      <td>...</td>\n",
              "      <td>...</td>\n",
              "      <td>...</td>\n",
              "      <td>...</td>\n",
              "      <td>...</td>\n",
              "      <td>...</td>\n",
              "      <td>...</td>\n",
              "      <td>...</td>\n",
              "    </tr>\n",
              "    <tr>\n",
              "      <th>350440</th>\n",
              "      <td>10.60</td>\n",
              "      <td>1184004000</td>\n",
              "      <td>16</td>\n",
              "      <td>0</td>\n",
              "      <td>0</td>\n",
              "      <td>1</td>\n",
              "      <td>-4.100974</td>\n",
              "      <td>-0.358484</td>\n",
              "      <td>0.172790</td>\n",
              "      <td>-0.145473</td>\n",
              "      <td>0.453026</td>\n",
              "      <td>0.124937</td>\n",
              "      <td>-0.427422</td>\n",
              "      <td>7</td>\n",
              "      <td>2007</td>\n",
              "    </tr>\n",
              "    <tr>\n",
              "      <th>350441</th>\n",
              "      <td>9.90</td>\n",
              "      <td>1184004000</td>\n",
              "      <td>16</td>\n",
              "      <td>0</td>\n",
              "      <td>0</td>\n",
              "      <td>1</td>\n",
              "      <td>-4.100974</td>\n",
              "      <td>-0.358484</td>\n",
              "      <td>0.172790</td>\n",
              "      <td>-0.145473</td>\n",
              "      <td>0.453026</td>\n",
              "      <td>0.124937</td>\n",
              "      <td>-0.427422</td>\n",
              "      <td>7</td>\n",
              "      <td>2007</td>\n",
              "    </tr>\n",
              "    <tr>\n",
              "      <th>350442</th>\n",
              "      <td>10.40</td>\n",
              "      <td>1184004000</td>\n",
              "      <td>16</td>\n",
              "      <td>0</td>\n",
              "      <td>0</td>\n",
              "      <td>1</td>\n",
              "      <td>-4.100974</td>\n",
              "      <td>-0.358484</td>\n",
              "      <td>0.172790</td>\n",
              "      <td>-0.145473</td>\n",
              "      <td>0.453026</td>\n",
              "      <td>0.124937</td>\n",
              "      <td>-0.427422</td>\n",
              "      <td>7</td>\n",
              "      <td>2007</td>\n",
              "    </tr>\n",
              "    <tr>\n",
              "      <th>350443</th>\n",
              "      <td>9.70</td>\n",
              "      <td>1184004000</td>\n",
              "      <td>16</td>\n",
              "      <td>0</td>\n",
              "      <td>0</td>\n",
              "      <td>1</td>\n",
              "      <td>-4.100974</td>\n",
              "      <td>-0.358484</td>\n",
              "      <td>0.172790</td>\n",
              "      <td>-0.145473</td>\n",
              "      <td>0.453026</td>\n",
              "      <td>0.124937</td>\n",
              "      <td>-0.427422</td>\n",
              "      <td>7</td>\n",
              "      <td>2007</td>\n",
              "    </tr>\n",
              "    <tr>\n",
              "      <th>350444</th>\n",
              "      <td>9.80</td>\n",
              "      <td>1184004000</td>\n",
              "      <td>16</td>\n",
              "      <td>0</td>\n",
              "      <td>0</td>\n",
              "      <td>1</td>\n",
              "      <td>-4.098632</td>\n",
              "      <td>-0.356059</td>\n",
              "      <td>0.167252</td>\n",
              "      <td>-0.150516</td>\n",
              "      <td>0.453582</td>\n",
              "      <td>0.135182</td>\n",
              "      <td>-0.423169</td>\n",
              "      <td>7</td>\n",
              "      <td>2007</td>\n",
              "    </tr>\n",
              "  </tbody>\n",
              "</table>\n",
              "<p>350445 rows × 15 columns</p>\n",
              "</div>"
            ],
            "text/plain": [
              "        crop_flow_lb_s    datetime  field  product_Corn  product_Soybeans  \\\n",
              "0                 0.00  1255701600     17             0                 1   \n",
              "1                 4.80  1255701600     17             0                 1   \n",
              "2                 4.68  1255701600     23             0                 1   \n",
              "3                 3.98  1255701600     23             0                 1   \n",
              "4                 2.98  1255701600     23             0                 1   \n",
              "...                ...         ...    ...           ...               ...   \n",
              "350440           10.60  1184004000     16             0                 0   \n",
              "350441            9.90  1184004000     16             0                 0   \n",
              "350442           10.40  1184004000     16             0                 0   \n",
              "350443            9.70  1184004000     16             0                 0   \n",
              "350444            9.80  1184004000     16             0                 0   \n",
              "\n",
              "        product_Wheat       PC1       PC2       PC3       PC4       PC5  \\\n",
              "0                   0  3.781658  1.597206 -0.231569  0.327539 -0.422582   \n",
              "1                   0  3.713158  1.502763 -0.156346  0.495098 -0.623663   \n",
              "2                   0  3.872774  1.673078 -0.514877  0.147105 -0.545803   \n",
              "3                   0  3.875117  1.675503 -0.520415  0.142061 -0.545247   \n",
              "4                   0  3.894926  1.694252 -0.573709  0.100911 -0.554342   \n",
              "...               ...       ...       ...       ...       ...       ...   \n",
              "350440              1 -4.100974 -0.358484  0.172790 -0.145473  0.453026   \n",
              "350441              1 -4.100974 -0.358484  0.172790 -0.145473  0.453026   \n",
              "350442              1 -4.100974 -0.358484  0.172790 -0.145473  0.453026   \n",
              "350443              1 -4.100974 -0.358484  0.172790 -0.145473  0.453026   \n",
              "350444              1 -4.098632 -0.356059  0.167252 -0.150516  0.453582   \n",
              "\n",
              "             PC6       PC7  month  year  \n",
              "0       0.499634 -0.862528     10  2009  \n",
              "1       0.532004 -0.868154     10  2009  \n",
              "2       1.158249 -0.604078     10  2009  \n",
              "3       1.168495 -0.599825     10  2009  \n",
              "4       1.279905 -0.555002     10  2009  \n",
              "...          ...       ...    ...   ...  \n",
              "350440  0.124937 -0.427422      7  2007  \n",
              "350441  0.124937 -0.427422      7  2007  \n",
              "350442  0.124937 -0.427422      7  2007  \n",
              "350443  0.124937 -0.427422      7  2007  \n",
              "350444  0.135182 -0.423169      7  2007  \n",
              "\n",
              "[350445 rows x 15 columns]"
            ]
          },
          "execution_count": 4,
          "metadata": {},
          "output_type": "execute_result"
        }
      ],
      "source": [
        "df"
      ]
    },
    {
      "cell_type": "code",
      "execution_count": null,
      "id": "8c5aeee2-b0d1-4928-bc04-a73435c83c1a",
      "metadata": {
        "id": "8c5aeee2-b0d1-4928-bc04-a73435c83c1a",
        "outputId": "a789f3ce-33a3-49ec-b374-474dd3fcdb41"
      },
      "outputs": [
        {
          "name": "stdout",
          "output_type": "stream",
          "text": [
            "Index(['crop_flow_lb_s', 'datetime', 'field', 'product_Corn',\n",
            "       'product_Soybeans', 'product_Wheat', 'PC1', 'PC2', 'PC3', 'PC4', 'PC5',\n",
            "       'PC6', 'PC7', 'month', 'year'],\n",
            "      dtype='object')\n"
          ]
        }
      ],
      "source": [
        "print(df.columns)"
      ]
    },
    {
      "cell_type": "code",
      "execution_count": null,
      "id": "c6b79cfe-eecc-48ab-afe4-6e47c3966820",
      "metadata": {
        "id": "c6b79cfe-eecc-48ab-afe4-6e47c3966820"
      },
      "outputs": [],
      "source": [
        "# Convert categorical data to numeric\n",
        "df['field'] = pd.Categorical(df['field'])\n",
        "df['field'] = df['field'].cat.codes\n",
        "\n",
        "# Specify the feature columns and the target column\n",
        "features = ['datetime', 'field', 'product_Corn',\n",
        "       'product_Soybeans', 'product_Wheat', 'PC1', 'PC2', 'PC3', 'PC4', 'PC5',\n",
        "       'PC6', 'PC7', 'month', 'year']\n",
        "target = 'crop_flow_lb_s'"
      ]
    },
    {
      "cell_type": "code",
      "execution_count": null,
      "id": "ca25d272-6178-42c6-97b0-f410e1a96c60",
      "metadata": {
        "id": "ca25d272-6178-42c6-97b0-f410e1a96c60"
      },
      "outputs": [],
      "source": [
        "from math import sqrt"
      ]
    },
    {
      "cell_type": "code",
      "execution_count": null,
      "id": "980d1206-a49d-4630-b561-d99e126f5780",
      "metadata": {
        "id": "980d1206-a49d-4630-b561-d99e126f5780",
        "outputId": "de18e754-119d-49c3-9f1b-9ac6817b216d"
      },
      "outputs": [
        {
          "name": "stderr",
          "output_type": "stream",
          "text": [
            "/Users/mayo/opt/anaconda3/envs/new_env/lib/python3.9/site-packages/lightgbm/engine.py:181: UserWarning: 'early_stopping_rounds' argument is deprecated and will be removed in a future release of LightGBM. Pass 'early_stopping()' callback via 'callbacks' argument instead.\n",
            "  _log_warning(\"'early_stopping_rounds' argument is deprecated and will be removed in a future release of LightGBM. \"\n",
            "/Users/mayo/opt/anaconda3/envs/new_env/lib/python3.9/site-packages/lightgbm/engine.py:239: UserWarning: 'verbose_eval' argument is deprecated and will be removed in a future release of LightGBM. Pass 'log_evaluation()' callback via 'callbacks' argument instead.\n",
            "  _log_warning(\"'verbose_eval' argument is deprecated and will be removed in a future release of LightGBM. \"\n"
          ]
        },
        {
          "name": "stdout",
          "output_type": "stream",
          "text": [
            "[LightGBM] [Warning] Auto-choosing row-wise multi-threading, the overhead of testing was 0.002140 seconds.\n",
            "You can set `force_row_wise=true` to remove the overhead.\n",
            "And if memory is not enough, you can set `force_col_wise=true`.\n",
            "[LightGBM] [Info] Total Bins 2035\n",
            "[LightGBM] [Info] Number of data points in the train set: 245311, number of used features: 14\n",
            "[LightGBM] [Info] Start training from score 5.743025\n",
            "Training until validation scores don't improve for 10 rounds\n",
            "[10]\ttraining's l2: 13.3937\tvalid_1's l2: 13.3395\n",
            "[20]\ttraining's l2: 11.4771\tvalid_1's l2: 11.4941\n",
            "[30]\ttraining's l2: 10.6749\tvalid_1's l2: 10.7459\n",
            "[40]\ttraining's l2: 10.2981\tvalid_1's l2: 10.4087\n",
            "[50]\ttraining's l2: 10.0923\tvalid_1's l2: 10.2243\n",
            "[60]\ttraining's l2: 9.95373\tvalid_1's l2: 10.1102\n",
            "[70]\ttraining's l2: 9.8504\tvalid_1's l2: 10.0217\n",
            "[80]\ttraining's l2: 9.7651\tvalid_1's l2: 9.9497\n",
            "[90]\ttraining's l2: 9.68644\tvalid_1's l2: 9.8838\n",
            "[100]\ttraining's l2: 9.62273\tvalid_1's l2: 9.82892\n",
            "[110]\ttraining's l2: 9.56326\tvalid_1's l2: 9.77792\n",
            "[120]\ttraining's l2: 9.51297\tvalid_1's l2: 9.73639\n",
            "[130]\ttraining's l2: 9.45599\tvalid_1's l2: 9.68895\n",
            "[140]\ttraining's l2: 9.4066\tvalid_1's l2: 9.64724\n",
            "[150]\ttraining's l2: 9.35723\tvalid_1's l2: 9.60583\n",
            "[160]\ttraining's l2: 9.30678\tvalid_1's l2: 9.56315\n",
            "[170]\ttraining's l2: 9.26605\tvalid_1's l2: 9.5315\n",
            "[180]\ttraining's l2: 9.2224\tvalid_1's l2: 9.49611\n",
            "[190]\ttraining's l2: 9.173\tvalid_1's l2: 9.4531\n",
            "[200]\ttraining's l2: 9.13697\tvalid_1's l2: 9.42334\n",
            "[210]\ttraining's l2: 9.0949\tvalid_1's l2: 9.38533\n",
            "[220]\ttraining's l2: 9.05348\tvalid_1's l2: 9.35071\n",
            "[230]\ttraining's l2: 9.01648\tvalid_1's l2: 9.32073\n",
            "[240]\ttraining's l2: 8.97668\tvalid_1's l2: 9.2862\n",
            "[250]\ttraining's l2: 8.93516\tvalid_1's l2: 9.2509\n",
            "[260]\ttraining's l2: 8.90561\tvalid_1's l2: 9.22414\n",
            "[270]\ttraining's l2: 8.87555\tvalid_1's l2: 9.19828\n",
            "[280]\ttraining's l2: 8.84286\tvalid_1's l2: 9.16998\n",
            "[290]\ttraining's l2: 8.80743\tvalid_1's l2: 9.13884\n",
            "[300]\ttraining's l2: 8.7745\tvalid_1's l2: 9.10861\n",
            "[310]\ttraining's l2: 8.74237\tvalid_1's l2: 9.08424\n",
            "[320]\ttraining's l2: 8.71296\tvalid_1's l2: 9.05964\n",
            "[330]\ttraining's l2: 8.68696\tvalid_1's l2: 9.03857\n",
            "[340]\ttraining's l2: 8.66187\tvalid_1's l2: 9.01723\n",
            "[350]\ttraining's l2: 8.63884\tvalid_1's l2: 8.99877\n",
            "[360]\ttraining's l2: 8.61032\tvalid_1's l2: 8.97421\n",
            "[370]\ttraining's l2: 8.58202\tvalid_1's l2: 8.95209\n",
            "[380]\ttraining's l2: 8.55712\tvalid_1's l2: 8.92873\n",
            "[390]\ttraining's l2: 8.52779\tvalid_1's l2: 8.90435\n",
            "[400]\ttraining's l2: 8.49866\tvalid_1's l2: 8.87917\n",
            "[410]\ttraining's l2: 8.47699\tvalid_1's l2: 8.8601\n",
            "[420]\ttraining's l2: 8.44197\tvalid_1's l2: 8.82934\n",
            "[430]\ttraining's l2: 8.41643\tvalid_1's l2: 8.8081\n",
            "[440]\ttraining's l2: 8.3843\tvalid_1's l2: 8.77964\n",
            "[450]\ttraining's l2: 8.3616\tvalid_1's l2: 8.76263\n",
            "[460]\ttraining's l2: 8.3371\tvalid_1's l2: 8.74076\n",
            "[470]\ttraining's l2: 8.31303\tvalid_1's l2: 8.7214\n",
            "[480]\ttraining's l2: 8.28765\tvalid_1's l2: 8.69976\n",
            "[490]\ttraining's l2: 8.26021\tvalid_1's l2: 8.67748\n",
            "[500]\ttraining's l2: 8.23583\tvalid_1's l2: 8.65784\n",
            "[510]\ttraining's l2: 8.21123\tvalid_1's l2: 8.63634\n",
            "[520]\ttraining's l2: 8.18766\tvalid_1's l2: 8.6179\n",
            "[530]\ttraining's l2: 8.15918\tvalid_1's l2: 8.59189\n",
            "[540]\ttraining's l2: 8.137\tvalid_1's l2: 8.57283\n",
            "[550]\ttraining's l2: 8.1107\tvalid_1's l2: 8.55022\n",
            "[560]\ttraining's l2: 8.0888\tvalid_1's l2: 8.53204\n",
            "[570]\ttraining's l2: 8.0686\tvalid_1's l2: 8.51486\n",
            "[580]\ttraining's l2: 8.04717\tvalid_1's l2: 8.49726\n",
            "[590]\ttraining's l2: 8.03072\tvalid_1's l2: 8.48474\n",
            "[600]\ttraining's l2: 8.00871\tvalid_1's l2: 8.46689\n",
            "[610]\ttraining's l2: 7.98461\tvalid_1's l2: 8.44596\n",
            "[620]\ttraining's l2: 7.96852\tvalid_1's l2: 8.43299\n",
            "[630]\ttraining's l2: 7.94654\tvalid_1's l2: 8.41506\n",
            "[640]\ttraining's l2: 7.93017\tvalid_1's l2: 8.40276\n",
            "[650]\ttraining's l2: 7.91128\tvalid_1's l2: 8.38692\n",
            "[660]\ttraining's l2: 7.89259\tvalid_1's l2: 8.37149\n",
            "[670]\ttraining's l2: 7.87124\tvalid_1's l2: 8.35451\n",
            "[680]\ttraining's l2: 7.85106\tvalid_1's l2: 8.33863\n",
            "[690]\ttraining's l2: 7.83526\tvalid_1's l2: 8.32506\n",
            "[700]\ttraining's l2: 7.81727\tvalid_1's l2: 8.31135\n",
            "[710]\ttraining's l2: 7.80075\tvalid_1's l2: 8.29646\n",
            "[720]\ttraining's l2: 7.78451\tvalid_1's l2: 8.28199\n",
            "[730]\ttraining's l2: 7.77141\tvalid_1's l2: 8.27131\n",
            "[740]\ttraining's l2: 7.75708\tvalid_1's l2: 8.25886\n",
            "[750]\ttraining's l2: 7.74186\tvalid_1's l2: 8.24579\n",
            "[760]\ttraining's l2: 7.72415\tvalid_1's l2: 8.2295\n",
            "[770]\ttraining's l2: 7.70677\tvalid_1's l2: 8.21496\n",
            "[780]\ttraining's l2: 7.68784\tvalid_1's l2: 8.19914\n",
            "[790]\ttraining's l2: 7.67593\tvalid_1's l2: 8.18851\n",
            "[800]\ttraining's l2: 7.65897\tvalid_1's l2: 8.17429\n",
            "[810]\ttraining's l2: 7.64276\tvalid_1's l2: 8.16109\n",
            "[820]\ttraining's l2: 7.62624\tvalid_1's l2: 8.14727\n",
            "[830]\ttraining's l2: 7.61162\tvalid_1's l2: 8.13595\n",
            "[840]\ttraining's l2: 7.59352\tvalid_1's l2: 8.11981\n",
            "[850]\ttraining's l2: 7.57765\tvalid_1's l2: 8.1053\n",
            "[860]\ttraining's l2: 7.56413\tvalid_1's l2: 8.09489\n",
            "[870]\ttraining's l2: 7.54909\tvalid_1's l2: 8.08129\n",
            "[880]\ttraining's l2: 7.53492\tvalid_1's l2: 8.06925\n",
            "[890]\ttraining's l2: 7.52185\tvalid_1's l2: 8.0582\n",
            "[900]\ttraining's l2: 7.50698\tvalid_1's l2: 8.0463\n",
            "[910]\ttraining's l2: 7.49557\tvalid_1's l2: 8.03776\n",
            "[920]\ttraining's l2: 7.48069\tvalid_1's l2: 8.02533\n",
            "[930]\ttraining's l2: 7.46831\tvalid_1's l2: 8.01452\n",
            "[940]\ttraining's l2: 7.454\tvalid_1's l2: 8.00244\n",
            "[950]\ttraining's l2: 7.43957\tvalid_1's l2: 7.98775\n",
            "[960]\ttraining's l2: 7.42738\tvalid_1's l2: 7.97496\n",
            "[970]\ttraining's l2: 7.41262\tvalid_1's l2: 7.96266\n",
            "[980]\ttraining's l2: 7.40018\tvalid_1's l2: 7.95211\n",
            "[990]\ttraining's l2: 7.38585\tvalid_1's l2: 7.93932\n",
            "[1000]\ttraining's l2: 7.3693\tvalid_1's l2: 7.92531\n",
            "Did not meet early stopping. Best iteration is:\n",
            "[1000]\ttraining's l2: 7.3693\tvalid_1's l2: 7.92531\n"
          ]
        },
        {
          "name": "stderr",
          "output_type": "stream",
          "text": [
            "/Users/mayo/opt/anaconda3/envs/new_env/lib/python3.9/site-packages/sklearn/utils/validation.py:605: FutureWarning: is_sparse is deprecated and will be removed in a future version. Check `isinstance(dtype, pd.SparseDtype)` instead.\n",
            "  if is_sparse(pd_dtype):\n",
            "/Users/mayo/opt/anaconda3/envs/new_env/lib/python3.9/site-packages/sklearn/utils/validation.py:614: FutureWarning: is_sparse is deprecated and will be removed in a future version. Check `isinstance(dtype, pd.SparseDtype)` instead.\n",
            "  if is_sparse(pd_dtype) or not is_extension_array_dtype(pd_dtype):\n",
            "/Users/mayo/opt/anaconda3/envs/new_env/lib/python3.9/site-packages/sklearn/utils/validation.py:605: FutureWarning: is_sparse is deprecated and will be removed in a future version. Check `isinstance(dtype, pd.SparseDtype)` instead.\n",
            "  if is_sparse(pd_dtype):\n",
            "/Users/mayo/opt/anaconda3/envs/new_env/lib/python3.9/site-packages/sklearn/utils/validation.py:614: FutureWarning: is_sparse is deprecated and will be removed in a future version. Check `isinstance(dtype, pd.SparseDtype)` instead.\n",
            "  if is_sparse(pd_dtype) or not is_extension_array_dtype(pd_dtype):\n",
            "/Users/mayo/opt/anaconda3/envs/new_env/lib/python3.9/site-packages/sklearn/utils/validation.py:605: FutureWarning: is_sparse is deprecated and will be removed in a future version. Check `isinstance(dtype, pd.SparseDtype)` instead.\n",
            "  if is_sparse(pd_dtype):\n",
            "/Users/mayo/opt/anaconda3/envs/new_env/lib/python3.9/site-packages/sklearn/utils/validation.py:614: FutureWarning: is_sparse is deprecated and will be removed in a future version. Check `isinstance(dtype, pd.SparseDtype)` instead.\n",
            "  if is_sparse(pd_dtype) or not is_extension_array_dtype(pd_dtype):\n"
          ]
        }
      ],
      "source": [
        "# Split the dataset into train, test, and validation sets\n",
        "X_train, X_temp, y_train, y_temp = train_test_split(df[features], df[target], test_size=0.3, random_state=42)\n",
        "X_valid, X_test, y_valid, y_test = train_test_split(X_temp, y_temp, test_size=0.5, random_state=42)\n",
        "\n",
        "# Create Light GBM datasets\n",
        "train_data = lgb.Dataset(X_train, label=y_train)\n",
        "valid_data = lgb.Dataset(X_valid, label=y_valid, reference=train_data)\n",
        "\n",
        "# Set the parameters for the Light GBM model\n",
        "params = {\n",
        "    'objective': 'regression',\n",
        "    'metric': 'mse',\n",
        "    'boosting_type': 'gbdt',\n",
        "    'num_leaves': 31,\n",
        "    'learning_rate': 0.05,\n",
        "    'feature_fraction': 0.9\n",
        "}\n",
        "\n",
        "# Train the Light GBM model\n",
        "num_round = 1000\n",
        "bst = lgb.train(params, train_data, num_round, valid_sets=[train_data, valid_data], early_stopping_rounds=10, verbose_eval=10)\n",
        "\n",
        "# Make predictions on the test set\n",
        "y_pred = bst.predict(X_test, num_iteration=bst.best_iteration)\n",
        "\n",
        "# Evaluate the model\n",
        "mse = mean_squared_error(y_test, y_pred)\n",
        "mae = mean_absolute_error(y_test, y_pred)\n",
        "rmse = sqrt(mse)\n",
        "r2 = r2_score(y_test, y_pred)"
      ]
    },
    {
      "cell_type": "code",
      "execution_count": null,
      "id": "5bd3fb01-877e-4340-83a8-0d1f9de3a0c5",
      "metadata": {
        "id": "5bd3fb01-877e-4340-83a8-0d1f9de3a0c5",
        "outputId": "2f1e4c2b-d13a-4cba-dfda-8fa77f994780"
      },
      "outputs": [
        {
          "name": "stdout",
          "output_type": "stream",
          "text": [
            "Mean Squared Error (MSE): 7.819726202403099\n",
            "Mean Absolute Error (MAE): 2.028089105744312\n",
            "Root Mean Squared Error (RMSE): 2.796377335483017\n",
            "R-squared (R2): 0.5705876677132984\n"
          ]
        }
      ],
      "source": [
        "# Print the results\n",
        "print(f'Mean Squared Error (MSE): {mse}')\n",
        "print(f'Mean Absolute Error (MAE): {mae}')\n",
        "print(f'Root Mean Squared Error (RMSE): {rmse}')\n",
        "print(f'R-squared (R2): {r2}')"
      ]
    },
    {
      "cell_type": "code",
      "execution_count": null,
      "id": "cbba3216-e352-43cc-8b5e-b4be1b5fbf2c",
      "metadata": {
        "id": "cbba3216-e352-43cc-8b5e-b4be1b5fbf2c",
        "outputId": "233534f3-9922-4ee7-a33c-fa7b11c043ea"
      },
      "outputs": [
        {
          "name": "stdout",
          "output_type": "stream",
          "text": [
            "Fitting 3 folds for each of 27 candidates, totalling 81 fits\n",
            "[LightGBM] [Warning] feature_fraction is set=0.8, colsample_bytree=1.0 will be ignored. Current value: feature_fraction=0.8\n"
          ]
        },
        {
          "name": "stderr",
          "output_type": "stream",
          "text": [
            "/Users/mayo/opt/anaconda3/envs/new_env/lib/python3.9/site-packages/sklearn/utils/validation.py:605: FutureWarning: is_sparse is deprecated and will be removed in a future version. Check `isinstance(dtype, pd.SparseDtype)` instead.\n",
            "  if is_sparse(pd_dtype):\n",
            "/Users/mayo/opt/anaconda3/envs/new_env/lib/python3.9/site-packages/sklearn/utils/validation.py:614: FutureWarning: is_sparse is deprecated and will be removed in a future version. Check `isinstance(dtype, pd.SparseDtype)` instead.\n",
            "  if is_sparse(pd_dtype) or not is_extension_array_dtype(pd_dtype):\n"
          ]
        },
        {
          "name": "stdout",
          "output_type": "stream",
          "text": [
            "[LightGBM] [Warning] feature_fraction is set=0.8, colsample_bytree=1.0 will be ignored. Current value: feature_fraction=0.8\n"
          ]
        },
        {
          "name": "stderr",
          "output_type": "stream",
          "text": [
            "/Users/mayo/opt/anaconda3/envs/new_env/lib/python3.9/site-packages/sklearn/utils/validation.py:605: FutureWarning: is_sparse is deprecated and will be removed in a future version. Check `isinstance(dtype, pd.SparseDtype)` instead.\n",
            "  if is_sparse(pd_dtype):\n",
            "/Users/mayo/opt/anaconda3/envs/new_env/lib/python3.9/site-packages/sklearn/utils/validation.py:614: FutureWarning: is_sparse is deprecated and will be removed in a future version. Check `isinstance(dtype, pd.SparseDtype)` instead.\n",
            "  if is_sparse(pd_dtype) or not is_extension_array_dtype(pd_dtype):\n"
          ]
        },
        {
          "name": "stdout",
          "output_type": "stream",
          "text": [
            "[LightGBM] [Warning] feature_fraction is set=0.8, colsample_bytree=1.0 will be ignored. Current value: feature_fraction=0.8\n"
          ]
        },
        {
          "name": "stderr",
          "output_type": "stream",
          "text": [
            "/Users/mayo/opt/anaconda3/envs/new_env/lib/python3.9/site-packages/sklearn/utils/validation.py:605: FutureWarning: is_sparse is deprecated and will be removed in a future version. Check `isinstance(dtype, pd.SparseDtype)` instead.\n",
            "  if is_sparse(pd_dtype):\n",
            "/Users/mayo/opt/anaconda3/envs/new_env/lib/python3.9/site-packages/sklearn/utils/validation.py:614: FutureWarning: is_sparse is deprecated and will be removed in a future version. Check `isinstance(dtype, pd.SparseDtype)` instead.\n",
            "  if is_sparse(pd_dtype) or not is_extension_array_dtype(pd_dtype):\n"
          ]
        },
        {
          "name": "stdout",
          "output_type": "stream",
          "text": [
            "[LightGBM] [Warning] feature_fraction is set=0.8, colsample_bytree=1.0 will be ignored. Current value: feature_fraction=0.8\n"
          ]
        },
        {
          "name": "stderr",
          "output_type": "stream",
          "text": [
            "/Users/mayo/opt/anaconda3/envs/new_env/lib/python3.9/site-packages/sklearn/utils/validation.py:605: FutureWarning: is_sparse is deprecated and will be removed in a future version. Check `isinstance(dtype, pd.SparseDtype)` instead.\n",
            "  if is_sparse(pd_dtype):\n",
            "/Users/mayo/opt/anaconda3/envs/new_env/lib/python3.9/site-packages/sklearn/utils/validation.py:614: FutureWarning: is_sparse is deprecated and will be removed in a future version. Check `isinstance(dtype, pd.SparseDtype)` instead.\n",
            "  if is_sparse(pd_dtype) or not is_extension_array_dtype(pd_dtype):\n"
          ]
        },
        {
          "name": "stdout",
          "output_type": "stream",
          "text": [
            "[LightGBM] [Warning] feature_fraction is set=0.8, colsample_bytree=1.0 will be ignored. Current value: feature_fraction=0.8\n"
          ]
        },
        {
          "name": "stderr",
          "output_type": "stream",
          "text": [
            "/Users/mayo/opt/anaconda3/envs/new_env/lib/python3.9/site-packages/sklearn/utils/validation.py:605: FutureWarning: is_sparse is deprecated and will be removed in a future version. Check `isinstance(dtype, pd.SparseDtype)` instead.\n",
            "  if is_sparse(pd_dtype):\n",
            "/Users/mayo/opt/anaconda3/envs/new_env/lib/python3.9/site-packages/sklearn/utils/validation.py:614: FutureWarning: is_sparse is deprecated and will be removed in a future version. Check `isinstance(dtype, pd.SparseDtype)` instead.\n",
            "  if is_sparse(pd_dtype) or not is_extension_array_dtype(pd_dtype):\n"
          ]
        },
        {
          "name": "stdout",
          "output_type": "stream",
          "text": [
            "[LightGBM] [Warning] feature_fraction is set=0.8, colsample_bytree=1.0 will be ignored. Current value: feature_fraction=0.8\n"
          ]
        },
        {
          "name": "stderr",
          "output_type": "stream",
          "text": [
            "/Users/mayo/opt/anaconda3/envs/new_env/lib/python3.9/site-packages/sklearn/utils/validation.py:605: FutureWarning: is_sparse is deprecated and will be removed in a future version. Check `isinstance(dtype, pd.SparseDtype)` instead.\n",
            "  if is_sparse(pd_dtype):\n",
            "/Users/mayo/opt/anaconda3/envs/new_env/lib/python3.9/site-packages/sklearn/utils/validation.py:614: FutureWarning: is_sparse is deprecated and will be removed in a future version. Check `isinstance(dtype, pd.SparseDtype)` instead.\n",
            "  if is_sparse(pd_dtype) or not is_extension_array_dtype(pd_dtype):\n"
          ]
        },
        {
          "name": "stdout",
          "output_type": "stream",
          "text": [
            "[LightGBM] [Warning] feature_fraction is set=0.8, colsample_bytree=1.0 will be ignored. Current value: feature_fraction=0.8\n"
          ]
        },
        {
          "name": "stderr",
          "output_type": "stream",
          "text": [
            "/Users/mayo/opt/anaconda3/envs/new_env/lib/python3.9/site-packages/sklearn/utils/validation.py:605: FutureWarning: is_sparse is deprecated and will be removed in a future version. Check `isinstance(dtype, pd.SparseDtype)` instead.\n",
            "  if is_sparse(pd_dtype):\n",
            "/Users/mayo/opt/anaconda3/envs/new_env/lib/python3.9/site-packages/sklearn/utils/validation.py:614: FutureWarning: is_sparse is deprecated and will be removed in a future version. Check `isinstance(dtype, pd.SparseDtype)` instead.\n",
            "  if is_sparse(pd_dtype) or not is_extension_array_dtype(pd_dtype):\n"
          ]
        },
        {
          "name": "stdout",
          "output_type": "stream",
          "text": [
            "[LightGBM] [Warning] feature_fraction is set=0.8, colsample_bytree=1.0 will be ignored. Current value: feature_fraction=0.8\n"
          ]
        },
        {
          "name": "stderr",
          "output_type": "stream",
          "text": [
            "/Users/mayo/opt/anaconda3/envs/new_env/lib/python3.9/site-packages/sklearn/utils/validation.py:605: FutureWarning: is_sparse is deprecated and will be removed in a future version. Check `isinstance(dtype, pd.SparseDtype)` instead.\n",
            "  if is_sparse(pd_dtype):\n",
            "/Users/mayo/opt/anaconda3/envs/new_env/lib/python3.9/site-packages/sklearn/utils/validation.py:614: FutureWarning: is_sparse is deprecated and will be removed in a future version. Check `isinstance(dtype, pd.SparseDtype)` instead.\n",
            "  if is_sparse(pd_dtype) or not is_extension_array_dtype(pd_dtype):\n"
          ]
        },
        {
          "name": "stdout",
          "output_type": "stream",
          "text": [
            "[LightGBM] [Warning] feature_fraction is set=0.8, colsample_bytree=1.0 will be ignored. Current value: feature_fraction=0.8\n"
          ]
        },
        {
          "name": "stderr",
          "output_type": "stream",
          "text": [
            "/Users/mayo/opt/anaconda3/envs/new_env/lib/python3.9/site-packages/sklearn/utils/validation.py:605: FutureWarning: is_sparse is deprecated and will be removed in a future version. Check `isinstance(dtype, pd.SparseDtype)` instead.\n",
            "  if is_sparse(pd_dtype):\n",
            "/Users/mayo/opt/anaconda3/envs/new_env/lib/python3.9/site-packages/sklearn/utils/validation.py:614: FutureWarning: is_sparse is deprecated and will be removed in a future version. Check `isinstance(dtype, pd.SparseDtype)` instead.\n",
            "  if is_sparse(pd_dtype) or not is_extension_array_dtype(pd_dtype):\n"
          ]
        },
        {
          "name": "stdout",
          "output_type": "stream",
          "text": [
            "[LightGBM] [Warning] feature_fraction is set=0.8, colsample_bytree=1.0 will be ignored. Current value: feature_fraction=0.8\n"
          ]
        },
        {
          "name": "stderr",
          "output_type": "stream",
          "text": [
            "/Users/mayo/opt/anaconda3/envs/new_env/lib/python3.9/site-packages/sklearn/utils/validation.py:605: FutureWarning: is_sparse is deprecated and will be removed in a future version. Check `isinstance(dtype, pd.SparseDtype)` instead.\n",
            "  if is_sparse(pd_dtype):\n",
            "/Users/mayo/opt/anaconda3/envs/new_env/lib/python3.9/site-packages/sklearn/utils/validation.py:614: FutureWarning: is_sparse is deprecated and will be removed in a future version. Check `isinstance(dtype, pd.SparseDtype)` instead.\n",
            "  if is_sparse(pd_dtype) or not is_extension_array_dtype(pd_dtype):\n"
          ]
        },
        {
          "name": "stdout",
          "output_type": "stream",
          "text": [
            "[LightGBM] [Warning] feature_fraction is set=0.8, colsample_bytree=1.0 will be ignored. Current value: feature_fraction=0.8\n"
          ]
        },
        {
          "name": "stderr",
          "output_type": "stream",
          "text": [
            "/Users/mayo/opt/anaconda3/envs/new_env/lib/python3.9/site-packages/sklearn/utils/validation.py:605: FutureWarning: is_sparse is deprecated and will be removed in a future version. Check `isinstance(dtype, pd.SparseDtype)` instead.\n",
            "  if is_sparse(pd_dtype):\n",
            "/Users/mayo/opt/anaconda3/envs/new_env/lib/python3.9/site-packages/sklearn/utils/validation.py:614: FutureWarning: is_sparse is deprecated and will be removed in a future version. Check `isinstance(dtype, pd.SparseDtype)` instead.\n",
            "  if is_sparse(pd_dtype) or not is_extension_array_dtype(pd_dtype):\n"
          ]
        },
        {
          "name": "stdout",
          "output_type": "stream",
          "text": [
            "[LightGBM] [Warning] feature_fraction is set=0.8, colsample_bytree=1.0 will be ignored. Current value: feature_fraction=0.8\n"
          ]
        },
        {
          "name": "stderr",
          "output_type": "stream",
          "text": [
            "/Users/mayo/opt/anaconda3/envs/new_env/lib/python3.9/site-packages/sklearn/utils/validation.py:605: FutureWarning: is_sparse is deprecated and will be removed in a future version. Check `isinstance(dtype, pd.SparseDtype)` instead.\n",
            "  if is_sparse(pd_dtype):\n",
            "/Users/mayo/opt/anaconda3/envs/new_env/lib/python3.9/site-packages/sklearn/utils/validation.py:614: FutureWarning: is_sparse is deprecated and will be removed in a future version. Check `isinstance(dtype, pd.SparseDtype)` instead.\n",
            "  if is_sparse(pd_dtype) or not is_extension_array_dtype(pd_dtype):\n"
          ]
        },
        {
          "name": "stdout",
          "output_type": "stream",
          "text": [
            "[LightGBM] [Warning] feature_fraction is set=0.8, colsample_bytree=1.0 will be ignored. Current value: feature_fraction=0.8\n"
          ]
        },
        {
          "name": "stderr",
          "output_type": "stream",
          "text": [
            "/Users/mayo/opt/anaconda3/envs/new_env/lib/python3.9/site-packages/sklearn/utils/validation.py:605: FutureWarning: is_sparse is deprecated and will be removed in a future version. Check `isinstance(dtype, pd.SparseDtype)` instead.\n",
            "  if is_sparse(pd_dtype):\n",
            "/Users/mayo/opt/anaconda3/envs/new_env/lib/python3.9/site-packages/sklearn/utils/validation.py:614: FutureWarning: is_sparse is deprecated and will be removed in a future version. Check `isinstance(dtype, pd.SparseDtype)` instead.\n",
            "  if is_sparse(pd_dtype) or not is_extension_array_dtype(pd_dtype):\n"
          ]
        },
        {
          "name": "stdout",
          "output_type": "stream",
          "text": [
            "[LightGBM] [Warning] feature_fraction is set=0.8, colsample_bytree=1.0 will be ignored. Current value: feature_fraction=0.8\n"
          ]
        },
        {
          "name": "stderr",
          "output_type": "stream",
          "text": [
            "/Users/mayo/opt/anaconda3/envs/new_env/lib/python3.9/site-packages/sklearn/utils/validation.py:605: FutureWarning: is_sparse is deprecated and will be removed in a future version. Check `isinstance(dtype, pd.SparseDtype)` instead.\n",
            "  if is_sparse(pd_dtype):\n",
            "/Users/mayo/opt/anaconda3/envs/new_env/lib/python3.9/site-packages/sklearn/utils/validation.py:614: FutureWarning: is_sparse is deprecated and will be removed in a future version. Check `isinstance(dtype, pd.SparseDtype)` instead.\n",
            "  if is_sparse(pd_dtype) or not is_extension_array_dtype(pd_dtype):\n"
          ]
        },
        {
          "name": "stdout",
          "output_type": "stream",
          "text": [
            "[LightGBM] [Warning] feature_fraction is set=0.8, colsample_bytree=1.0 will be ignored. Current value: feature_fraction=0.8\n"
          ]
        },
        {
          "name": "stderr",
          "output_type": "stream",
          "text": [
            "/Users/mayo/opt/anaconda3/envs/new_env/lib/python3.9/site-packages/sklearn/utils/validation.py:605: FutureWarning: is_sparse is deprecated and will be removed in a future version. Check `isinstance(dtype, pd.SparseDtype)` instead.\n",
            "  if is_sparse(pd_dtype):\n",
            "/Users/mayo/opt/anaconda3/envs/new_env/lib/python3.9/site-packages/sklearn/utils/validation.py:614: FutureWarning: is_sparse is deprecated and will be removed in a future version. Check `isinstance(dtype, pd.SparseDtype)` instead.\n",
            "  if is_sparse(pd_dtype) or not is_extension_array_dtype(pd_dtype):\n"
          ]
        },
        {
          "name": "stdout",
          "output_type": "stream",
          "text": [
            "[LightGBM] [Warning] feature_fraction is set=0.8, colsample_bytree=1.0 will be ignored. Current value: feature_fraction=0.8\n"
          ]
        },
        {
          "name": "stderr",
          "output_type": "stream",
          "text": [
            "/Users/mayo/opt/anaconda3/envs/new_env/lib/python3.9/site-packages/sklearn/utils/validation.py:605: FutureWarning: is_sparse is deprecated and will be removed in a future version. Check `isinstance(dtype, pd.SparseDtype)` instead.\n",
            "  if is_sparse(pd_dtype):\n",
            "/Users/mayo/opt/anaconda3/envs/new_env/lib/python3.9/site-packages/sklearn/utils/validation.py:614: FutureWarning: is_sparse is deprecated and will be removed in a future version. Check `isinstance(dtype, pd.SparseDtype)` instead.\n",
            "  if is_sparse(pd_dtype) or not is_extension_array_dtype(pd_dtype):\n"
          ]
        },
        {
          "name": "stdout",
          "output_type": "stream",
          "text": [
            "[LightGBM] [Warning] feature_fraction is set=0.8, colsample_bytree=1.0 will be ignored. Current value: feature_fraction=0.8\n"
          ]
        },
        {
          "name": "stderr",
          "output_type": "stream",
          "text": [
            "/Users/mayo/opt/anaconda3/envs/new_env/lib/python3.9/site-packages/sklearn/utils/validation.py:605: FutureWarning: is_sparse is deprecated and will be removed in a future version. Check `isinstance(dtype, pd.SparseDtype)` instead.\n",
            "  if is_sparse(pd_dtype):\n",
            "/Users/mayo/opt/anaconda3/envs/new_env/lib/python3.9/site-packages/sklearn/utils/validation.py:614: FutureWarning: is_sparse is deprecated and will be removed in a future version. Check `isinstance(dtype, pd.SparseDtype)` instead.\n",
            "  if is_sparse(pd_dtype) or not is_extension_array_dtype(pd_dtype):\n"
          ]
        },
        {
          "name": "stdout",
          "output_type": "stream",
          "text": [
            "[LightGBM] [Warning] feature_fraction is set=0.8, colsample_bytree=1.0 will be ignored. Current value: feature_fraction=0.8\n"
          ]
        },
        {
          "name": "stderr",
          "output_type": "stream",
          "text": [
            "/Users/mayo/opt/anaconda3/envs/new_env/lib/python3.9/site-packages/sklearn/utils/validation.py:605: FutureWarning: is_sparse is deprecated and will be removed in a future version. Check `isinstance(dtype, pd.SparseDtype)` instead.\n",
            "  if is_sparse(pd_dtype):\n",
            "/Users/mayo/opt/anaconda3/envs/new_env/lib/python3.9/site-packages/sklearn/utils/validation.py:614: FutureWarning: is_sparse is deprecated and will be removed in a future version. Check `isinstance(dtype, pd.SparseDtype)` instead.\n",
            "  if is_sparse(pd_dtype) or not is_extension_array_dtype(pd_dtype):\n"
          ]
        },
        {
          "name": "stdout",
          "output_type": "stream",
          "text": [
            "[LightGBM] [Warning] feature_fraction is set=0.8, colsample_bytree=1.0 will be ignored. Current value: feature_fraction=0.8\n"
          ]
        },
        {
          "name": "stderr",
          "output_type": "stream",
          "text": [
            "/Users/mayo/opt/anaconda3/envs/new_env/lib/python3.9/site-packages/sklearn/utils/validation.py:605: FutureWarning: is_sparse is deprecated and will be removed in a future version. Check `isinstance(dtype, pd.SparseDtype)` instead.\n",
            "  if is_sparse(pd_dtype):\n",
            "/Users/mayo/opt/anaconda3/envs/new_env/lib/python3.9/site-packages/sklearn/utils/validation.py:614: FutureWarning: is_sparse is deprecated and will be removed in a future version. Check `isinstance(dtype, pd.SparseDtype)` instead.\n",
            "  if is_sparse(pd_dtype) or not is_extension_array_dtype(pd_dtype):\n"
          ]
        },
        {
          "name": "stdout",
          "output_type": "stream",
          "text": [
            "[LightGBM] [Warning] feature_fraction is set=0.8, colsample_bytree=1.0 will be ignored. Current value: feature_fraction=0.8\n"
          ]
        },
        {
          "name": "stderr",
          "output_type": "stream",
          "text": [
            "/Users/mayo/opt/anaconda3/envs/new_env/lib/python3.9/site-packages/sklearn/utils/validation.py:605: FutureWarning: is_sparse is deprecated and will be removed in a future version. Check `isinstance(dtype, pd.SparseDtype)` instead.\n",
            "  if is_sparse(pd_dtype):\n",
            "/Users/mayo/opt/anaconda3/envs/new_env/lib/python3.9/site-packages/sklearn/utils/validation.py:614: FutureWarning: is_sparse is deprecated and will be removed in a future version. Check `isinstance(dtype, pd.SparseDtype)` instead.\n",
            "  if is_sparse(pd_dtype) or not is_extension_array_dtype(pd_dtype):\n"
          ]
        },
        {
          "name": "stdout",
          "output_type": "stream",
          "text": [
            "[LightGBM] [Warning] feature_fraction is set=0.8, colsample_bytree=1.0 will be ignored. Current value: feature_fraction=0.8\n"
          ]
        },
        {
          "name": "stderr",
          "output_type": "stream",
          "text": [
            "/Users/mayo/opt/anaconda3/envs/new_env/lib/python3.9/site-packages/sklearn/utils/validation.py:605: FutureWarning: is_sparse is deprecated and will be removed in a future version. Check `isinstance(dtype, pd.SparseDtype)` instead.\n",
            "  if is_sparse(pd_dtype):\n",
            "/Users/mayo/opt/anaconda3/envs/new_env/lib/python3.9/site-packages/sklearn/utils/validation.py:614: FutureWarning: is_sparse is deprecated and will be removed in a future version. Check `isinstance(dtype, pd.SparseDtype)` instead.\n",
            "  if is_sparse(pd_dtype) or not is_extension_array_dtype(pd_dtype):\n"
          ]
        },
        {
          "name": "stdout",
          "output_type": "stream",
          "text": [
            "[LightGBM] [Warning] feature_fraction is set=0.8, colsample_bytree=1.0 will be ignored. Current value: feature_fraction=0.8\n"
          ]
        },
        {
          "name": "stderr",
          "output_type": "stream",
          "text": [
            "/Users/mayo/opt/anaconda3/envs/new_env/lib/python3.9/site-packages/sklearn/utils/validation.py:605: FutureWarning: is_sparse is deprecated and will be removed in a future version. Check `isinstance(dtype, pd.SparseDtype)` instead.\n",
            "  if is_sparse(pd_dtype):\n",
            "/Users/mayo/opt/anaconda3/envs/new_env/lib/python3.9/site-packages/sklearn/utils/validation.py:614: FutureWarning: is_sparse is deprecated and will be removed in a future version. Check `isinstance(dtype, pd.SparseDtype)` instead.\n",
            "  if is_sparse(pd_dtype) or not is_extension_array_dtype(pd_dtype):\n"
          ]
        },
        {
          "name": "stdout",
          "output_type": "stream",
          "text": [
            "[LightGBM] [Warning] feature_fraction is set=0.8, colsample_bytree=1.0 will be ignored. Current value: feature_fraction=0.8\n"
          ]
        },
        {
          "name": "stderr",
          "output_type": "stream",
          "text": [
            "/Users/mayo/opt/anaconda3/envs/new_env/lib/python3.9/site-packages/sklearn/utils/validation.py:605: FutureWarning: is_sparse is deprecated and will be removed in a future version. Check `isinstance(dtype, pd.SparseDtype)` instead.\n",
            "  if is_sparse(pd_dtype):\n",
            "/Users/mayo/opt/anaconda3/envs/new_env/lib/python3.9/site-packages/sklearn/utils/validation.py:614: FutureWarning: is_sparse is deprecated and will be removed in a future version. Check `isinstance(dtype, pd.SparseDtype)` instead.\n",
            "  if is_sparse(pd_dtype) or not is_extension_array_dtype(pd_dtype):\n"
          ]
        },
        {
          "name": "stdout",
          "output_type": "stream",
          "text": [
            "[LightGBM] [Warning] feature_fraction is set=0.8, colsample_bytree=1.0 will be ignored. Current value: feature_fraction=0.8\n"
          ]
        },
        {
          "name": "stderr",
          "output_type": "stream",
          "text": [
            "/Users/mayo/opt/anaconda3/envs/new_env/lib/python3.9/site-packages/sklearn/utils/validation.py:605: FutureWarning: is_sparse is deprecated and will be removed in a future version. Check `isinstance(dtype, pd.SparseDtype)` instead.\n",
            "  if is_sparse(pd_dtype):\n",
            "/Users/mayo/opt/anaconda3/envs/new_env/lib/python3.9/site-packages/sklearn/utils/validation.py:614: FutureWarning: is_sparse is deprecated and will be removed in a future version. Check `isinstance(dtype, pd.SparseDtype)` instead.\n",
            "  if is_sparse(pd_dtype) or not is_extension_array_dtype(pd_dtype):\n"
          ]
        },
        {
          "name": "stdout",
          "output_type": "stream",
          "text": [
            "[LightGBM] [Warning] feature_fraction is set=0.8, colsample_bytree=1.0 will be ignored. Current value: feature_fraction=0.8\n"
          ]
        },
        {
          "name": "stderr",
          "output_type": "stream",
          "text": [
            "/Users/mayo/opt/anaconda3/envs/new_env/lib/python3.9/site-packages/sklearn/utils/validation.py:605: FutureWarning: is_sparse is deprecated and will be removed in a future version. Check `isinstance(dtype, pd.SparseDtype)` instead.\n",
            "  if is_sparse(pd_dtype):\n",
            "/Users/mayo/opt/anaconda3/envs/new_env/lib/python3.9/site-packages/sklearn/utils/validation.py:614: FutureWarning: is_sparse is deprecated and will be removed in a future version. Check `isinstance(dtype, pd.SparseDtype)` instead.\n",
            "  if is_sparse(pd_dtype) or not is_extension_array_dtype(pd_dtype):\n"
          ]
        },
        {
          "name": "stdout",
          "output_type": "stream",
          "text": [
            "[LightGBM] [Warning] feature_fraction is set=0.8, colsample_bytree=1.0 will be ignored. Current value: feature_fraction=0.8\n"
          ]
        },
        {
          "name": "stderr",
          "output_type": "stream",
          "text": [
            "/Users/mayo/opt/anaconda3/envs/new_env/lib/python3.9/site-packages/sklearn/utils/validation.py:605: FutureWarning: is_sparse is deprecated and will be removed in a future version. Check `isinstance(dtype, pd.SparseDtype)` instead.\n",
            "  if is_sparse(pd_dtype):\n",
            "/Users/mayo/opt/anaconda3/envs/new_env/lib/python3.9/site-packages/sklearn/utils/validation.py:614: FutureWarning: is_sparse is deprecated and will be removed in a future version. Check `isinstance(dtype, pd.SparseDtype)` instead.\n",
            "  if is_sparse(pd_dtype) or not is_extension_array_dtype(pd_dtype):\n"
          ]
        },
        {
          "name": "stdout",
          "output_type": "stream",
          "text": [
            "[LightGBM] [Warning] feature_fraction is set=0.8, colsample_bytree=1.0 will be ignored. Current value: feature_fraction=0.8\n"
          ]
        },
        {
          "name": "stderr",
          "output_type": "stream",
          "text": [
            "/Users/mayo/opt/anaconda3/envs/new_env/lib/python3.9/site-packages/sklearn/utils/validation.py:605: FutureWarning: is_sparse is deprecated and will be removed in a future version. Check `isinstance(dtype, pd.SparseDtype)` instead.\n",
            "  if is_sparse(pd_dtype):\n",
            "/Users/mayo/opt/anaconda3/envs/new_env/lib/python3.9/site-packages/sklearn/utils/validation.py:614: FutureWarning: is_sparse is deprecated and will be removed in a future version. Check `isinstance(dtype, pd.SparseDtype)` instead.\n",
            "  if is_sparse(pd_dtype) or not is_extension_array_dtype(pd_dtype):\n"
          ]
        },
        {
          "name": "stdout",
          "output_type": "stream",
          "text": [
            "[LightGBM] [Warning] feature_fraction is set=0.9, colsample_bytree=1.0 will be ignored. Current value: feature_fraction=0.9\n"
          ]
        },
        {
          "name": "stderr",
          "output_type": "stream",
          "text": [
            "/Users/mayo/opt/anaconda3/envs/new_env/lib/python3.9/site-packages/sklearn/utils/validation.py:605: FutureWarning: is_sparse is deprecated and will be removed in a future version. Check `isinstance(dtype, pd.SparseDtype)` instead.\n",
            "  if is_sparse(pd_dtype):\n",
            "/Users/mayo/opt/anaconda3/envs/new_env/lib/python3.9/site-packages/sklearn/utils/validation.py:614: FutureWarning: is_sparse is deprecated and will be removed in a future version. Check `isinstance(dtype, pd.SparseDtype)` instead.\n",
            "  if is_sparse(pd_dtype) or not is_extension_array_dtype(pd_dtype):\n"
          ]
        },
        {
          "name": "stdout",
          "output_type": "stream",
          "text": [
            "[LightGBM] [Warning] feature_fraction is set=0.9, colsample_bytree=1.0 will be ignored. Current value: feature_fraction=0.9\n"
          ]
        },
        {
          "name": "stderr",
          "output_type": "stream",
          "text": [
            "/Users/mayo/opt/anaconda3/envs/new_env/lib/python3.9/site-packages/sklearn/utils/validation.py:605: FutureWarning: is_sparse is deprecated and will be removed in a future version. Check `isinstance(dtype, pd.SparseDtype)` instead.\n",
            "  if is_sparse(pd_dtype):\n",
            "/Users/mayo/opt/anaconda3/envs/new_env/lib/python3.9/site-packages/sklearn/utils/validation.py:614: FutureWarning: is_sparse is deprecated and will be removed in a future version. Check `isinstance(dtype, pd.SparseDtype)` instead.\n",
            "  if is_sparse(pd_dtype) or not is_extension_array_dtype(pd_dtype):\n"
          ]
        },
        {
          "name": "stdout",
          "output_type": "stream",
          "text": [
            "[LightGBM] [Warning] feature_fraction is set=0.9, colsample_bytree=1.0 will be ignored. Current value: feature_fraction=0.9\n"
          ]
        },
        {
          "name": "stderr",
          "output_type": "stream",
          "text": [
            "/Users/mayo/opt/anaconda3/envs/new_env/lib/python3.9/site-packages/sklearn/utils/validation.py:605: FutureWarning: is_sparse is deprecated and will be removed in a future version. Check `isinstance(dtype, pd.SparseDtype)` instead.\n",
            "  if is_sparse(pd_dtype):\n",
            "/Users/mayo/opt/anaconda3/envs/new_env/lib/python3.9/site-packages/sklearn/utils/validation.py:614: FutureWarning: is_sparse is deprecated and will be removed in a future version. Check `isinstance(dtype, pd.SparseDtype)` instead.\n",
            "  if is_sparse(pd_dtype) or not is_extension_array_dtype(pd_dtype):\n"
          ]
        },
        {
          "name": "stdout",
          "output_type": "stream",
          "text": [
            "[LightGBM] [Warning] feature_fraction is set=0.9, colsample_bytree=1.0 will be ignored. Current value: feature_fraction=0.9\n"
          ]
        },
        {
          "name": "stderr",
          "output_type": "stream",
          "text": [
            "/Users/mayo/opt/anaconda3/envs/new_env/lib/python3.9/site-packages/sklearn/utils/validation.py:605: FutureWarning: is_sparse is deprecated and will be removed in a future version. Check `isinstance(dtype, pd.SparseDtype)` instead.\n",
            "  if is_sparse(pd_dtype):\n",
            "/Users/mayo/opt/anaconda3/envs/new_env/lib/python3.9/site-packages/sklearn/utils/validation.py:614: FutureWarning: is_sparse is deprecated and will be removed in a future version. Check `isinstance(dtype, pd.SparseDtype)` instead.\n",
            "  if is_sparse(pd_dtype) or not is_extension_array_dtype(pd_dtype):\n"
          ]
        },
        {
          "name": "stdout",
          "output_type": "stream",
          "text": [
            "[LightGBM] [Warning] feature_fraction is set=0.9, colsample_bytree=1.0 will be ignored. Current value: feature_fraction=0.9\n"
          ]
        },
        {
          "name": "stderr",
          "output_type": "stream",
          "text": [
            "/Users/mayo/opt/anaconda3/envs/new_env/lib/python3.9/site-packages/sklearn/utils/validation.py:605: FutureWarning: is_sparse is deprecated and will be removed in a future version. Check `isinstance(dtype, pd.SparseDtype)` instead.\n",
            "  if is_sparse(pd_dtype):\n",
            "/Users/mayo/opt/anaconda3/envs/new_env/lib/python3.9/site-packages/sklearn/utils/validation.py:614: FutureWarning: is_sparse is deprecated and will be removed in a future version. Check `isinstance(dtype, pd.SparseDtype)` instead.\n",
            "  if is_sparse(pd_dtype) or not is_extension_array_dtype(pd_dtype):\n"
          ]
        },
        {
          "name": "stdout",
          "output_type": "stream",
          "text": [
            "[LightGBM] [Warning] feature_fraction is set=0.9, colsample_bytree=1.0 will be ignored. Current value: feature_fraction=0.9\n"
          ]
        },
        {
          "name": "stderr",
          "output_type": "stream",
          "text": [
            "/Users/mayo/opt/anaconda3/envs/new_env/lib/python3.9/site-packages/sklearn/utils/validation.py:605: FutureWarning: is_sparse is deprecated and will be removed in a future version. Check `isinstance(dtype, pd.SparseDtype)` instead.\n",
            "  if is_sparse(pd_dtype):\n",
            "/Users/mayo/opt/anaconda3/envs/new_env/lib/python3.9/site-packages/sklearn/utils/validation.py:614: FutureWarning: is_sparse is deprecated and will be removed in a future version. Check `isinstance(dtype, pd.SparseDtype)` instead.\n",
            "  if is_sparse(pd_dtype) or not is_extension_array_dtype(pd_dtype):\n"
          ]
        },
        {
          "name": "stdout",
          "output_type": "stream",
          "text": [
            "[LightGBM] [Warning] feature_fraction is set=0.9, colsample_bytree=1.0 will be ignored. Current value: feature_fraction=0.9\n"
          ]
        },
        {
          "name": "stderr",
          "output_type": "stream",
          "text": [
            "/Users/mayo/opt/anaconda3/envs/new_env/lib/python3.9/site-packages/sklearn/utils/validation.py:605: FutureWarning: is_sparse is deprecated and will be removed in a future version. Check `isinstance(dtype, pd.SparseDtype)` instead.\n",
            "  if is_sparse(pd_dtype):\n",
            "/Users/mayo/opt/anaconda3/envs/new_env/lib/python3.9/site-packages/sklearn/utils/validation.py:614: FutureWarning: is_sparse is deprecated and will be removed in a future version. Check `isinstance(dtype, pd.SparseDtype)` instead.\n",
            "  if is_sparse(pd_dtype) or not is_extension_array_dtype(pd_dtype):\n"
          ]
        },
        {
          "name": "stdout",
          "output_type": "stream",
          "text": [
            "[LightGBM] [Warning] feature_fraction is set=0.9, colsample_bytree=1.0 will be ignored. Current value: feature_fraction=0.9\n"
          ]
        },
        {
          "name": "stderr",
          "output_type": "stream",
          "text": [
            "/Users/mayo/opt/anaconda3/envs/new_env/lib/python3.9/site-packages/sklearn/utils/validation.py:605: FutureWarning: is_sparse is deprecated and will be removed in a future version. Check `isinstance(dtype, pd.SparseDtype)` instead.\n",
            "  if is_sparse(pd_dtype):\n",
            "/Users/mayo/opt/anaconda3/envs/new_env/lib/python3.9/site-packages/sklearn/utils/validation.py:614: FutureWarning: is_sparse is deprecated and will be removed in a future version. Check `isinstance(dtype, pd.SparseDtype)` instead.\n",
            "  if is_sparse(pd_dtype) or not is_extension_array_dtype(pd_dtype):\n"
          ]
        },
        {
          "name": "stdout",
          "output_type": "stream",
          "text": [
            "[LightGBM] [Warning] feature_fraction is set=0.9, colsample_bytree=1.0 will be ignored. Current value: feature_fraction=0.9\n"
          ]
        },
        {
          "name": "stderr",
          "output_type": "stream",
          "text": [
            "/Users/mayo/opt/anaconda3/envs/new_env/lib/python3.9/site-packages/sklearn/utils/validation.py:605: FutureWarning: is_sparse is deprecated and will be removed in a future version. Check `isinstance(dtype, pd.SparseDtype)` instead.\n",
            "  if is_sparse(pd_dtype):\n",
            "/Users/mayo/opt/anaconda3/envs/new_env/lib/python3.9/site-packages/sklearn/utils/validation.py:614: FutureWarning: is_sparse is deprecated and will be removed in a future version. Check `isinstance(dtype, pd.SparseDtype)` instead.\n",
            "  if is_sparse(pd_dtype) or not is_extension_array_dtype(pd_dtype):\n"
          ]
        },
        {
          "name": "stdout",
          "output_type": "stream",
          "text": [
            "[LightGBM] [Warning] feature_fraction is set=0.9, colsample_bytree=1.0 will be ignored. Current value: feature_fraction=0.9\n"
          ]
        },
        {
          "name": "stderr",
          "output_type": "stream",
          "text": [
            "/Users/mayo/opt/anaconda3/envs/new_env/lib/python3.9/site-packages/sklearn/utils/validation.py:605: FutureWarning: is_sparse is deprecated and will be removed in a future version. Check `isinstance(dtype, pd.SparseDtype)` instead.\n",
            "  if is_sparse(pd_dtype):\n",
            "/Users/mayo/opt/anaconda3/envs/new_env/lib/python3.9/site-packages/sklearn/utils/validation.py:614: FutureWarning: is_sparse is deprecated and will be removed in a future version. Check `isinstance(dtype, pd.SparseDtype)` instead.\n",
            "  if is_sparse(pd_dtype) or not is_extension_array_dtype(pd_dtype):\n"
          ]
        },
        {
          "name": "stdout",
          "output_type": "stream",
          "text": [
            "[LightGBM] [Warning] feature_fraction is set=0.9, colsample_bytree=1.0 will be ignored. Current value: feature_fraction=0.9\n"
          ]
        },
        {
          "name": "stderr",
          "output_type": "stream",
          "text": [
            "/Users/mayo/opt/anaconda3/envs/new_env/lib/python3.9/site-packages/sklearn/utils/validation.py:605: FutureWarning: is_sparse is deprecated and will be removed in a future version. Check `isinstance(dtype, pd.SparseDtype)` instead.\n",
            "  if is_sparse(pd_dtype):\n",
            "/Users/mayo/opt/anaconda3/envs/new_env/lib/python3.9/site-packages/sklearn/utils/validation.py:614: FutureWarning: is_sparse is deprecated and will be removed in a future version. Check `isinstance(dtype, pd.SparseDtype)` instead.\n",
            "  if is_sparse(pd_dtype) or not is_extension_array_dtype(pd_dtype):\n"
          ]
        },
        {
          "name": "stdout",
          "output_type": "stream",
          "text": [
            "[LightGBM] [Warning] feature_fraction is set=0.9, colsample_bytree=1.0 will be ignored. Current value: feature_fraction=0.9\n"
          ]
        },
        {
          "name": "stderr",
          "output_type": "stream",
          "text": [
            "/Users/mayo/opt/anaconda3/envs/new_env/lib/python3.9/site-packages/sklearn/utils/validation.py:605: FutureWarning: is_sparse is deprecated and will be removed in a future version. Check `isinstance(dtype, pd.SparseDtype)` instead.\n",
            "  if is_sparse(pd_dtype):\n",
            "/Users/mayo/opt/anaconda3/envs/new_env/lib/python3.9/site-packages/sklearn/utils/validation.py:614: FutureWarning: is_sparse is deprecated and will be removed in a future version. Check `isinstance(dtype, pd.SparseDtype)` instead.\n",
            "  if is_sparse(pd_dtype) or not is_extension_array_dtype(pd_dtype):\n"
          ]
        },
        {
          "name": "stdout",
          "output_type": "stream",
          "text": [
            "[LightGBM] [Warning] feature_fraction is set=0.9, colsample_bytree=1.0 will be ignored. Current value: feature_fraction=0.9\n"
          ]
        },
        {
          "name": "stderr",
          "output_type": "stream",
          "text": [
            "/Users/mayo/opt/anaconda3/envs/new_env/lib/python3.9/site-packages/sklearn/utils/validation.py:605: FutureWarning: is_sparse is deprecated and will be removed in a future version. Check `isinstance(dtype, pd.SparseDtype)` instead.\n",
            "  if is_sparse(pd_dtype):\n",
            "/Users/mayo/opt/anaconda3/envs/new_env/lib/python3.9/site-packages/sklearn/utils/validation.py:614: FutureWarning: is_sparse is deprecated and will be removed in a future version. Check `isinstance(dtype, pd.SparseDtype)` instead.\n",
            "  if is_sparse(pd_dtype) or not is_extension_array_dtype(pd_dtype):\n"
          ]
        },
        {
          "name": "stdout",
          "output_type": "stream",
          "text": [
            "[LightGBM] [Warning] feature_fraction is set=0.9, colsample_bytree=1.0 will be ignored. Current value: feature_fraction=0.9\n"
          ]
        },
        {
          "name": "stderr",
          "output_type": "stream",
          "text": [
            "/Users/mayo/opt/anaconda3/envs/new_env/lib/python3.9/site-packages/sklearn/utils/validation.py:605: FutureWarning: is_sparse is deprecated and will be removed in a future version. Check `isinstance(dtype, pd.SparseDtype)` instead.\n",
            "  if is_sparse(pd_dtype):\n",
            "/Users/mayo/opt/anaconda3/envs/new_env/lib/python3.9/site-packages/sklearn/utils/validation.py:614: FutureWarning: is_sparse is deprecated and will be removed in a future version. Check `isinstance(dtype, pd.SparseDtype)` instead.\n",
            "  if is_sparse(pd_dtype) or not is_extension_array_dtype(pd_dtype):\n"
          ]
        },
        {
          "name": "stdout",
          "output_type": "stream",
          "text": [
            "[LightGBM] [Warning] feature_fraction is set=0.9, colsample_bytree=1.0 will be ignored. Current value: feature_fraction=0.9\n"
          ]
        },
        {
          "name": "stderr",
          "output_type": "stream",
          "text": [
            "/Users/mayo/opt/anaconda3/envs/new_env/lib/python3.9/site-packages/sklearn/utils/validation.py:605: FutureWarning: is_sparse is deprecated and will be removed in a future version. Check `isinstance(dtype, pd.SparseDtype)` instead.\n",
            "  if is_sparse(pd_dtype):\n",
            "/Users/mayo/opt/anaconda3/envs/new_env/lib/python3.9/site-packages/sklearn/utils/validation.py:614: FutureWarning: is_sparse is deprecated and will be removed in a future version. Check `isinstance(dtype, pd.SparseDtype)` instead.\n",
            "  if is_sparse(pd_dtype) or not is_extension_array_dtype(pd_dtype):\n"
          ]
        },
        {
          "name": "stdout",
          "output_type": "stream",
          "text": [
            "[LightGBM] [Warning] feature_fraction is set=0.9, colsample_bytree=1.0 will be ignored. Current value: feature_fraction=0.9\n"
          ]
        },
        {
          "name": "stderr",
          "output_type": "stream",
          "text": [
            "/Users/mayo/opt/anaconda3/envs/new_env/lib/python3.9/site-packages/sklearn/utils/validation.py:605: FutureWarning: is_sparse is deprecated and will be removed in a future version. Check `isinstance(dtype, pd.SparseDtype)` instead.\n",
            "  if is_sparse(pd_dtype):\n",
            "/Users/mayo/opt/anaconda3/envs/new_env/lib/python3.9/site-packages/sklearn/utils/validation.py:614: FutureWarning: is_sparse is deprecated and will be removed in a future version. Check `isinstance(dtype, pd.SparseDtype)` instead.\n",
            "  if is_sparse(pd_dtype) or not is_extension_array_dtype(pd_dtype):\n"
          ]
        },
        {
          "name": "stdout",
          "output_type": "stream",
          "text": [
            "[LightGBM] [Warning] feature_fraction is set=0.9, colsample_bytree=1.0 will be ignored. Current value: feature_fraction=0.9\n"
          ]
        },
        {
          "name": "stderr",
          "output_type": "stream",
          "text": [
            "/Users/mayo/opt/anaconda3/envs/new_env/lib/python3.9/site-packages/sklearn/utils/validation.py:605: FutureWarning: is_sparse is deprecated and will be removed in a future version. Check `isinstance(dtype, pd.SparseDtype)` instead.\n",
            "  if is_sparse(pd_dtype):\n",
            "/Users/mayo/opt/anaconda3/envs/new_env/lib/python3.9/site-packages/sklearn/utils/validation.py:614: FutureWarning: is_sparse is deprecated and will be removed in a future version. Check `isinstance(dtype, pd.SparseDtype)` instead.\n",
            "  if is_sparse(pd_dtype) or not is_extension_array_dtype(pd_dtype):\n"
          ]
        },
        {
          "name": "stdout",
          "output_type": "stream",
          "text": [
            "[LightGBM] [Warning] feature_fraction is set=0.9, colsample_bytree=1.0 will be ignored. Current value: feature_fraction=0.9\n"
          ]
        },
        {
          "name": "stderr",
          "output_type": "stream",
          "text": [
            "/Users/mayo/opt/anaconda3/envs/new_env/lib/python3.9/site-packages/sklearn/utils/validation.py:605: FutureWarning: is_sparse is deprecated and will be removed in a future version. Check `isinstance(dtype, pd.SparseDtype)` instead.\n",
            "  if is_sparse(pd_dtype):\n",
            "/Users/mayo/opt/anaconda3/envs/new_env/lib/python3.9/site-packages/sklearn/utils/validation.py:614: FutureWarning: is_sparse is deprecated and will be removed in a future version. Check `isinstance(dtype, pd.SparseDtype)` instead.\n",
            "  if is_sparse(pd_dtype) or not is_extension_array_dtype(pd_dtype):\n"
          ]
        },
        {
          "name": "stdout",
          "output_type": "stream",
          "text": [
            "[LightGBM] [Warning] feature_fraction is set=0.9, colsample_bytree=1.0 will be ignored. Current value: feature_fraction=0.9\n"
          ]
        },
        {
          "name": "stderr",
          "output_type": "stream",
          "text": [
            "/Users/mayo/opt/anaconda3/envs/new_env/lib/python3.9/site-packages/sklearn/utils/validation.py:605: FutureWarning: is_sparse is deprecated and will be removed in a future version. Check `isinstance(dtype, pd.SparseDtype)` instead.\n",
            "  if is_sparse(pd_dtype):\n",
            "/Users/mayo/opt/anaconda3/envs/new_env/lib/python3.9/site-packages/sklearn/utils/validation.py:614: FutureWarning: is_sparse is deprecated and will be removed in a future version. Check `isinstance(dtype, pd.SparseDtype)` instead.\n",
            "  if is_sparse(pd_dtype) or not is_extension_array_dtype(pd_dtype):\n"
          ]
        },
        {
          "name": "stdout",
          "output_type": "stream",
          "text": [
            "[LightGBM] [Warning] feature_fraction is set=0.9, colsample_bytree=1.0 will be ignored. Current value: feature_fraction=0.9\n"
          ]
        },
        {
          "name": "stderr",
          "output_type": "stream",
          "text": [
            "/Users/mayo/opt/anaconda3/envs/new_env/lib/python3.9/site-packages/sklearn/utils/validation.py:605: FutureWarning: is_sparse is deprecated and will be removed in a future version. Check `isinstance(dtype, pd.SparseDtype)` instead.\n",
            "  if is_sparse(pd_dtype):\n",
            "/Users/mayo/opt/anaconda3/envs/new_env/lib/python3.9/site-packages/sklearn/utils/validation.py:614: FutureWarning: is_sparse is deprecated and will be removed in a future version. Check `isinstance(dtype, pd.SparseDtype)` instead.\n",
            "  if is_sparse(pd_dtype) or not is_extension_array_dtype(pd_dtype):\n"
          ]
        },
        {
          "name": "stdout",
          "output_type": "stream",
          "text": [
            "[LightGBM] [Warning] feature_fraction is set=0.9, colsample_bytree=1.0 will be ignored. Current value: feature_fraction=0.9\n"
          ]
        },
        {
          "name": "stderr",
          "output_type": "stream",
          "text": [
            "/Users/mayo/opt/anaconda3/envs/new_env/lib/python3.9/site-packages/sklearn/utils/validation.py:605: FutureWarning: is_sparse is deprecated and will be removed in a future version. Check `isinstance(dtype, pd.SparseDtype)` instead.\n",
            "  if is_sparse(pd_dtype):\n",
            "/Users/mayo/opt/anaconda3/envs/new_env/lib/python3.9/site-packages/sklearn/utils/validation.py:614: FutureWarning: is_sparse is deprecated and will be removed in a future version. Check `isinstance(dtype, pd.SparseDtype)` instead.\n",
            "  if is_sparse(pd_dtype) or not is_extension_array_dtype(pd_dtype):\n"
          ]
        },
        {
          "name": "stdout",
          "output_type": "stream",
          "text": [
            "[LightGBM] [Warning] feature_fraction is set=0.9, colsample_bytree=1.0 will be ignored. Current value: feature_fraction=0.9\n"
          ]
        },
        {
          "name": "stderr",
          "output_type": "stream",
          "text": [
            "/Users/mayo/opt/anaconda3/envs/new_env/lib/python3.9/site-packages/sklearn/utils/validation.py:605: FutureWarning: is_sparse is deprecated and will be removed in a future version. Check `isinstance(dtype, pd.SparseDtype)` instead.\n",
            "  if is_sparse(pd_dtype):\n",
            "/Users/mayo/opt/anaconda3/envs/new_env/lib/python3.9/site-packages/sklearn/utils/validation.py:614: FutureWarning: is_sparse is deprecated and will be removed in a future version. Check `isinstance(dtype, pd.SparseDtype)` instead.\n",
            "  if is_sparse(pd_dtype) or not is_extension_array_dtype(pd_dtype):\n"
          ]
        },
        {
          "name": "stdout",
          "output_type": "stream",
          "text": [
            "[LightGBM] [Warning] feature_fraction is set=0.9, colsample_bytree=1.0 will be ignored. Current value: feature_fraction=0.9\n"
          ]
        },
        {
          "name": "stderr",
          "output_type": "stream",
          "text": [
            "/Users/mayo/opt/anaconda3/envs/new_env/lib/python3.9/site-packages/sklearn/utils/validation.py:605: FutureWarning: is_sparse is deprecated and will be removed in a future version. Check `isinstance(dtype, pd.SparseDtype)` instead.\n",
            "  if is_sparse(pd_dtype):\n",
            "/Users/mayo/opt/anaconda3/envs/new_env/lib/python3.9/site-packages/sklearn/utils/validation.py:614: FutureWarning: is_sparse is deprecated and will be removed in a future version. Check `isinstance(dtype, pd.SparseDtype)` instead.\n",
            "  if is_sparse(pd_dtype) or not is_extension_array_dtype(pd_dtype):\n"
          ]
        },
        {
          "name": "stdout",
          "output_type": "stream",
          "text": [
            "[LightGBM] [Warning] feature_fraction is set=0.9, colsample_bytree=1.0 will be ignored. Current value: feature_fraction=0.9\n"
          ]
        },
        {
          "name": "stderr",
          "output_type": "stream",
          "text": [
            "/Users/mayo/opt/anaconda3/envs/new_env/lib/python3.9/site-packages/sklearn/utils/validation.py:605: FutureWarning: is_sparse is deprecated and will be removed in a future version. Check `isinstance(dtype, pd.SparseDtype)` instead.\n",
            "  if is_sparse(pd_dtype):\n",
            "/Users/mayo/opt/anaconda3/envs/new_env/lib/python3.9/site-packages/sklearn/utils/validation.py:614: FutureWarning: is_sparse is deprecated and will be removed in a future version. Check `isinstance(dtype, pd.SparseDtype)` instead.\n",
            "  if is_sparse(pd_dtype) or not is_extension_array_dtype(pd_dtype):\n"
          ]
        },
        {
          "name": "stdout",
          "output_type": "stream",
          "text": [
            "[LightGBM] [Warning] feature_fraction is set=0.9, colsample_bytree=1.0 will be ignored. Current value: feature_fraction=0.9\n"
          ]
        },
        {
          "name": "stderr",
          "output_type": "stream",
          "text": [
            "/Users/mayo/opt/anaconda3/envs/new_env/lib/python3.9/site-packages/sklearn/utils/validation.py:605: FutureWarning: is_sparse is deprecated and will be removed in a future version. Check `isinstance(dtype, pd.SparseDtype)` instead.\n",
            "  if is_sparse(pd_dtype):\n",
            "/Users/mayo/opt/anaconda3/envs/new_env/lib/python3.9/site-packages/sklearn/utils/validation.py:614: FutureWarning: is_sparse is deprecated and will be removed in a future version. Check `isinstance(dtype, pd.SparseDtype)` instead.\n",
            "  if is_sparse(pd_dtype) or not is_extension_array_dtype(pd_dtype):\n"
          ]
        },
        {
          "name": "stdout",
          "output_type": "stream",
          "text": [
            "[LightGBM] [Warning] feature_fraction is set=0.9, colsample_bytree=1.0 will be ignored. Current value: feature_fraction=0.9\n"
          ]
        },
        {
          "name": "stderr",
          "output_type": "stream",
          "text": [
            "/Users/mayo/opt/anaconda3/envs/new_env/lib/python3.9/site-packages/sklearn/utils/validation.py:605: FutureWarning: is_sparse is deprecated and will be removed in a future version. Check `isinstance(dtype, pd.SparseDtype)` instead.\n",
            "  if is_sparse(pd_dtype):\n",
            "/Users/mayo/opt/anaconda3/envs/new_env/lib/python3.9/site-packages/sklearn/utils/validation.py:614: FutureWarning: is_sparse is deprecated and will be removed in a future version. Check `isinstance(dtype, pd.SparseDtype)` instead.\n",
            "  if is_sparse(pd_dtype) or not is_extension_array_dtype(pd_dtype):\n"
          ]
        },
        {
          "name": "stdout",
          "output_type": "stream",
          "text": [
            "[LightGBM] [Warning] feature_fraction is set=0.9, colsample_bytree=1.0 will be ignored. Current value: feature_fraction=0.9\n"
          ]
        },
        {
          "name": "stderr",
          "output_type": "stream",
          "text": [
            "/Users/mayo/opt/anaconda3/envs/new_env/lib/python3.9/site-packages/sklearn/utils/validation.py:605: FutureWarning: is_sparse is deprecated and will be removed in a future version. Check `isinstance(dtype, pd.SparseDtype)` instead.\n",
            "  if is_sparse(pd_dtype):\n",
            "/Users/mayo/opt/anaconda3/envs/new_env/lib/python3.9/site-packages/sklearn/utils/validation.py:614: FutureWarning: is_sparse is deprecated and will be removed in a future version. Check `isinstance(dtype, pd.SparseDtype)` instead.\n",
            "  if is_sparse(pd_dtype) or not is_extension_array_dtype(pd_dtype):\n"
          ]
        },
        {
          "name": "stdout",
          "output_type": "stream",
          "text": [
            "[LightGBM] [Warning] feature_fraction is set=1.0, colsample_bytree=1.0 will be ignored. Current value: feature_fraction=1.0\n"
          ]
        },
        {
          "name": "stderr",
          "output_type": "stream",
          "text": [
            "/Users/mayo/opt/anaconda3/envs/new_env/lib/python3.9/site-packages/sklearn/utils/validation.py:605: FutureWarning: is_sparse is deprecated and will be removed in a future version. Check `isinstance(dtype, pd.SparseDtype)` instead.\n",
            "  if is_sparse(pd_dtype):\n",
            "/Users/mayo/opt/anaconda3/envs/new_env/lib/python3.9/site-packages/sklearn/utils/validation.py:614: FutureWarning: is_sparse is deprecated and will be removed in a future version. Check `isinstance(dtype, pd.SparseDtype)` instead.\n",
            "  if is_sparse(pd_dtype) or not is_extension_array_dtype(pd_dtype):\n"
          ]
        },
        {
          "name": "stdout",
          "output_type": "stream",
          "text": [
            "[LightGBM] [Warning] feature_fraction is set=1.0, colsample_bytree=1.0 will be ignored. Current value: feature_fraction=1.0\n"
          ]
        },
        {
          "name": "stderr",
          "output_type": "stream",
          "text": [
            "/Users/mayo/opt/anaconda3/envs/new_env/lib/python3.9/site-packages/sklearn/utils/validation.py:605: FutureWarning: is_sparse is deprecated and will be removed in a future version. Check `isinstance(dtype, pd.SparseDtype)` instead.\n",
            "  if is_sparse(pd_dtype):\n",
            "/Users/mayo/opt/anaconda3/envs/new_env/lib/python3.9/site-packages/sklearn/utils/validation.py:614: FutureWarning: is_sparse is deprecated and will be removed in a future version. Check `isinstance(dtype, pd.SparseDtype)` instead.\n",
            "  if is_sparse(pd_dtype) or not is_extension_array_dtype(pd_dtype):\n"
          ]
        },
        {
          "name": "stdout",
          "output_type": "stream",
          "text": [
            "[LightGBM] [Warning] feature_fraction is set=1.0, colsample_bytree=1.0 will be ignored. Current value: feature_fraction=1.0\n"
          ]
        },
        {
          "name": "stderr",
          "output_type": "stream",
          "text": [
            "/Users/mayo/opt/anaconda3/envs/new_env/lib/python3.9/site-packages/sklearn/utils/validation.py:605: FutureWarning: is_sparse is deprecated and will be removed in a future version. Check `isinstance(dtype, pd.SparseDtype)` instead.\n",
            "  if is_sparse(pd_dtype):\n",
            "/Users/mayo/opt/anaconda3/envs/new_env/lib/python3.9/site-packages/sklearn/utils/validation.py:614: FutureWarning: is_sparse is deprecated and will be removed in a future version. Check `isinstance(dtype, pd.SparseDtype)` instead.\n",
            "  if is_sparse(pd_dtype) or not is_extension_array_dtype(pd_dtype):\n"
          ]
        },
        {
          "name": "stdout",
          "output_type": "stream",
          "text": [
            "[LightGBM] [Warning] feature_fraction is set=1.0, colsample_bytree=1.0 will be ignored. Current value: feature_fraction=1.0\n"
          ]
        },
        {
          "name": "stderr",
          "output_type": "stream",
          "text": [
            "/Users/mayo/opt/anaconda3/envs/new_env/lib/python3.9/site-packages/sklearn/utils/validation.py:605: FutureWarning: is_sparse is deprecated and will be removed in a future version. Check `isinstance(dtype, pd.SparseDtype)` instead.\n",
            "  if is_sparse(pd_dtype):\n",
            "/Users/mayo/opt/anaconda3/envs/new_env/lib/python3.9/site-packages/sklearn/utils/validation.py:614: FutureWarning: is_sparse is deprecated and will be removed in a future version. Check `isinstance(dtype, pd.SparseDtype)` instead.\n",
            "  if is_sparse(pd_dtype) or not is_extension_array_dtype(pd_dtype):\n"
          ]
        },
        {
          "name": "stdout",
          "output_type": "stream",
          "text": [
            "[LightGBM] [Warning] feature_fraction is set=1.0, colsample_bytree=1.0 will be ignored. Current value: feature_fraction=1.0\n"
          ]
        },
        {
          "name": "stderr",
          "output_type": "stream",
          "text": [
            "/Users/mayo/opt/anaconda3/envs/new_env/lib/python3.9/site-packages/sklearn/utils/validation.py:605: FutureWarning: is_sparse is deprecated and will be removed in a future version. Check `isinstance(dtype, pd.SparseDtype)` instead.\n",
            "  if is_sparse(pd_dtype):\n",
            "/Users/mayo/opt/anaconda3/envs/new_env/lib/python3.9/site-packages/sklearn/utils/validation.py:614: FutureWarning: is_sparse is deprecated and will be removed in a future version. Check `isinstance(dtype, pd.SparseDtype)` instead.\n",
            "  if is_sparse(pd_dtype) or not is_extension_array_dtype(pd_dtype):\n"
          ]
        },
        {
          "name": "stdout",
          "output_type": "stream",
          "text": [
            "[LightGBM] [Warning] feature_fraction is set=1.0, colsample_bytree=1.0 will be ignored. Current value: feature_fraction=1.0\n"
          ]
        },
        {
          "name": "stderr",
          "output_type": "stream",
          "text": [
            "/Users/mayo/opt/anaconda3/envs/new_env/lib/python3.9/site-packages/sklearn/utils/validation.py:605: FutureWarning: is_sparse is deprecated and will be removed in a future version. Check `isinstance(dtype, pd.SparseDtype)` instead.\n",
            "  if is_sparse(pd_dtype):\n",
            "/Users/mayo/opt/anaconda3/envs/new_env/lib/python3.9/site-packages/sklearn/utils/validation.py:614: FutureWarning: is_sparse is deprecated and will be removed in a future version. Check `isinstance(dtype, pd.SparseDtype)` instead.\n",
            "  if is_sparse(pd_dtype) or not is_extension_array_dtype(pd_dtype):\n"
          ]
        },
        {
          "name": "stdout",
          "output_type": "stream",
          "text": [
            "[LightGBM] [Warning] feature_fraction is set=1.0, colsample_bytree=1.0 will be ignored. Current value: feature_fraction=1.0\n"
          ]
        },
        {
          "name": "stderr",
          "output_type": "stream",
          "text": [
            "/Users/mayo/opt/anaconda3/envs/new_env/lib/python3.9/site-packages/sklearn/utils/validation.py:605: FutureWarning: is_sparse is deprecated and will be removed in a future version. Check `isinstance(dtype, pd.SparseDtype)` instead.\n",
            "  if is_sparse(pd_dtype):\n",
            "/Users/mayo/opt/anaconda3/envs/new_env/lib/python3.9/site-packages/sklearn/utils/validation.py:614: FutureWarning: is_sparse is deprecated and will be removed in a future version. Check `isinstance(dtype, pd.SparseDtype)` instead.\n",
            "  if is_sparse(pd_dtype) or not is_extension_array_dtype(pd_dtype):\n"
          ]
        },
        {
          "name": "stdout",
          "output_type": "stream",
          "text": [
            "[LightGBM] [Warning] feature_fraction is set=1.0, colsample_bytree=1.0 will be ignored. Current value: feature_fraction=1.0\n"
          ]
        },
        {
          "name": "stderr",
          "output_type": "stream",
          "text": [
            "/Users/mayo/opt/anaconda3/envs/new_env/lib/python3.9/site-packages/sklearn/utils/validation.py:605: FutureWarning: is_sparse is deprecated and will be removed in a future version. Check `isinstance(dtype, pd.SparseDtype)` instead.\n",
            "  if is_sparse(pd_dtype):\n",
            "/Users/mayo/opt/anaconda3/envs/new_env/lib/python3.9/site-packages/sklearn/utils/validation.py:614: FutureWarning: is_sparse is deprecated and will be removed in a future version. Check `isinstance(dtype, pd.SparseDtype)` instead.\n",
            "  if is_sparse(pd_dtype) or not is_extension_array_dtype(pd_dtype):\n"
          ]
        },
        {
          "name": "stdout",
          "output_type": "stream",
          "text": [
            "[LightGBM] [Warning] feature_fraction is set=1.0, colsample_bytree=1.0 will be ignored. Current value: feature_fraction=1.0\n"
          ]
        },
        {
          "name": "stderr",
          "output_type": "stream",
          "text": [
            "/Users/mayo/opt/anaconda3/envs/new_env/lib/python3.9/site-packages/sklearn/utils/validation.py:605: FutureWarning: is_sparse is deprecated and will be removed in a future version. Check `isinstance(dtype, pd.SparseDtype)` instead.\n",
            "  if is_sparse(pd_dtype):\n",
            "/Users/mayo/opt/anaconda3/envs/new_env/lib/python3.9/site-packages/sklearn/utils/validation.py:614: FutureWarning: is_sparse is deprecated and will be removed in a future version. Check `isinstance(dtype, pd.SparseDtype)` instead.\n",
            "  if is_sparse(pd_dtype) or not is_extension_array_dtype(pd_dtype):\n"
          ]
        },
        {
          "name": "stdout",
          "output_type": "stream",
          "text": [
            "[LightGBM] [Warning] feature_fraction is set=1.0, colsample_bytree=1.0 will be ignored. Current value: feature_fraction=1.0\n"
          ]
        },
        {
          "name": "stderr",
          "output_type": "stream",
          "text": [
            "/Users/mayo/opt/anaconda3/envs/new_env/lib/python3.9/site-packages/sklearn/utils/validation.py:605: FutureWarning: is_sparse is deprecated and will be removed in a future version. Check `isinstance(dtype, pd.SparseDtype)` instead.\n",
            "  if is_sparse(pd_dtype):\n",
            "/Users/mayo/opt/anaconda3/envs/new_env/lib/python3.9/site-packages/sklearn/utils/validation.py:614: FutureWarning: is_sparse is deprecated and will be removed in a future version. Check `isinstance(dtype, pd.SparseDtype)` instead.\n",
            "  if is_sparse(pd_dtype) or not is_extension_array_dtype(pd_dtype):\n"
          ]
        },
        {
          "name": "stdout",
          "output_type": "stream",
          "text": [
            "[LightGBM] [Warning] feature_fraction is set=1.0, colsample_bytree=1.0 will be ignored. Current value: feature_fraction=1.0\n"
          ]
        },
        {
          "name": "stderr",
          "output_type": "stream",
          "text": [
            "/Users/mayo/opt/anaconda3/envs/new_env/lib/python3.9/site-packages/sklearn/utils/validation.py:605: FutureWarning: is_sparse is deprecated and will be removed in a future version. Check `isinstance(dtype, pd.SparseDtype)` instead.\n",
            "  if is_sparse(pd_dtype):\n",
            "/Users/mayo/opt/anaconda3/envs/new_env/lib/python3.9/site-packages/sklearn/utils/validation.py:614: FutureWarning: is_sparse is deprecated and will be removed in a future version. Check `isinstance(dtype, pd.SparseDtype)` instead.\n",
            "  if is_sparse(pd_dtype) or not is_extension_array_dtype(pd_dtype):\n"
          ]
        },
        {
          "name": "stdout",
          "output_type": "stream",
          "text": [
            "[LightGBM] [Warning] feature_fraction is set=1.0, colsample_bytree=1.0 will be ignored. Current value: feature_fraction=1.0\n"
          ]
        },
        {
          "name": "stderr",
          "output_type": "stream",
          "text": [
            "/Users/mayo/opt/anaconda3/envs/new_env/lib/python3.9/site-packages/sklearn/utils/validation.py:605: FutureWarning: is_sparse is deprecated and will be removed in a future version. Check `isinstance(dtype, pd.SparseDtype)` instead.\n",
            "  if is_sparse(pd_dtype):\n",
            "/Users/mayo/opt/anaconda3/envs/new_env/lib/python3.9/site-packages/sklearn/utils/validation.py:614: FutureWarning: is_sparse is deprecated and will be removed in a future version. Check `isinstance(dtype, pd.SparseDtype)` instead.\n",
            "  if is_sparse(pd_dtype) or not is_extension_array_dtype(pd_dtype):\n"
          ]
        },
        {
          "name": "stdout",
          "output_type": "stream",
          "text": [
            "[LightGBM] [Warning] feature_fraction is set=1.0, colsample_bytree=1.0 will be ignored. Current value: feature_fraction=1.0\n"
          ]
        },
        {
          "name": "stderr",
          "output_type": "stream",
          "text": [
            "/Users/mayo/opt/anaconda3/envs/new_env/lib/python3.9/site-packages/sklearn/utils/validation.py:605: FutureWarning: is_sparse is deprecated and will be removed in a future version. Check `isinstance(dtype, pd.SparseDtype)` instead.\n",
            "  if is_sparse(pd_dtype):\n",
            "/Users/mayo/opt/anaconda3/envs/new_env/lib/python3.9/site-packages/sklearn/utils/validation.py:614: FutureWarning: is_sparse is deprecated and will be removed in a future version. Check `isinstance(dtype, pd.SparseDtype)` instead.\n",
            "  if is_sparse(pd_dtype) or not is_extension_array_dtype(pd_dtype):\n"
          ]
        },
        {
          "name": "stdout",
          "output_type": "stream",
          "text": [
            "[LightGBM] [Warning] feature_fraction is set=1.0, colsample_bytree=1.0 will be ignored. Current value: feature_fraction=1.0\n"
          ]
        },
        {
          "name": "stderr",
          "output_type": "stream",
          "text": [
            "/Users/mayo/opt/anaconda3/envs/new_env/lib/python3.9/site-packages/sklearn/utils/validation.py:605: FutureWarning: is_sparse is deprecated and will be removed in a future version. Check `isinstance(dtype, pd.SparseDtype)` instead.\n",
            "  if is_sparse(pd_dtype):\n",
            "/Users/mayo/opt/anaconda3/envs/new_env/lib/python3.9/site-packages/sklearn/utils/validation.py:614: FutureWarning: is_sparse is deprecated and will be removed in a future version. Check `isinstance(dtype, pd.SparseDtype)` instead.\n",
            "  if is_sparse(pd_dtype) or not is_extension_array_dtype(pd_dtype):\n"
          ]
        },
        {
          "name": "stdout",
          "output_type": "stream",
          "text": [
            "[LightGBM] [Warning] feature_fraction is set=1.0, colsample_bytree=1.0 will be ignored. Current value: feature_fraction=1.0\n"
          ]
        },
        {
          "name": "stderr",
          "output_type": "stream",
          "text": [
            "/Users/mayo/opt/anaconda3/envs/new_env/lib/python3.9/site-packages/sklearn/utils/validation.py:605: FutureWarning: is_sparse is deprecated and will be removed in a future version. Check `isinstance(dtype, pd.SparseDtype)` instead.\n",
            "  if is_sparse(pd_dtype):\n",
            "/Users/mayo/opt/anaconda3/envs/new_env/lib/python3.9/site-packages/sklearn/utils/validation.py:614: FutureWarning: is_sparse is deprecated and will be removed in a future version. Check `isinstance(dtype, pd.SparseDtype)` instead.\n",
            "  if is_sparse(pd_dtype) or not is_extension_array_dtype(pd_dtype):\n"
          ]
        },
        {
          "name": "stdout",
          "output_type": "stream",
          "text": [
            "[LightGBM] [Warning] feature_fraction is set=1.0, colsample_bytree=1.0 will be ignored. Current value: feature_fraction=1.0\n"
          ]
        },
        {
          "name": "stderr",
          "output_type": "stream",
          "text": [
            "/Users/mayo/opt/anaconda3/envs/new_env/lib/python3.9/site-packages/sklearn/utils/validation.py:605: FutureWarning: is_sparse is deprecated and will be removed in a future version. Check `isinstance(dtype, pd.SparseDtype)` instead.\n",
            "  if is_sparse(pd_dtype):\n",
            "/Users/mayo/opt/anaconda3/envs/new_env/lib/python3.9/site-packages/sklearn/utils/validation.py:614: FutureWarning: is_sparse is deprecated and will be removed in a future version. Check `isinstance(dtype, pd.SparseDtype)` instead.\n",
            "  if is_sparse(pd_dtype) or not is_extension_array_dtype(pd_dtype):\n"
          ]
        },
        {
          "name": "stdout",
          "output_type": "stream",
          "text": [
            "[LightGBM] [Warning] feature_fraction is set=1.0, colsample_bytree=1.0 will be ignored. Current value: feature_fraction=1.0\n"
          ]
        },
        {
          "name": "stderr",
          "output_type": "stream",
          "text": [
            "/Users/mayo/opt/anaconda3/envs/new_env/lib/python3.9/site-packages/sklearn/utils/validation.py:605: FutureWarning: is_sparse is deprecated and will be removed in a future version. Check `isinstance(dtype, pd.SparseDtype)` instead.\n",
            "  if is_sparse(pd_dtype):\n",
            "/Users/mayo/opt/anaconda3/envs/new_env/lib/python3.9/site-packages/sklearn/utils/validation.py:614: FutureWarning: is_sparse is deprecated and will be removed in a future version. Check `isinstance(dtype, pd.SparseDtype)` instead.\n",
            "  if is_sparse(pd_dtype) or not is_extension_array_dtype(pd_dtype):\n"
          ]
        },
        {
          "name": "stdout",
          "output_type": "stream",
          "text": [
            "[LightGBM] [Warning] feature_fraction is set=1.0, colsample_bytree=1.0 will be ignored. Current value: feature_fraction=1.0\n"
          ]
        },
        {
          "name": "stderr",
          "output_type": "stream",
          "text": [
            "/Users/mayo/opt/anaconda3/envs/new_env/lib/python3.9/site-packages/sklearn/utils/validation.py:605: FutureWarning: is_sparse is deprecated and will be removed in a future version. Check `isinstance(dtype, pd.SparseDtype)` instead.\n",
            "  if is_sparse(pd_dtype):\n",
            "/Users/mayo/opt/anaconda3/envs/new_env/lib/python3.9/site-packages/sklearn/utils/validation.py:614: FutureWarning: is_sparse is deprecated and will be removed in a future version. Check `isinstance(dtype, pd.SparseDtype)` instead.\n",
            "  if is_sparse(pd_dtype) or not is_extension_array_dtype(pd_dtype):\n"
          ]
        },
        {
          "name": "stdout",
          "output_type": "stream",
          "text": [
            "[LightGBM] [Warning] feature_fraction is set=1.0, colsample_bytree=1.0 will be ignored. Current value: feature_fraction=1.0\n"
          ]
        },
        {
          "name": "stderr",
          "output_type": "stream",
          "text": [
            "/Users/mayo/opt/anaconda3/envs/new_env/lib/python3.9/site-packages/sklearn/utils/validation.py:605: FutureWarning: is_sparse is deprecated and will be removed in a future version. Check `isinstance(dtype, pd.SparseDtype)` instead.\n",
            "  if is_sparse(pd_dtype):\n",
            "/Users/mayo/opt/anaconda3/envs/new_env/lib/python3.9/site-packages/sklearn/utils/validation.py:614: FutureWarning: is_sparse is deprecated and will be removed in a future version. Check `isinstance(dtype, pd.SparseDtype)` instead.\n",
            "  if is_sparse(pd_dtype) or not is_extension_array_dtype(pd_dtype):\n"
          ]
        },
        {
          "name": "stdout",
          "output_type": "stream",
          "text": [
            "[LightGBM] [Warning] feature_fraction is set=1.0, colsample_bytree=1.0 will be ignored. Current value: feature_fraction=1.0\n"
          ]
        },
        {
          "name": "stderr",
          "output_type": "stream",
          "text": [
            "/Users/mayo/opt/anaconda3/envs/new_env/lib/python3.9/site-packages/sklearn/utils/validation.py:605: FutureWarning: is_sparse is deprecated and will be removed in a future version. Check `isinstance(dtype, pd.SparseDtype)` instead.\n",
            "  if is_sparse(pd_dtype):\n",
            "/Users/mayo/opt/anaconda3/envs/new_env/lib/python3.9/site-packages/sklearn/utils/validation.py:614: FutureWarning: is_sparse is deprecated and will be removed in a future version. Check `isinstance(dtype, pd.SparseDtype)` instead.\n",
            "  if is_sparse(pd_dtype) or not is_extension_array_dtype(pd_dtype):\n"
          ]
        },
        {
          "name": "stdout",
          "output_type": "stream",
          "text": [
            "[LightGBM] [Warning] feature_fraction is set=1.0, colsample_bytree=1.0 will be ignored. Current value: feature_fraction=1.0\n"
          ]
        },
        {
          "name": "stderr",
          "output_type": "stream",
          "text": [
            "/Users/mayo/opt/anaconda3/envs/new_env/lib/python3.9/site-packages/sklearn/utils/validation.py:605: FutureWarning: is_sparse is deprecated and will be removed in a future version. Check `isinstance(dtype, pd.SparseDtype)` instead.\n",
            "  if is_sparse(pd_dtype):\n",
            "/Users/mayo/opt/anaconda3/envs/new_env/lib/python3.9/site-packages/sklearn/utils/validation.py:614: FutureWarning: is_sparse is deprecated and will be removed in a future version. Check `isinstance(dtype, pd.SparseDtype)` instead.\n",
            "  if is_sparse(pd_dtype) or not is_extension_array_dtype(pd_dtype):\n"
          ]
        },
        {
          "name": "stdout",
          "output_type": "stream",
          "text": [
            "[LightGBM] [Warning] feature_fraction is set=1.0, colsample_bytree=1.0 will be ignored. Current value: feature_fraction=1.0\n"
          ]
        },
        {
          "name": "stderr",
          "output_type": "stream",
          "text": [
            "/Users/mayo/opt/anaconda3/envs/new_env/lib/python3.9/site-packages/sklearn/utils/validation.py:605: FutureWarning: is_sparse is deprecated and will be removed in a future version. Check `isinstance(dtype, pd.SparseDtype)` instead.\n",
            "  if is_sparse(pd_dtype):\n",
            "/Users/mayo/opt/anaconda3/envs/new_env/lib/python3.9/site-packages/sklearn/utils/validation.py:614: FutureWarning: is_sparse is deprecated and will be removed in a future version. Check `isinstance(dtype, pd.SparseDtype)` instead.\n",
            "  if is_sparse(pd_dtype) or not is_extension_array_dtype(pd_dtype):\n"
          ]
        },
        {
          "name": "stdout",
          "output_type": "stream",
          "text": [
            "[LightGBM] [Warning] feature_fraction is set=1.0, colsample_bytree=1.0 will be ignored. Current value: feature_fraction=1.0\n"
          ]
        },
        {
          "name": "stderr",
          "output_type": "stream",
          "text": [
            "/Users/mayo/opt/anaconda3/envs/new_env/lib/python3.9/site-packages/sklearn/utils/validation.py:605: FutureWarning: is_sparse is deprecated and will be removed in a future version. Check `isinstance(dtype, pd.SparseDtype)` instead.\n",
            "  if is_sparse(pd_dtype):\n",
            "/Users/mayo/opt/anaconda3/envs/new_env/lib/python3.9/site-packages/sklearn/utils/validation.py:614: FutureWarning: is_sparse is deprecated and will be removed in a future version. Check `isinstance(dtype, pd.SparseDtype)` instead.\n",
            "  if is_sparse(pd_dtype) or not is_extension_array_dtype(pd_dtype):\n"
          ]
        },
        {
          "name": "stdout",
          "output_type": "stream",
          "text": [
            "[LightGBM] [Warning] feature_fraction is set=1.0, colsample_bytree=1.0 will be ignored. Current value: feature_fraction=1.0\n"
          ]
        },
        {
          "name": "stderr",
          "output_type": "stream",
          "text": [
            "/Users/mayo/opt/anaconda3/envs/new_env/lib/python3.9/site-packages/sklearn/utils/validation.py:605: FutureWarning: is_sparse is deprecated and will be removed in a future version. Check `isinstance(dtype, pd.SparseDtype)` instead.\n",
            "  if is_sparse(pd_dtype):\n",
            "/Users/mayo/opt/anaconda3/envs/new_env/lib/python3.9/site-packages/sklearn/utils/validation.py:614: FutureWarning: is_sparse is deprecated and will be removed in a future version. Check `isinstance(dtype, pd.SparseDtype)` instead.\n",
            "  if is_sparse(pd_dtype) or not is_extension_array_dtype(pd_dtype):\n"
          ]
        },
        {
          "name": "stdout",
          "output_type": "stream",
          "text": [
            "[LightGBM] [Warning] feature_fraction is set=1.0, colsample_bytree=1.0 will be ignored. Current value: feature_fraction=1.0\n"
          ]
        },
        {
          "name": "stderr",
          "output_type": "stream",
          "text": [
            "/Users/mayo/opt/anaconda3/envs/new_env/lib/python3.9/site-packages/sklearn/utils/validation.py:605: FutureWarning: is_sparse is deprecated and will be removed in a future version. Check `isinstance(dtype, pd.SparseDtype)` instead.\n",
            "  if is_sparse(pd_dtype):\n",
            "/Users/mayo/opt/anaconda3/envs/new_env/lib/python3.9/site-packages/sklearn/utils/validation.py:614: FutureWarning: is_sparse is deprecated and will be removed in a future version. Check `isinstance(dtype, pd.SparseDtype)` instead.\n",
            "  if is_sparse(pd_dtype) or not is_extension_array_dtype(pd_dtype):\n"
          ]
        },
        {
          "name": "stdout",
          "output_type": "stream",
          "text": [
            "[LightGBM] [Warning] feature_fraction is set=1.0, colsample_bytree=1.0 will be ignored. Current value: feature_fraction=1.0\n"
          ]
        },
        {
          "name": "stderr",
          "output_type": "stream",
          "text": [
            "/Users/mayo/opt/anaconda3/envs/new_env/lib/python3.9/site-packages/sklearn/utils/validation.py:605: FutureWarning: is_sparse is deprecated and will be removed in a future version. Check `isinstance(dtype, pd.SparseDtype)` instead.\n",
            "  if is_sparse(pd_dtype):\n",
            "/Users/mayo/opt/anaconda3/envs/new_env/lib/python3.9/site-packages/sklearn/utils/validation.py:614: FutureWarning: is_sparse is deprecated and will be removed in a future version. Check `isinstance(dtype, pd.SparseDtype)` instead.\n",
            "  if is_sparse(pd_dtype) or not is_extension_array_dtype(pd_dtype):\n"
          ]
        },
        {
          "name": "stdout",
          "output_type": "stream",
          "text": [
            "[LightGBM] [Warning] feature_fraction is set=1.0, colsample_bytree=1.0 will be ignored. Current value: feature_fraction=1.0\n"
          ]
        },
        {
          "name": "stderr",
          "output_type": "stream",
          "text": [
            "/Users/mayo/opt/anaconda3/envs/new_env/lib/python3.9/site-packages/sklearn/utils/validation.py:605: FutureWarning: is_sparse is deprecated and will be removed in a future version. Check `isinstance(dtype, pd.SparseDtype)` instead.\n",
            "  if is_sparse(pd_dtype):\n",
            "/Users/mayo/opt/anaconda3/envs/new_env/lib/python3.9/site-packages/sklearn/utils/validation.py:614: FutureWarning: is_sparse is deprecated and will be removed in a future version. Check `isinstance(dtype, pd.SparseDtype)` instead.\n",
            "  if is_sparse(pd_dtype) or not is_extension_array_dtype(pd_dtype):\n"
          ]
        },
        {
          "name": "stdout",
          "output_type": "stream",
          "text": [
            "[LightGBM] [Warning] feature_fraction is set=1.0, colsample_bytree=1.0 will be ignored. Current value: feature_fraction=1.0\n",
            "Best Hyperparameters: {'feature_fraction': 1.0, 'learning_rate': 0.1, 'num_leaves': 50}\n",
            "[LightGBM] [Warning] Auto-choosing row-wise multi-threading, the overhead of testing was 0.002729 seconds.\n",
            "You can set `force_row_wise=true` to remove the overhead.\n",
            "And if memory is not enough, you can set `force_col_wise=true`.\n",
            "[LightGBM] [Info] Total Bins 2035\n",
            "[LightGBM] [Info] Number of data points in the train set: 245311, number of used features: 14\n",
            "[LightGBM] [Info] Start training from score 5.743025\n",
            "Training until validation scores don't improve for 10 rounds\n",
            "[10]\ttraining's l2: 11.182\tvalid_1's l2: 11.236\n"
          ]
        },
        {
          "name": "stderr",
          "output_type": "stream",
          "text": [
            "/Users/mayo/opt/anaconda3/envs/new_env/lib/python3.9/site-packages/lightgbm/engine.py:181: UserWarning: 'early_stopping_rounds' argument is deprecated and will be removed in a future release of LightGBM. Pass 'early_stopping()' callback via 'callbacks' argument instead.\n",
            "  _log_warning(\"'early_stopping_rounds' argument is deprecated and will be removed in a future release of LightGBM. \"\n",
            "/Users/mayo/opt/anaconda3/envs/new_env/lib/python3.9/site-packages/lightgbm/engine.py:239: UserWarning: 'verbose_eval' argument is deprecated and will be removed in a future release of LightGBM. Pass 'log_evaluation()' callback via 'callbacks' argument instead.\n",
            "  _log_warning(\"'verbose_eval' argument is deprecated and will be removed in a future release of LightGBM. \"\n"
          ]
        },
        {
          "name": "stdout",
          "output_type": "stream",
          "text": [
            "[20]\ttraining's l2: 10.0091\tvalid_1's l2: 10.1536\n",
            "[30]\ttraining's l2: 9.61142\tvalid_1's l2: 9.81569\n",
            "[40]\ttraining's l2: 9.39648\tvalid_1's l2: 9.61377\n",
            "[50]\ttraining's l2: 9.21404\tvalid_1's l2: 9.45903\n",
            "[60]\ttraining's l2: 9.07781\tvalid_1's l2: 9.34314\n",
            "[70]\ttraining's l2: 8.94512\tvalid_1's l2: 9.22453\n",
            "[80]\ttraining's l2: 8.83275\tvalid_1's l2: 9.1328\n",
            "[90]\ttraining's l2: 8.71927\tvalid_1's l2: 9.03751\n",
            "[100]\ttraining's l2: 8.62747\tvalid_1's l2: 8.96252\n",
            "[110]\ttraining's l2: 8.52558\tvalid_1's l2: 8.87714\n",
            "[120]\ttraining's l2: 8.43823\tvalid_1's l2: 8.80672\n",
            "[130]\ttraining's l2: 8.35456\tvalid_1's l2: 8.73504\n",
            "[140]\ttraining's l2: 8.2696\tvalid_1's l2: 8.66017\n",
            "[150]\ttraining's l2: 8.19081\tvalid_1's l2: 8.59378\n",
            "[160]\ttraining's l2: 8.12459\tvalid_1's l2: 8.54181\n",
            "[170]\ttraining's l2: 8.04945\tvalid_1's l2: 8.47763\n",
            "[180]\ttraining's l2: 7.98795\tvalid_1's l2: 8.43187\n",
            "[190]\ttraining's l2: 7.93373\tvalid_1's l2: 8.38393\n",
            "[200]\ttraining's l2: 7.87588\tvalid_1's l2: 8.33569\n",
            "[210]\ttraining's l2: 7.82766\tvalid_1's l2: 8.29849\n",
            "[220]\ttraining's l2: 7.75271\tvalid_1's l2: 8.23228\n",
            "[230]\ttraining's l2: 7.70963\tvalid_1's l2: 8.19709\n",
            "[240]\ttraining's l2: 7.64404\tvalid_1's l2: 8.13812\n",
            "[250]\ttraining's l2: 7.57986\tvalid_1's l2: 8.08549\n",
            "[260]\ttraining's l2: 7.52544\tvalid_1's l2: 8.04263\n",
            "[270]\ttraining's l2: 7.47099\tvalid_1's l2: 7.99381\n",
            "[280]\ttraining's l2: 7.41692\tvalid_1's l2: 7.9514\n",
            "[290]\ttraining's l2: 7.379\tvalid_1's l2: 7.91908\n",
            "[300]\ttraining's l2: 7.33472\tvalid_1's l2: 7.88156\n",
            "[310]\ttraining's l2: 7.29748\tvalid_1's l2: 7.85063\n",
            "[320]\ttraining's l2: 7.25549\tvalid_1's l2: 7.8148\n",
            "[330]\ttraining's l2: 7.21343\tvalid_1's l2: 7.77956\n",
            "[340]\ttraining's l2: 7.17156\tvalid_1's l2: 7.74513\n",
            "[350]\ttraining's l2: 7.13638\tvalid_1's l2: 7.7167\n",
            "[360]\ttraining's l2: 7.09261\tvalid_1's l2: 7.67791\n",
            "[370]\ttraining's l2: 7.05344\tvalid_1's l2: 7.64209\n",
            "[380]\ttraining's l2: 7.01179\tvalid_1's l2: 7.60951\n",
            "[390]\ttraining's l2: 6.98129\tvalid_1's l2: 7.58431\n",
            "[400]\ttraining's l2: 6.94192\tvalid_1's l2: 7.55178\n",
            "[410]\ttraining's l2: 6.90696\tvalid_1's l2: 7.5219\n",
            "[420]\ttraining's l2: 6.86997\tvalid_1's l2: 7.49313\n",
            "[430]\ttraining's l2: 6.84343\tvalid_1's l2: 7.47368\n",
            "[440]\ttraining's l2: 6.81573\tvalid_1's l2: 7.45029\n",
            "[450]\ttraining's l2: 6.78492\tvalid_1's l2: 7.42527\n",
            "[460]\ttraining's l2: 6.75612\tvalid_1's l2: 7.40507\n",
            "[470]\ttraining's l2: 6.72695\tvalid_1's l2: 7.38191\n",
            "[480]\ttraining's l2: 6.70109\tvalid_1's l2: 7.36312\n",
            "[490]\ttraining's l2: 6.67226\tvalid_1's l2: 7.34059\n",
            "[500]\ttraining's l2: 6.64306\tvalid_1's l2: 7.31568\n",
            "[510]\ttraining's l2: 6.60981\tvalid_1's l2: 7.28719\n",
            "[520]\ttraining's l2: 6.5841\tvalid_1's l2: 7.26668\n",
            "[530]\ttraining's l2: 6.55953\tvalid_1's l2: 7.24833\n",
            "[540]\ttraining's l2: 6.538\tvalid_1's l2: 7.23046\n",
            "[550]\ttraining's l2: 6.50856\tvalid_1's l2: 7.20227\n",
            "[560]\ttraining's l2: 6.48312\tvalid_1's l2: 7.18112\n",
            "[570]\ttraining's l2: 6.4595\tvalid_1's l2: 7.1596\n",
            "[580]\ttraining's l2: 6.43439\tvalid_1's l2: 7.13964\n",
            "[590]\ttraining's l2: 6.41496\tvalid_1's l2: 7.12496\n",
            "[600]\ttraining's l2: 6.39111\tvalid_1's l2: 7.10428\n",
            "[610]\ttraining's l2: 6.36524\tvalid_1's l2: 7.08566\n",
            "[620]\ttraining's l2: 6.3404\tvalid_1's l2: 7.06359\n",
            "[630]\ttraining's l2: 6.31928\tvalid_1's l2: 7.04521\n",
            "[640]\ttraining's l2: 6.29763\tvalid_1's l2: 7.02587\n",
            "[650]\ttraining's l2: 6.27422\tvalid_1's l2: 7.00756\n",
            "[660]\ttraining's l2: 6.25481\tvalid_1's l2: 6.99275\n",
            "[670]\ttraining's l2: 6.23745\tvalid_1's l2: 6.98142\n",
            "[680]\ttraining's l2: 6.21653\tvalid_1's l2: 6.96473\n",
            "[690]\ttraining's l2: 6.19863\tvalid_1's l2: 6.95095\n",
            "[700]\ttraining's l2: 6.17298\tvalid_1's l2: 6.92878\n",
            "[710]\ttraining's l2: 6.15427\tvalid_1's l2: 6.91313\n",
            "[720]\ttraining's l2: 6.13756\tvalid_1's l2: 6.89944\n",
            "[730]\ttraining's l2: 6.12156\tvalid_1's l2: 6.88714\n",
            "[740]\ttraining's l2: 6.10248\tvalid_1's l2: 6.87204\n",
            "[750]\ttraining's l2: 6.08828\tvalid_1's l2: 6.86215\n",
            "[760]\ttraining's l2: 6.07689\tvalid_1's l2: 6.85407\n",
            "[770]\ttraining's l2: 6.05792\tvalid_1's l2: 6.83865\n",
            "[780]\ttraining's l2: 6.03789\tvalid_1's l2: 6.82368\n",
            "[790]\ttraining's l2: 6.02124\tvalid_1's l2: 6.8116\n",
            "[800]\ttraining's l2: 6.00218\tvalid_1's l2: 6.79669\n",
            "[810]\ttraining's l2: 5.98494\tvalid_1's l2: 6.78335\n",
            "[820]\ttraining's l2: 5.97185\tvalid_1's l2: 6.7731\n",
            "[830]\ttraining's l2: 5.95291\tvalid_1's l2: 6.75857\n",
            "[840]\ttraining's l2: 5.93698\tvalid_1's l2: 6.74707\n",
            "[850]\ttraining's l2: 5.92163\tvalid_1's l2: 6.73304\n",
            "[860]\ttraining's l2: 5.90633\tvalid_1's l2: 6.72143\n",
            "[870]\ttraining's l2: 5.88971\tvalid_1's l2: 6.7091\n",
            "[880]\ttraining's l2: 5.87636\tvalid_1's l2: 6.69851\n",
            "[890]\ttraining's l2: 5.85981\tvalid_1's l2: 6.68455\n",
            "[900]\ttraining's l2: 5.84587\tvalid_1's l2: 6.67357\n",
            "[910]\ttraining's l2: 5.83409\tvalid_1's l2: 6.66476\n",
            "[920]\ttraining's l2: 5.82064\tvalid_1's l2: 6.65372\n",
            "[930]\ttraining's l2: 5.80641\tvalid_1's l2: 6.64319\n",
            "[940]\ttraining's l2: 5.7954\tvalid_1's l2: 6.63305\n",
            "[950]\ttraining's l2: 5.7816\tvalid_1's l2: 6.62347\n",
            "[960]\ttraining's l2: 5.76804\tvalid_1's l2: 6.61384\n",
            "[970]\ttraining's l2: 5.75527\tvalid_1's l2: 6.60488\n",
            "[980]\ttraining's l2: 5.74281\tvalid_1's l2: 6.59614\n",
            "[990]\ttraining's l2: 5.72983\tvalid_1's l2: 6.58526\n",
            "[1000]\ttraining's l2: 5.71887\tvalid_1's l2: 6.57624\n",
            "Did not meet early stopping. Best iteration is:\n",
            "[1000]\ttraining's l2: 5.71887\tvalid_1's l2: 6.57624\n",
            "Evaluation Metrics on Test Set (After Hyperparameter Tuning):\n",
            "RMSE: 2.5549\n",
            "MSE: 6.5274\n",
            "MAE: 1.8119\n",
            "R^2: 0.6416\n"
          ]
        },
        {
          "name": "stderr",
          "output_type": "stream",
          "text": [
            "/Users/mayo/opt/anaconda3/envs/new_env/lib/python3.9/site-packages/sklearn/utils/validation.py:605: FutureWarning: is_sparse is deprecated and will be removed in a future version. Check `isinstance(dtype, pd.SparseDtype)` instead.\n",
            "  if is_sparse(pd_dtype):\n",
            "/Users/mayo/opt/anaconda3/envs/new_env/lib/python3.9/site-packages/sklearn/utils/validation.py:614: FutureWarning: is_sparse is deprecated and will be removed in a future version. Check `isinstance(dtype, pd.SparseDtype)` instead.\n",
            "  if is_sparse(pd_dtype) or not is_extension_array_dtype(pd_dtype):\n",
            "/Users/mayo/opt/anaconda3/envs/new_env/lib/python3.9/site-packages/sklearn/utils/validation.py:605: FutureWarning: is_sparse is deprecated and will be removed in a future version. Check `isinstance(dtype, pd.SparseDtype)` instead.\n",
            "  if is_sparse(pd_dtype):\n",
            "/Users/mayo/opt/anaconda3/envs/new_env/lib/python3.9/site-packages/sklearn/utils/validation.py:614: FutureWarning: is_sparse is deprecated and will be removed in a future version. Check `isinstance(dtype, pd.SparseDtype)` instead.\n",
            "  if is_sparse(pd_dtype) or not is_extension_array_dtype(pd_dtype):\n",
            "/Users/mayo/opt/anaconda3/envs/new_env/lib/python3.9/site-packages/sklearn/utils/validation.py:605: FutureWarning: is_sparse is deprecated and will be removed in a future version. Check `isinstance(dtype, pd.SparseDtype)` instead.\n",
            "  if is_sparse(pd_dtype):\n",
            "/Users/mayo/opt/anaconda3/envs/new_env/lib/python3.9/site-packages/sklearn/utils/validation.py:614: FutureWarning: is_sparse is deprecated and will be removed in a future version. Check `isinstance(dtype, pd.SparseDtype)` instead.\n",
            "  if is_sparse(pd_dtype) or not is_extension_array_dtype(pd_dtype):\n"
          ]
        }
      ],
      "source": [
        "from sklearn.model_selection import GridSearchCV\n",
        "\n",
        "# Define the parameter grid for hyperparameter tuning\n",
        "param_grid = {\n",
        "    'num_leaves': [15, 31, 50],\n",
        "    'learning_rate': [0.01, 0.05, 0.1],\n",
        "    'feature_fraction': [0.8, 0.9, 1.0]\n",
        "}\n",
        "\n",
        "# Create a LightGBM Regressor\n",
        "lgb_reg = lgb.LGBMRegressor(objective='regression', metric='mse', boosting_type='gbdt')\n",
        "\n",
        "# Create GridSearchCV object\n",
        "grid_search = GridSearchCV(estimator=lgb_reg, param_grid=param_grid, scoring='neg_mean_squared_error', cv=3, verbose=1)\n",
        "\n",
        "# Fit the grid search to the data\n",
        "grid_search.fit(X_train, y_train)\n",
        "\n",
        "# Get the best parameters\n",
        "best_params = grid_search.best_params_\n",
        "print(\"Best Hyperparameters:\", best_params)\n",
        "\n",
        "# Train the Light GBM model with the best hyperparameters\n",
        "best_params['objective'] = 'regression'\n",
        "best_params['metric'] = 'mse'\n",
        "best_bst = lgb.train(best_params, train_data, num_round, valid_sets=[train_data, valid_data], early_stopping_rounds=10, verbose_eval=10)\n",
        "\n",
        "# Make predictions on the test set with the tuned model\n",
        "y_pred_tuned = best_bst.predict(X_test, num_iteration=best_bst.best_iteration)\n",
        "\n",
        "# Evaluate the tuned model\n",
        "mse_tuned = mean_squared_error(y_test, y_pred_tuned)\n",
        "mae_tuned = mean_absolute_error(y_test, y_pred_tuned)\n",
        "rmse_tuned = sqrt(mse_tuned)\n",
        "r2_tuned = r2_score(y_test, y_pred_tuned)\n",
        "\n",
        "# Print the evaluation metrics\n",
        "print(\"Evaluation Metrics on Test Set (After Hyperparameter Tuning):\")\n",
        "print(\"RMSE: {:.4f}\".format(rmse_tuned))\n",
        "print(\"MSE: {:.4f}\".format(mse_tuned))\n",
        "print(\"MAE: {:.4f}\".format(mae_tuned))\n",
        "print(\"R^2: {:.4f}\".format(r2_tuned))\n"
      ]
    },
    {
      "cell_type": "code",
      "execution_count": null,
      "id": "5e5671d3-55ce-42ca-92b1-20ae64c6317c",
      "metadata": {
        "id": "5e5671d3-55ce-42ca-92b1-20ae64c6317c",
        "outputId": "b669c5b1-a49c-461b-8b3e-8632d7267659"
      },
      "outputs": [
        {
          "name": "stdout",
          "output_type": "stream",
          "text": [
            "Fitting 3 folds for each of 27 candidates, totalling 81 fits\n",
            "[LightGBM] [Warning] feature_fraction is set=0.8, colsample_bytree=1.0 will be ignored. Current value: feature_fraction=0.8\n"
          ]
        },
        {
          "name": "stderr",
          "output_type": "stream",
          "text": [
            "/Users/mayo/opt/anaconda3/envs/new_env/lib/python3.9/site-packages/sklearn/utils/validation.py:605: FutureWarning: is_sparse is deprecated and will be removed in a future version. Check `isinstance(dtype, pd.SparseDtype)` instead.\n",
            "  if is_sparse(pd_dtype):\n",
            "/Users/mayo/opt/anaconda3/envs/new_env/lib/python3.9/site-packages/sklearn/utils/validation.py:614: FutureWarning: is_sparse is deprecated and will be removed in a future version. Check `isinstance(dtype, pd.SparseDtype)` instead.\n",
            "  if is_sparse(pd_dtype) or not is_extension_array_dtype(pd_dtype):\n"
          ]
        },
        {
          "name": "stdout",
          "output_type": "stream",
          "text": [
            "[LightGBM] [Warning] feature_fraction is set=0.8, colsample_bytree=1.0 will be ignored. Current value: feature_fraction=0.8\n"
          ]
        },
        {
          "name": "stderr",
          "output_type": "stream",
          "text": [
            "/Users/mayo/opt/anaconda3/envs/new_env/lib/python3.9/site-packages/sklearn/utils/validation.py:605: FutureWarning: is_sparse is deprecated and will be removed in a future version. Check `isinstance(dtype, pd.SparseDtype)` instead.\n",
            "  if is_sparse(pd_dtype):\n",
            "/Users/mayo/opt/anaconda3/envs/new_env/lib/python3.9/site-packages/sklearn/utils/validation.py:614: FutureWarning: is_sparse is deprecated and will be removed in a future version. Check `isinstance(dtype, pd.SparseDtype)` instead.\n",
            "  if is_sparse(pd_dtype) or not is_extension_array_dtype(pd_dtype):\n"
          ]
        },
        {
          "name": "stdout",
          "output_type": "stream",
          "text": [
            "[LightGBM] [Warning] feature_fraction is set=0.8, colsample_bytree=1.0 will be ignored. Current value: feature_fraction=0.8\n"
          ]
        },
        {
          "name": "stderr",
          "output_type": "stream",
          "text": [
            "/Users/mayo/opt/anaconda3/envs/new_env/lib/python3.9/site-packages/sklearn/utils/validation.py:605: FutureWarning: is_sparse is deprecated and will be removed in a future version. Check `isinstance(dtype, pd.SparseDtype)` instead.\n",
            "  if is_sparse(pd_dtype):\n",
            "/Users/mayo/opt/anaconda3/envs/new_env/lib/python3.9/site-packages/sklearn/utils/validation.py:614: FutureWarning: is_sparse is deprecated and will be removed in a future version. Check `isinstance(dtype, pd.SparseDtype)` instead.\n",
            "  if is_sparse(pd_dtype) or not is_extension_array_dtype(pd_dtype):\n"
          ]
        },
        {
          "name": "stdout",
          "output_type": "stream",
          "text": [
            "[LightGBM] [Warning] feature_fraction is set=0.8, colsample_bytree=1.0 will be ignored. Current value: feature_fraction=0.8\n"
          ]
        },
        {
          "name": "stderr",
          "output_type": "stream",
          "text": [
            "/Users/mayo/opt/anaconda3/envs/new_env/lib/python3.9/site-packages/sklearn/utils/validation.py:605: FutureWarning: is_sparse is deprecated and will be removed in a future version. Check `isinstance(dtype, pd.SparseDtype)` instead.\n",
            "  if is_sparse(pd_dtype):\n",
            "/Users/mayo/opt/anaconda3/envs/new_env/lib/python3.9/site-packages/sklearn/utils/validation.py:614: FutureWarning: is_sparse is deprecated and will be removed in a future version. Check `isinstance(dtype, pd.SparseDtype)` instead.\n",
            "  if is_sparse(pd_dtype) or not is_extension_array_dtype(pd_dtype):\n"
          ]
        },
        {
          "name": "stdout",
          "output_type": "stream",
          "text": [
            "[LightGBM] [Warning] feature_fraction is set=0.8, colsample_bytree=1.0 will be ignored. Current value: feature_fraction=0.8\n"
          ]
        },
        {
          "name": "stderr",
          "output_type": "stream",
          "text": [
            "/Users/mayo/opt/anaconda3/envs/new_env/lib/python3.9/site-packages/sklearn/utils/validation.py:605: FutureWarning: is_sparse is deprecated and will be removed in a future version. Check `isinstance(dtype, pd.SparseDtype)` instead.\n",
            "  if is_sparse(pd_dtype):\n",
            "/Users/mayo/opt/anaconda3/envs/new_env/lib/python3.9/site-packages/sklearn/utils/validation.py:614: FutureWarning: is_sparse is deprecated and will be removed in a future version. Check `isinstance(dtype, pd.SparseDtype)` instead.\n",
            "  if is_sparse(pd_dtype) or not is_extension_array_dtype(pd_dtype):\n"
          ]
        },
        {
          "name": "stdout",
          "output_type": "stream",
          "text": [
            "[LightGBM] [Warning] feature_fraction is set=0.8, colsample_bytree=1.0 will be ignored. Current value: feature_fraction=0.8\n"
          ]
        },
        {
          "name": "stderr",
          "output_type": "stream",
          "text": [
            "/Users/mayo/opt/anaconda3/envs/new_env/lib/python3.9/site-packages/sklearn/utils/validation.py:605: FutureWarning: is_sparse is deprecated and will be removed in a future version. Check `isinstance(dtype, pd.SparseDtype)` instead.\n",
            "  if is_sparse(pd_dtype):\n",
            "/Users/mayo/opt/anaconda3/envs/new_env/lib/python3.9/site-packages/sklearn/utils/validation.py:614: FutureWarning: is_sparse is deprecated and will be removed in a future version. Check `isinstance(dtype, pd.SparseDtype)` instead.\n",
            "  if is_sparse(pd_dtype) or not is_extension_array_dtype(pd_dtype):\n"
          ]
        },
        {
          "name": "stdout",
          "output_type": "stream",
          "text": [
            "[LightGBM] [Warning] feature_fraction is set=0.8, colsample_bytree=1.0 will be ignored. Current value: feature_fraction=0.8\n"
          ]
        },
        {
          "name": "stderr",
          "output_type": "stream",
          "text": [
            "/Users/mayo/opt/anaconda3/envs/new_env/lib/python3.9/site-packages/sklearn/utils/validation.py:605: FutureWarning: is_sparse is deprecated and will be removed in a future version. Check `isinstance(dtype, pd.SparseDtype)` instead.\n",
            "  if is_sparse(pd_dtype):\n",
            "/Users/mayo/opt/anaconda3/envs/new_env/lib/python3.9/site-packages/sklearn/utils/validation.py:614: FutureWarning: is_sparse is deprecated and will be removed in a future version. Check `isinstance(dtype, pd.SparseDtype)` instead.\n",
            "  if is_sparse(pd_dtype) or not is_extension_array_dtype(pd_dtype):\n"
          ]
        },
        {
          "name": "stdout",
          "output_type": "stream",
          "text": [
            "[LightGBM] [Warning] feature_fraction is set=0.8, colsample_bytree=1.0 will be ignored. Current value: feature_fraction=0.8\n"
          ]
        },
        {
          "name": "stderr",
          "output_type": "stream",
          "text": [
            "/Users/mayo/opt/anaconda3/envs/new_env/lib/python3.9/site-packages/sklearn/utils/validation.py:605: FutureWarning: is_sparse is deprecated and will be removed in a future version. Check `isinstance(dtype, pd.SparseDtype)` instead.\n",
            "  if is_sparse(pd_dtype):\n",
            "/Users/mayo/opt/anaconda3/envs/new_env/lib/python3.9/site-packages/sklearn/utils/validation.py:614: FutureWarning: is_sparse is deprecated and will be removed in a future version. Check `isinstance(dtype, pd.SparseDtype)` instead.\n",
            "  if is_sparse(pd_dtype) or not is_extension_array_dtype(pd_dtype):\n"
          ]
        },
        {
          "name": "stdout",
          "output_type": "stream",
          "text": [
            "[LightGBM] [Warning] feature_fraction is set=0.8, colsample_bytree=1.0 will be ignored. Current value: feature_fraction=0.8\n"
          ]
        },
        {
          "name": "stderr",
          "output_type": "stream",
          "text": [
            "/Users/mayo/opt/anaconda3/envs/new_env/lib/python3.9/site-packages/sklearn/utils/validation.py:605: FutureWarning: is_sparse is deprecated and will be removed in a future version. Check `isinstance(dtype, pd.SparseDtype)` instead.\n",
            "  if is_sparse(pd_dtype):\n",
            "/Users/mayo/opt/anaconda3/envs/new_env/lib/python3.9/site-packages/sklearn/utils/validation.py:614: FutureWarning: is_sparse is deprecated and will be removed in a future version. Check `isinstance(dtype, pd.SparseDtype)` instead.\n",
            "  if is_sparse(pd_dtype) or not is_extension_array_dtype(pd_dtype):\n"
          ]
        },
        {
          "name": "stdout",
          "output_type": "stream",
          "text": [
            "[LightGBM] [Warning] feature_fraction is set=0.8, colsample_bytree=1.0 will be ignored. Current value: feature_fraction=0.8\n"
          ]
        },
        {
          "name": "stderr",
          "output_type": "stream",
          "text": [
            "/Users/mayo/opt/anaconda3/envs/new_env/lib/python3.9/site-packages/sklearn/utils/validation.py:605: FutureWarning: is_sparse is deprecated and will be removed in a future version. Check `isinstance(dtype, pd.SparseDtype)` instead.\n",
            "  if is_sparse(pd_dtype):\n",
            "/Users/mayo/opt/anaconda3/envs/new_env/lib/python3.9/site-packages/sklearn/utils/validation.py:614: FutureWarning: is_sparse is deprecated and will be removed in a future version. Check `isinstance(dtype, pd.SparseDtype)` instead.\n",
            "  if is_sparse(pd_dtype) or not is_extension_array_dtype(pd_dtype):\n"
          ]
        },
        {
          "name": "stdout",
          "output_type": "stream",
          "text": [
            "[LightGBM] [Warning] feature_fraction is set=0.8, colsample_bytree=1.0 will be ignored. Current value: feature_fraction=0.8\n"
          ]
        },
        {
          "name": "stderr",
          "output_type": "stream",
          "text": [
            "/Users/mayo/opt/anaconda3/envs/new_env/lib/python3.9/site-packages/sklearn/utils/validation.py:605: FutureWarning: is_sparse is deprecated and will be removed in a future version. Check `isinstance(dtype, pd.SparseDtype)` instead.\n",
            "  if is_sparse(pd_dtype):\n",
            "/Users/mayo/opt/anaconda3/envs/new_env/lib/python3.9/site-packages/sklearn/utils/validation.py:614: FutureWarning: is_sparse is deprecated and will be removed in a future version. Check `isinstance(dtype, pd.SparseDtype)` instead.\n",
            "  if is_sparse(pd_dtype) or not is_extension_array_dtype(pd_dtype):\n"
          ]
        },
        {
          "name": "stdout",
          "output_type": "stream",
          "text": [
            "[LightGBM] [Warning] feature_fraction is set=0.8, colsample_bytree=1.0 will be ignored. Current value: feature_fraction=0.8\n"
          ]
        },
        {
          "name": "stderr",
          "output_type": "stream",
          "text": [
            "/Users/mayo/opt/anaconda3/envs/new_env/lib/python3.9/site-packages/sklearn/utils/validation.py:605: FutureWarning: is_sparse is deprecated and will be removed in a future version. Check `isinstance(dtype, pd.SparseDtype)` instead.\n",
            "  if is_sparse(pd_dtype):\n",
            "/Users/mayo/opt/anaconda3/envs/new_env/lib/python3.9/site-packages/sklearn/utils/validation.py:614: FutureWarning: is_sparse is deprecated and will be removed in a future version. Check `isinstance(dtype, pd.SparseDtype)` instead.\n",
            "  if is_sparse(pd_dtype) or not is_extension_array_dtype(pd_dtype):\n"
          ]
        },
        {
          "name": "stdout",
          "output_type": "stream",
          "text": [
            "[LightGBM] [Warning] feature_fraction is set=0.8, colsample_bytree=1.0 will be ignored. Current value: feature_fraction=0.8\n"
          ]
        },
        {
          "name": "stderr",
          "output_type": "stream",
          "text": [
            "/Users/mayo/opt/anaconda3/envs/new_env/lib/python3.9/site-packages/sklearn/utils/validation.py:605: FutureWarning: is_sparse is deprecated and will be removed in a future version. Check `isinstance(dtype, pd.SparseDtype)` instead.\n",
            "  if is_sparse(pd_dtype):\n",
            "/Users/mayo/opt/anaconda3/envs/new_env/lib/python3.9/site-packages/sklearn/utils/validation.py:614: FutureWarning: is_sparse is deprecated and will be removed in a future version. Check `isinstance(dtype, pd.SparseDtype)` instead.\n",
            "  if is_sparse(pd_dtype) or not is_extension_array_dtype(pd_dtype):\n"
          ]
        },
        {
          "name": "stdout",
          "output_type": "stream",
          "text": [
            "[LightGBM] [Warning] feature_fraction is set=0.8, colsample_bytree=1.0 will be ignored. Current value: feature_fraction=0.8\n"
          ]
        },
        {
          "name": "stderr",
          "output_type": "stream",
          "text": [
            "/Users/mayo/opt/anaconda3/envs/new_env/lib/python3.9/site-packages/sklearn/utils/validation.py:605: FutureWarning: is_sparse is deprecated and will be removed in a future version. Check `isinstance(dtype, pd.SparseDtype)` instead.\n",
            "  if is_sparse(pd_dtype):\n",
            "/Users/mayo/opt/anaconda3/envs/new_env/lib/python3.9/site-packages/sklearn/utils/validation.py:614: FutureWarning: is_sparse is deprecated and will be removed in a future version. Check `isinstance(dtype, pd.SparseDtype)` instead.\n",
            "  if is_sparse(pd_dtype) or not is_extension_array_dtype(pd_dtype):\n"
          ]
        },
        {
          "name": "stdout",
          "output_type": "stream",
          "text": [
            "[LightGBM] [Warning] feature_fraction is set=0.8, colsample_bytree=1.0 will be ignored. Current value: feature_fraction=0.8\n"
          ]
        },
        {
          "name": "stderr",
          "output_type": "stream",
          "text": [
            "/Users/mayo/opt/anaconda3/envs/new_env/lib/python3.9/site-packages/sklearn/utils/validation.py:605: FutureWarning: is_sparse is deprecated and will be removed in a future version. Check `isinstance(dtype, pd.SparseDtype)` instead.\n",
            "  if is_sparse(pd_dtype):\n",
            "/Users/mayo/opt/anaconda3/envs/new_env/lib/python3.9/site-packages/sklearn/utils/validation.py:614: FutureWarning: is_sparse is deprecated and will be removed in a future version. Check `isinstance(dtype, pd.SparseDtype)` instead.\n",
            "  if is_sparse(pd_dtype) or not is_extension_array_dtype(pd_dtype):\n"
          ]
        },
        {
          "name": "stdout",
          "output_type": "stream",
          "text": [
            "[LightGBM] [Warning] feature_fraction is set=0.8, colsample_bytree=1.0 will be ignored. Current value: feature_fraction=0.8\n"
          ]
        },
        {
          "name": "stderr",
          "output_type": "stream",
          "text": [
            "/Users/mayo/opt/anaconda3/envs/new_env/lib/python3.9/site-packages/sklearn/utils/validation.py:605: FutureWarning: is_sparse is deprecated and will be removed in a future version. Check `isinstance(dtype, pd.SparseDtype)` instead.\n",
            "  if is_sparse(pd_dtype):\n",
            "/Users/mayo/opt/anaconda3/envs/new_env/lib/python3.9/site-packages/sklearn/utils/validation.py:614: FutureWarning: is_sparse is deprecated and will be removed in a future version. Check `isinstance(dtype, pd.SparseDtype)` instead.\n",
            "  if is_sparse(pd_dtype) or not is_extension_array_dtype(pd_dtype):\n"
          ]
        },
        {
          "name": "stdout",
          "output_type": "stream",
          "text": [
            "[LightGBM] [Warning] feature_fraction is set=0.8, colsample_bytree=1.0 will be ignored. Current value: feature_fraction=0.8\n"
          ]
        },
        {
          "name": "stderr",
          "output_type": "stream",
          "text": [
            "/Users/mayo/opt/anaconda3/envs/new_env/lib/python3.9/site-packages/sklearn/utils/validation.py:605: FutureWarning: is_sparse is deprecated and will be removed in a future version. Check `isinstance(dtype, pd.SparseDtype)` instead.\n",
            "  if is_sparse(pd_dtype):\n",
            "/Users/mayo/opt/anaconda3/envs/new_env/lib/python3.9/site-packages/sklearn/utils/validation.py:614: FutureWarning: is_sparse is deprecated and will be removed in a future version. Check `isinstance(dtype, pd.SparseDtype)` instead.\n",
            "  if is_sparse(pd_dtype) or not is_extension_array_dtype(pd_dtype):\n"
          ]
        },
        {
          "name": "stdout",
          "output_type": "stream",
          "text": [
            "[LightGBM] [Warning] feature_fraction is set=0.8, colsample_bytree=1.0 will be ignored. Current value: feature_fraction=0.8\n"
          ]
        },
        {
          "name": "stderr",
          "output_type": "stream",
          "text": [
            "/Users/mayo/opt/anaconda3/envs/new_env/lib/python3.9/site-packages/sklearn/utils/validation.py:605: FutureWarning: is_sparse is deprecated and will be removed in a future version. Check `isinstance(dtype, pd.SparseDtype)` instead.\n",
            "  if is_sparse(pd_dtype):\n",
            "/Users/mayo/opt/anaconda3/envs/new_env/lib/python3.9/site-packages/sklearn/utils/validation.py:614: FutureWarning: is_sparse is deprecated and will be removed in a future version. Check `isinstance(dtype, pd.SparseDtype)` instead.\n",
            "  if is_sparse(pd_dtype) or not is_extension_array_dtype(pd_dtype):\n"
          ]
        },
        {
          "name": "stdout",
          "output_type": "stream",
          "text": [
            "[LightGBM] [Warning] feature_fraction is set=0.8, colsample_bytree=1.0 will be ignored. Current value: feature_fraction=0.8\n"
          ]
        },
        {
          "name": "stderr",
          "output_type": "stream",
          "text": [
            "/Users/mayo/opt/anaconda3/envs/new_env/lib/python3.9/site-packages/sklearn/utils/validation.py:605: FutureWarning: is_sparse is deprecated and will be removed in a future version. Check `isinstance(dtype, pd.SparseDtype)` instead.\n",
            "  if is_sparse(pd_dtype):\n",
            "/Users/mayo/opt/anaconda3/envs/new_env/lib/python3.9/site-packages/sklearn/utils/validation.py:614: FutureWarning: is_sparse is deprecated and will be removed in a future version. Check `isinstance(dtype, pd.SparseDtype)` instead.\n",
            "  if is_sparse(pd_dtype) or not is_extension_array_dtype(pd_dtype):\n"
          ]
        },
        {
          "name": "stdout",
          "output_type": "stream",
          "text": [
            "[LightGBM] [Warning] feature_fraction is set=0.8, colsample_bytree=1.0 will be ignored. Current value: feature_fraction=0.8\n"
          ]
        },
        {
          "name": "stderr",
          "output_type": "stream",
          "text": [
            "/Users/mayo/opt/anaconda3/envs/new_env/lib/python3.9/site-packages/sklearn/utils/validation.py:605: FutureWarning: is_sparse is deprecated and will be removed in a future version. Check `isinstance(dtype, pd.SparseDtype)` instead.\n",
            "  if is_sparse(pd_dtype):\n",
            "/Users/mayo/opt/anaconda3/envs/new_env/lib/python3.9/site-packages/sklearn/utils/validation.py:614: FutureWarning: is_sparse is deprecated and will be removed in a future version. Check `isinstance(dtype, pd.SparseDtype)` instead.\n",
            "  if is_sparse(pd_dtype) or not is_extension_array_dtype(pd_dtype):\n"
          ]
        },
        {
          "name": "stdout",
          "output_type": "stream",
          "text": [
            "[LightGBM] [Warning] feature_fraction is set=0.8, colsample_bytree=1.0 will be ignored. Current value: feature_fraction=0.8\n"
          ]
        },
        {
          "name": "stderr",
          "output_type": "stream",
          "text": [
            "/Users/mayo/opt/anaconda3/envs/new_env/lib/python3.9/site-packages/sklearn/utils/validation.py:605: FutureWarning: is_sparse is deprecated and will be removed in a future version. Check `isinstance(dtype, pd.SparseDtype)` instead.\n",
            "  if is_sparse(pd_dtype):\n",
            "/Users/mayo/opt/anaconda3/envs/new_env/lib/python3.9/site-packages/sklearn/utils/validation.py:614: FutureWarning: is_sparse is deprecated and will be removed in a future version. Check `isinstance(dtype, pd.SparseDtype)` instead.\n",
            "  if is_sparse(pd_dtype) or not is_extension_array_dtype(pd_dtype):\n"
          ]
        },
        {
          "name": "stdout",
          "output_type": "stream",
          "text": [
            "[LightGBM] [Warning] feature_fraction is set=0.8, colsample_bytree=1.0 will be ignored. Current value: feature_fraction=0.8\n"
          ]
        },
        {
          "name": "stderr",
          "output_type": "stream",
          "text": [
            "/Users/mayo/opt/anaconda3/envs/new_env/lib/python3.9/site-packages/sklearn/utils/validation.py:605: FutureWarning: is_sparse is deprecated and will be removed in a future version. Check `isinstance(dtype, pd.SparseDtype)` instead.\n",
            "  if is_sparse(pd_dtype):\n",
            "/Users/mayo/opt/anaconda3/envs/new_env/lib/python3.9/site-packages/sklearn/utils/validation.py:614: FutureWarning: is_sparse is deprecated and will be removed in a future version. Check `isinstance(dtype, pd.SparseDtype)` instead.\n",
            "  if is_sparse(pd_dtype) or not is_extension_array_dtype(pd_dtype):\n"
          ]
        },
        {
          "name": "stdout",
          "output_type": "stream",
          "text": [
            "[LightGBM] [Warning] feature_fraction is set=0.8, colsample_bytree=1.0 will be ignored. Current value: feature_fraction=0.8\n"
          ]
        },
        {
          "name": "stderr",
          "output_type": "stream",
          "text": [
            "/Users/mayo/opt/anaconda3/envs/new_env/lib/python3.9/site-packages/sklearn/utils/validation.py:605: FutureWarning: is_sparse is deprecated and will be removed in a future version. Check `isinstance(dtype, pd.SparseDtype)` instead.\n",
            "  if is_sparse(pd_dtype):\n",
            "/Users/mayo/opt/anaconda3/envs/new_env/lib/python3.9/site-packages/sklearn/utils/validation.py:614: FutureWarning: is_sparse is deprecated and will be removed in a future version. Check `isinstance(dtype, pd.SparseDtype)` instead.\n",
            "  if is_sparse(pd_dtype) or not is_extension_array_dtype(pd_dtype):\n"
          ]
        },
        {
          "name": "stdout",
          "output_type": "stream",
          "text": [
            "[LightGBM] [Warning] feature_fraction is set=0.8, colsample_bytree=1.0 will be ignored. Current value: feature_fraction=0.8\n"
          ]
        },
        {
          "name": "stderr",
          "output_type": "stream",
          "text": [
            "/Users/mayo/opt/anaconda3/envs/new_env/lib/python3.9/site-packages/sklearn/utils/validation.py:605: FutureWarning: is_sparse is deprecated and will be removed in a future version. Check `isinstance(dtype, pd.SparseDtype)` instead.\n",
            "  if is_sparse(pd_dtype):\n",
            "/Users/mayo/opt/anaconda3/envs/new_env/lib/python3.9/site-packages/sklearn/utils/validation.py:614: FutureWarning: is_sparse is deprecated and will be removed in a future version. Check `isinstance(dtype, pd.SparseDtype)` instead.\n",
            "  if is_sparse(pd_dtype) or not is_extension_array_dtype(pd_dtype):\n"
          ]
        },
        {
          "name": "stdout",
          "output_type": "stream",
          "text": [
            "[LightGBM] [Warning] feature_fraction is set=0.8, colsample_bytree=1.0 will be ignored. Current value: feature_fraction=0.8\n"
          ]
        },
        {
          "name": "stderr",
          "output_type": "stream",
          "text": [
            "/Users/mayo/opt/anaconda3/envs/new_env/lib/python3.9/site-packages/sklearn/utils/validation.py:605: FutureWarning: is_sparse is deprecated and will be removed in a future version. Check `isinstance(dtype, pd.SparseDtype)` instead.\n",
            "  if is_sparse(pd_dtype):\n",
            "/Users/mayo/opt/anaconda3/envs/new_env/lib/python3.9/site-packages/sklearn/utils/validation.py:614: FutureWarning: is_sparse is deprecated and will be removed in a future version. Check `isinstance(dtype, pd.SparseDtype)` instead.\n",
            "  if is_sparse(pd_dtype) or not is_extension_array_dtype(pd_dtype):\n"
          ]
        },
        {
          "name": "stdout",
          "output_type": "stream",
          "text": [
            "[LightGBM] [Warning] feature_fraction is set=0.8, colsample_bytree=1.0 will be ignored. Current value: feature_fraction=0.8\n"
          ]
        },
        {
          "name": "stderr",
          "output_type": "stream",
          "text": [
            "/Users/mayo/opt/anaconda3/envs/new_env/lib/python3.9/site-packages/sklearn/utils/validation.py:605: FutureWarning: is_sparse is deprecated and will be removed in a future version. Check `isinstance(dtype, pd.SparseDtype)` instead.\n",
            "  if is_sparse(pd_dtype):\n",
            "/Users/mayo/opt/anaconda3/envs/new_env/lib/python3.9/site-packages/sklearn/utils/validation.py:614: FutureWarning: is_sparse is deprecated and will be removed in a future version. Check `isinstance(dtype, pd.SparseDtype)` instead.\n",
            "  if is_sparse(pd_dtype) or not is_extension_array_dtype(pd_dtype):\n"
          ]
        },
        {
          "name": "stdout",
          "output_type": "stream",
          "text": [
            "[LightGBM] [Warning] feature_fraction is set=0.8, colsample_bytree=1.0 will be ignored. Current value: feature_fraction=0.8\n"
          ]
        },
        {
          "name": "stderr",
          "output_type": "stream",
          "text": [
            "/Users/mayo/opt/anaconda3/envs/new_env/lib/python3.9/site-packages/sklearn/utils/validation.py:605: FutureWarning: is_sparse is deprecated and will be removed in a future version. Check `isinstance(dtype, pd.SparseDtype)` instead.\n",
            "  if is_sparse(pd_dtype):\n",
            "/Users/mayo/opt/anaconda3/envs/new_env/lib/python3.9/site-packages/sklearn/utils/validation.py:614: FutureWarning: is_sparse is deprecated and will be removed in a future version. Check `isinstance(dtype, pd.SparseDtype)` instead.\n",
            "  if is_sparse(pd_dtype) or not is_extension_array_dtype(pd_dtype):\n"
          ]
        },
        {
          "name": "stdout",
          "output_type": "stream",
          "text": [
            "[LightGBM] [Warning] feature_fraction is set=0.85, colsample_bytree=1.0 will be ignored. Current value: feature_fraction=0.85\n"
          ]
        },
        {
          "name": "stderr",
          "output_type": "stream",
          "text": [
            "/Users/mayo/opt/anaconda3/envs/new_env/lib/python3.9/site-packages/sklearn/utils/validation.py:605: FutureWarning: is_sparse is deprecated and will be removed in a future version. Check `isinstance(dtype, pd.SparseDtype)` instead.\n",
            "  if is_sparse(pd_dtype):\n",
            "/Users/mayo/opt/anaconda3/envs/new_env/lib/python3.9/site-packages/sklearn/utils/validation.py:614: FutureWarning: is_sparse is deprecated and will be removed in a future version. Check `isinstance(dtype, pd.SparseDtype)` instead.\n",
            "  if is_sparse(pd_dtype) or not is_extension_array_dtype(pd_dtype):\n"
          ]
        },
        {
          "name": "stdout",
          "output_type": "stream",
          "text": [
            "[LightGBM] [Warning] feature_fraction is set=0.85, colsample_bytree=1.0 will be ignored. Current value: feature_fraction=0.85\n"
          ]
        },
        {
          "name": "stderr",
          "output_type": "stream",
          "text": [
            "/Users/mayo/opt/anaconda3/envs/new_env/lib/python3.9/site-packages/sklearn/utils/validation.py:605: FutureWarning: is_sparse is deprecated and will be removed in a future version. Check `isinstance(dtype, pd.SparseDtype)` instead.\n",
            "  if is_sparse(pd_dtype):\n",
            "/Users/mayo/opt/anaconda3/envs/new_env/lib/python3.9/site-packages/sklearn/utils/validation.py:614: FutureWarning: is_sparse is deprecated and will be removed in a future version. Check `isinstance(dtype, pd.SparseDtype)` instead.\n",
            "  if is_sparse(pd_dtype) or not is_extension_array_dtype(pd_dtype):\n"
          ]
        },
        {
          "name": "stdout",
          "output_type": "stream",
          "text": [
            "[LightGBM] [Warning] feature_fraction is set=0.85, colsample_bytree=1.0 will be ignored. Current value: feature_fraction=0.85\n"
          ]
        },
        {
          "name": "stderr",
          "output_type": "stream",
          "text": [
            "/Users/mayo/opt/anaconda3/envs/new_env/lib/python3.9/site-packages/sklearn/utils/validation.py:605: FutureWarning: is_sparse is deprecated and will be removed in a future version. Check `isinstance(dtype, pd.SparseDtype)` instead.\n",
            "  if is_sparse(pd_dtype):\n",
            "/Users/mayo/opt/anaconda3/envs/new_env/lib/python3.9/site-packages/sklearn/utils/validation.py:614: FutureWarning: is_sparse is deprecated and will be removed in a future version. Check `isinstance(dtype, pd.SparseDtype)` instead.\n",
            "  if is_sparse(pd_dtype) or not is_extension_array_dtype(pd_dtype):\n"
          ]
        },
        {
          "name": "stdout",
          "output_type": "stream",
          "text": [
            "[LightGBM] [Warning] feature_fraction is set=0.85, colsample_bytree=1.0 will be ignored. Current value: feature_fraction=0.85\n"
          ]
        },
        {
          "name": "stderr",
          "output_type": "stream",
          "text": [
            "/Users/mayo/opt/anaconda3/envs/new_env/lib/python3.9/site-packages/sklearn/utils/validation.py:605: FutureWarning: is_sparse is deprecated and will be removed in a future version. Check `isinstance(dtype, pd.SparseDtype)` instead.\n",
            "  if is_sparse(pd_dtype):\n",
            "/Users/mayo/opt/anaconda3/envs/new_env/lib/python3.9/site-packages/sklearn/utils/validation.py:614: FutureWarning: is_sparse is deprecated and will be removed in a future version. Check `isinstance(dtype, pd.SparseDtype)` instead.\n",
            "  if is_sparse(pd_dtype) or not is_extension_array_dtype(pd_dtype):\n"
          ]
        },
        {
          "name": "stdout",
          "output_type": "stream",
          "text": [
            "[LightGBM] [Warning] feature_fraction is set=0.85, colsample_bytree=1.0 will be ignored. Current value: feature_fraction=0.85\n"
          ]
        },
        {
          "name": "stderr",
          "output_type": "stream",
          "text": [
            "/Users/mayo/opt/anaconda3/envs/new_env/lib/python3.9/site-packages/sklearn/utils/validation.py:605: FutureWarning: is_sparse is deprecated and will be removed in a future version. Check `isinstance(dtype, pd.SparseDtype)` instead.\n",
            "  if is_sparse(pd_dtype):\n",
            "/Users/mayo/opt/anaconda3/envs/new_env/lib/python3.9/site-packages/sklearn/utils/validation.py:614: FutureWarning: is_sparse is deprecated and will be removed in a future version. Check `isinstance(dtype, pd.SparseDtype)` instead.\n",
            "  if is_sparse(pd_dtype) or not is_extension_array_dtype(pd_dtype):\n"
          ]
        },
        {
          "name": "stdout",
          "output_type": "stream",
          "text": [
            "[LightGBM] [Warning] feature_fraction is set=0.85, colsample_bytree=1.0 will be ignored. Current value: feature_fraction=0.85\n"
          ]
        },
        {
          "name": "stderr",
          "output_type": "stream",
          "text": [
            "/Users/mayo/opt/anaconda3/envs/new_env/lib/python3.9/site-packages/sklearn/utils/validation.py:605: FutureWarning: is_sparse is deprecated and will be removed in a future version. Check `isinstance(dtype, pd.SparseDtype)` instead.\n",
            "  if is_sparse(pd_dtype):\n",
            "/Users/mayo/opt/anaconda3/envs/new_env/lib/python3.9/site-packages/sklearn/utils/validation.py:614: FutureWarning: is_sparse is deprecated and will be removed in a future version. Check `isinstance(dtype, pd.SparseDtype)` instead.\n",
            "  if is_sparse(pd_dtype) or not is_extension_array_dtype(pd_dtype):\n"
          ]
        },
        {
          "name": "stdout",
          "output_type": "stream",
          "text": [
            "[LightGBM] [Warning] feature_fraction is set=0.85, colsample_bytree=1.0 will be ignored. Current value: feature_fraction=0.85\n"
          ]
        },
        {
          "name": "stderr",
          "output_type": "stream",
          "text": [
            "/Users/mayo/opt/anaconda3/envs/new_env/lib/python3.9/site-packages/sklearn/utils/validation.py:605: FutureWarning: is_sparse is deprecated and will be removed in a future version. Check `isinstance(dtype, pd.SparseDtype)` instead.\n",
            "  if is_sparse(pd_dtype):\n",
            "/Users/mayo/opt/anaconda3/envs/new_env/lib/python3.9/site-packages/sklearn/utils/validation.py:614: FutureWarning: is_sparse is deprecated and will be removed in a future version. Check `isinstance(dtype, pd.SparseDtype)` instead.\n",
            "  if is_sparse(pd_dtype) or not is_extension_array_dtype(pd_dtype):\n"
          ]
        },
        {
          "name": "stdout",
          "output_type": "stream",
          "text": [
            "[LightGBM] [Warning] feature_fraction is set=0.85, colsample_bytree=1.0 will be ignored. Current value: feature_fraction=0.85\n"
          ]
        },
        {
          "name": "stderr",
          "output_type": "stream",
          "text": [
            "/Users/mayo/opt/anaconda3/envs/new_env/lib/python3.9/site-packages/sklearn/utils/validation.py:605: FutureWarning: is_sparse is deprecated and will be removed in a future version. Check `isinstance(dtype, pd.SparseDtype)` instead.\n",
            "  if is_sparse(pd_dtype):\n",
            "/Users/mayo/opt/anaconda3/envs/new_env/lib/python3.9/site-packages/sklearn/utils/validation.py:614: FutureWarning: is_sparse is deprecated and will be removed in a future version. Check `isinstance(dtype, pd.SparseDtype)` instead.\n",
            "  if is_sparse(pd_dtype) or not is_extension_array_dtype(pd_dtype):\n"
          ]
        },
        {
          "name": "stdout",
          "output_type": "stream",
          "text": [
            "[LightGBM] [Warning] feature_fraction is set=0.85, colsample_bytree=1.0 will be ignored. Current value: feature_fraction=0.85\n"
          ]
        },
        {
          "name": "stderr",
          "output_type": "stream",
          "text": [
            "/Users/mayo/opt/anaconda3/envs/new_env/lib/python3.9/site-packages/sklearn/utils/validation.py:605: FutureWarning: is_sparse is deprecated and will be removed in a future version. Check `isinstance(dtype, pd.SparseDtype)` instead.\n",
            "  if is_sparse(pd_dtype):\n",
            "/Users/mayo/opt/anaconda3/envs/new_env/lib/python3.9/site-packages/sklearn/utils/validation.py:614: FutureWarning: is_sparse is deprecated and will be removed in a future version. Check `isinstance(dtype, pd.SparseDtype)` instead.\n",
            "  if is_sparse(pd_dtype) or not is_extension_array_dtype(pd_dtype):\n"
          ]
        },
        {
          "name": "stdout",
          "output_type": "stream",
          "text": [
            "[LightGBM] [Warning] feature_fraction is set=0.85, colsample_bytree=1.0 will be ignored. Current value: feature_fraction=0.85\n"
          ]
        },
        {
          "name": "stderr",
          "output_type": "stream",
          "text": [
            "/Users/mayo/opt/anaconda3/envs/new_env/lib/python3.9/site-packages/sklearn/utils/validation.py:605: FutureWarning: is_sparse is deprecated and will be removed in a future version. Check `isinstance(dtype, pd.SparseDtype)` instead.\n",
            "  if is_sparse(pd_dtype):\n",
            "/Users/mayo/opt/anaconda3/envs/new_env/lib/python3.9/site-packages/sklearn/utils/validation.py:614: FutureWarning: is_sparse is deprecated and will be removed in a future version. Check `isinstance(dtype, pd.SparseDtype)` instead.\n",
            "  if is_sparse(pd_dtype) or not is_extension_array_dtype(pd_dtype):\n"
          ]
        },
        {
          "name": "stdout",
          "output_type": "stream",
          "text": [
            "[LightGBM] [Warning] feature_fraction is set=0.85, colsample_bytree=1.0 will be ignored. Current value: feature_fraction=0.85\n"
          ]
        },
        {
          "name": "stderr",
          "output_type": "stream",
          "text": [
            "/Users/mayo/opt/anaconda3/envs/new_env/lib/python3.9/site-packages/sklearn/utils/validation.py:605: FutureWarning: is_sparse is deprecated and will be removed in a future version. Check `isinstance(dtype, pd.SparseDtype)` instead.\n",
            "  if is_sparse(pd_dtype):\n",
            "/Users/mayo/opt/anaconda3/envs/new_env/lib/python3.9/site-packages/sklearn/utils/validation.py:614: FutureWarning: is_sparse is deprecated and will be removed in a future version. Check `isinstance(dtype, pd.SparseDtype)` instead.\n",
            "  if is_sparse(pd_dtype) or not is_extension_array_dtype(pd_dtype):\n"
          ]
        },
        {
          "name": "stdout",
          "output_type": "stream",
          "text": [
            "[LightGBM] [Warning] feature_fraction is set=0.85, colsample_bytree=1.0 will be ignored. Current value: feature_fraction=0.85\n"
          ]
        },
        {
          "name": "stderr",
          "output_type": "stream",
          "text": [
            "/Users/mayo/opt/anaconda3/envs/new_env/lib/python3.9/site-packages/sklearn/utils/validation.py:605: FutureWarning: is_sparse is deprecated and will be removed in a future version. Check `isinstance(dtype, pd.SparseDtype)` instead.\n",
            "  if is_sparse(pd_dtype):\n",
            "/Users/mayo/opt/anaconda3/envs/new_env/lib/python3.9/site-packages/sklearn/utils/validation.py:614: FutureWarning: is_sparse is deprecated and will be removed in a future version. Check `isinstance(dtype, pd.SparseDtype)` instead.\n",
            "  if is_sparse(pd_dtype) or not is_extension_array_dtype(pd_dtype):\n"
          ]
        },
        {
          "name": "stdout",
          "output_type": "stream",
          "text": [
            "[LightGBM] [Warning] feature_fraction is set=0.85, colsample_bytree=1.0 will be ignored. Current value: feature_fraction=0.85\n"
          ]
        },
        {
          "name": "stderr",
          "output_type": "stream",
          "text": [
            "/Users/mayo/opt/anaconda3/envs/new_env/lib/python3.9/site-packages/sklearn/utils/validation.py:605: FutureWarning: is_sparse is deprecated and will be removed in a future version. Check `isinstance(dtype, pd.SparseDtype)` instead.\n",
            "  if is_sparse(pd_dtype):\n",
            "/Users/mayo/opt/anaconda3/envs/new_env/lib/python3.9/site-packages/sklearn/utils/validation.py:614: FutureWarning: is_sparse is deprecated and will be removed in a future version. Check `isinstance(dtype, pd.SparseDtype)` instead.\n",
            "  if is_sparse(pd_dtype) or not is_extension_array_dtype(pd_dtype):\n"
          ]
        },
        {
          "name": "stdout",
          "output_type": "stream",
          "text": [
            "[LightGBM] [Warning] feature_fraction is set=0.85, colsample_bytree=1.0 will be ignored. Current value: feature_fraction=0.85\n"
          ]
        },
        {
          "name": "stderr",
          "output_type": "stream",
          "text": [
            "/Users/mayo/opt/anaconda3/envs/new_env/lib/python3.9/site-packages/sklearn/utils/validation.py:605: FutureWarning: is_sparse is deprecated and will be removed in a future version. Check `isinstance(dtype, pd.SparseDtype)` instead.\n",
            "  if is_sparse(pd_dtype):\n",
            "/Users/mayo/opt/anaconda3/envs/new_env/lib/python3.9/site-packages/sklearn/utils/validation.py:614: FutureWarning: is_sparse is deprecated and will be removed in a future version. Check `isinstance(dtype, pd.SparseDtype)` instead.\n",
            "  if is_sparse(pd_dtype) or not is_extension_array_dtype(pd_dtype):\n"
          ]
        },
        {
          "name": "stdout",
          "output_type": "stream",
          "text": [
            "[LightGBM] [Warning] feature_fraction is set=0.85, colsample_bytree=1.0 will be ignored. Current value: feature_fraction=0.85\n"
          ]
        },
        {
          "name": "stderr",
          "output_type": "stream",
          "text": [
            "/Users/mayo/opt/anaconda3/envs/new_env/lib/python3.9/site-packages/sklearn/utils/validation.py:605: FutureWarning: is_sparse is deprecated and will be removed in a future version. Check `isinstance(dtype, pd.SparseDtype)` instead.\n",
            "  if is_sparse(pd_dtype):\n",
            "/Users/mayo/opt/anaconda3/envs/new_env/lib/python3.9/site-packages/sklearn/utils/validation.py:614: FutureWarning: is_sparse is deprecated and will be removed in a future version. Check `isinstance(dtype, pd.SparseDtype)` instead.\n",
            "  if is_sparse(pd_dtype) or not is_extension_array_dtype(pd_dtype):\n"
          ]
        },
        {
          "name": "stdout",
          "output_type": "stream",
          "text": [
            "[LightGBM] [Warning] feature_fraction is set=0.85, colsample_bytree=1.0 will be ignored. Current value: feature_fraction=0.85\n"
          ]
        },
        {
          "name": "stderr",
          "output_type": "stream",
          "text": [
            "/Users/mayo/opt/anaconda3/envs/new_env/lib/python3.9/site-packages/sklearn/utils/validation.py:605: FutureWarning: is_sparse is deprecated and will be removed in a future version. Check `isinstance(dtype, pd.SparseDtype)` instead.\n",
            "  if is_sparse(pd_dtype):\n",
            "/Users/mayo/opt/anaconda3/envs/new_env/lib/python3.9/site-packages/sklearn/utils/validation.py:614: FutureWarning: is_sparse is deprecated and will be removed in a future version. Check `isinstance(dtype, pd.SparseDtype)` instead.\n",
            "  if is_sparse(pd_dtype) or not is_extension_array_dtype(pd_dtype):\n"
          ]
        },
        {
          "name": "stdout",
          "output_type": "stream",
          "text": [
            "[LightGBM] [Warning] feature_fraction is set=0.85, colsample_bytree=1.0 will be ignored. Current value: feature_fraction=0.85\n"
          ]
        },
        {
          "name": "stderr",
          "output_type": "stream",
          "text": [
            "/Users/mayo/opt/anaconda3/envs/new_env/lib/python3.9/site-packages/sklearn/utils/validation.py:605: FutureWarning: is_sparse is deprecated and will be removed in a future version. Check `isinstance(dtype, pd.SparseDtype)` instead.\n",
            "  if is_sparse(pd_dtype):\n",
            "/Users/mayo/opt/anaconda3/envs/new_env/lib/python3.9/site-packages/sklearn/utils/validation.py:614: FutureWarning: is_sparse is deprecated and will be removed in a future version. Check `isinstance(dtype, pd.SparseDtype)` instead.\n",
            "  if is_sparse(pd_dtype) or not is_extension_array_dtype(pd_dtype):\n"
          ]
        },
        {
          "name": "stdout",
          "output_type": "stream",
          "text": [
            "[LightGBM] [Warning] feature_fraction is set=0.85, colsample_bytree=1.0 will be ignored. Current value: feature_fraction=0.85\n"
          ]
        },
        {
          "name": "stderr",
          "output_type": "stream",
          "text": [
            "/Users/mayo/opt/anaconda3/envs/new_env/lib/python3.9/site-packages/sklearn/utils/validation.py:605: FutureWarning: is_sparse is deprecated and will be removed in a future version. Check `isinstance(dtype, pd.SparseDtype)` instead.\n",
            "  if is_sparse(pd_dtype):\n",
            "/Users/mayo/opt/anaconda3/envs/new_env/lib/python3.9/site-packages/sklearn/utils/validation.py:614: FutureWarning: is_sparse is deprecated and will be removed in a future version. Check `isinstance(dtype, pd.SparseDtype)` instead.\n",
            "  if is_sparse(pd_dtype) or not is_extension_array_dtype(pd_dtype):\n"
          ]
        },
        {
          "name": "stdout",
          "output_type": "stream",
          "text": [
            "[LightGBM] [Warning] feature_fraction is set=0.85, colsample_bytree=1.0 will be ignored. Current value: feature_fraction=0.85\n"
          ]
        },
        {
          "name": "stderr",
          "output_type": "stream",
          "text": [
            "/Users/mayo/opt/anaconda3/envs/new_env/lib/python3.9/site-packages/sklearn/utils/validation.py:605: FutureWarning: is_sparse is deprecated and will be removed in a future version. Check `isinstance(dtype, pd.SparseDtype)` instead.\n",
            "  if is_sparse(pd_dtype):\n",
            "/Users/mayo/opt/anaconda3/envs/new_env/lib/python3.9/site-packages/sklearn/utils/validation.py:614: FutureWarning: is_sparse is deprecated and will be removed in a future version. Check `isinstance(dtype, pd.SparseDtype)` instead.\n",
            "  if is_sparse(pd_dtype) or not is_extension_array_dtype(pd_dtype):\n"
          ]
        },
        {
          "name": "stdout",
          "output_type": "stream",
          "text": [
            "[LightGBM] [Warning] feature_fraction is set=0.85, colsample_bytree=1.0 will be ignored. Current value: feature_fraction=0.85\n"
          ]
        },
        {
          "name": "stderr",
          "output_type": "stream",
          "text": [
            "/Users/mayo/opt/anaconda3/envs/new_env/lib/python3.9/site-packages/sklearn/utils/validation.py:605: FutureWarning: is_sparse is deprecated and will be removed in a future version. Check `isinstance(dtype, pd.SparseDtype)` instead.\n",
            "  if is_sparse(pd_dtype):\n",
            "/Users/mayo/opt/anaconda3/envs/new_env/lib/python3.9/site-packages/sklearn/utils/validation.py:614: FutureWarning: is_sparse is deprecated and will be removed in a future version. Check `isinstance(dtype, pd.SparseDtype)` instead.\n",
            "  if is_sparse(pd_dtype) or not is_extension_array_dtype(pd_dtype):\n"
          ]
        },
        {
          "name": "stdout",
          "output_type": "stream",
          "text": [
            "[LightGBM] [Warning] feature_fraction is set=0.85, colsample_bytree=1.0 will be ignored. Current value: feature_fraction=0.85\n"
          ]
        },
        {
          "name": "stderr",
          "output_type": "stream",
          "text": [
            "/Users/mayo/opt/anaconda3/envs/new_env/lib/python3.9/site-packages/sklearn/utils/validation.py:605: FutureWarning: is_sparse is deprecated and will be removed in a future version. Check `isinstance(dtype, pd.SparseDtype)` instead.\n",
            "  if is_sparse(pd_dtype):\n",
            "/Users/mayo/opt/anaconda3/envs/new_env/lib/python3.9/site-packages/sklearn/utils/validation.py:614: FutureWarning: is_sparse is deprecated and will be removed in a future version. Check `isinstance(dtype, pd.SparseDtype)` instead.\n",
            "  if is_sparse(pd_dtype) or not is_extension_array_dtype(pd_dtype):\n"
          ]
        },
        {
          "name": "stdout",
          "output_type": "stream",
          "text": [
            "[LightGBM] [Warning] feature_fraction is set=0.85, colsample_bytree=1.0 will be ignored. Current value: feature_fraction=0.85\n"
          ]
        },
        {
          "name": "stderr",
          "output_type": "stream",
          "text": [
            "/Users/mayo/opt/anaconda3/envs/new_env/lib/python3.9/site-packages/sklearn/utils/validation.py:605: FutureWarning: is_sparse is deprecated and will be removed in a future version. Check `isinstance(dtype, pd.SparseDtype)` instead.\n",
            "  if is_sparse(pd_dtype):\n",
            "/Users/mayo/opt/anaconda3/envs/new_env/lib/python3.9/site-packages/sklearn/utils/validation.py:614: FutureWarning: is_sparse is deprecated and will be removed in a future version. Check `isinstance(dtype, pd.SparseDtype)` instead.\n",
            "  if is_sparse(pd_dtype) or not is_extension_array_dtype(pd_dtype):\n"
          ]
        },
        {
          "name": "stdout",
          "output_type": "stream",
          "text": [
            "[LightGBM] [Warning] feature_fraction is set=0.85, colsample_bytree=1.0 will be ignored. Current value: feature_fraction=0.85\n"
          ]
        },
        {
          "name": "stderr",
          "output_type": "stream",
          "text": [
            "/Users/mayo/opt/anaconda3/envs/new_env/lib/python3.9/site-packages/sklearn/utils/validation.py:605: FutureWarning: is_sparse is deprecated and will be removed in a future version. Check `isinstance(dtype, pd.SparseDtype)` instead.\n",
            "  if is_sparse(pd_dtype):\n",
            "/Users/mayo/opt/anaconda3/envs/new_env/lib/python3.9/site-packages/sklearn/utils/validation.py:614: FutureWarning: is_sparse is deprecated and will be removed in a future version. Check `isinstance(dtype, pd.SparseDtype)` instead.\n",
            "  if is_sparse(pd_dtype) or not is_extension_array_dtype(pd_dtype):\n"
          ]
        },
        {
          "name": "stdout",
          "output_type": "stream",
          "text": [
            "[LightGBM] [Warning] feature_fraction is set=0.85, colsample_bytree=1.0 will be ignored. Current value: feature_fraction=0.85\n"
          ]
        },
        {
          "name": "stderr",
          "output_type": "stream",
          "text": [
            "/Users/mayo/opt/anaconda3/envs/new_env/lib/python3.9/site-packages/sklearn/utils/validation.py:605: FutureWarning: is_sparse is deprecated and will be removed in a future version. Check `isinstance(dtype, pd.SparseDtype)` instead.\n",
            "  if is_sparse(pd_dtype):\n",
            "/Users/mayo/opt/anaconda3/envs/new_env/lib/python3.9/site-packages/sklearn/utils/validation.py:614: FutureWarning: is_sparse is deprecated and will be removed in a future version. Check `isinstance(dtype, pd.SparseDtype)` instead.\n",
            "  if is_sparse(pd_dtype) or not is_extension_array_dtype(pd_dtype):\n"
          ]
        },
        {
          "name": "stdout",
          "output_type": "stream",
          "text": [
            "[LightGBM] [Warning] feature_fraction is set=0.85, colsample_bytree=1.0 will be ignored. Current value: feature_fraction=0.85\n"
          ]
        },
        {
          "name": "stderr",
          "output_type": "stream",
          "text": [
            "/Users/mayo/opt/anaconda3/envs/new_env/lib/python3.9/site-packages/sklearn/utils/validation.py:605: FutureWarning: is_sparse is deprecated and will be removed in a future version. Check `isinstance(dtype, pd.SparseDtype)` instead.\n",
            "  if is_sparse(pd_dtype):\n",
            "/Users/mayo/opt/anaconda3/envs/new_env/lib/python3.9/site-packages/sklearn/utils/validation.py:614: FutureWarning: is_sparse is deprecated and will be removed in a future version. Check `isinstance(dtype, pd.SparseDtype)` instead.\n",
            "  if is_sparse(pd_dtype) or not is_extension_array_dtype(pd_dtype):\n"
          ]
        },
        {
          "name": "stdout",
          "output_type": "stream",
          "text": [
            "[LightGBM] [Warning] feature_fraction is set=0.85, colsample_bytree=1.0 will be ignored. Current value: feature_fraction=0.85\n"
          ]
        },
        {
          "name": "stderr",
          "output_type": "stream",
          "text": [
            "/Users/mayo/opt/anaconda3/envs/new_env/lib/python3.9/site-packages/sklearn/utils/validation.py:605: FutureWarning: is_sparse is deprecated and will be removed in a future version. Check `isinstance(dtype, pd.SparseDtype)` instead.\n",
            "  if is_sparse(pd_dtype):\n",
            "/Users/mayo/opt/anaconda3/envs/new_env/lib/python3.9/site-packages/sklearn/utils/validation.py:614: FutureWarning: is_sparse is deprecated and will be removed in a future version. Check `isinstance(dtype, pd.SparseDtype)` instead.\n",
            "  if is_sparse(pd_dtype) or not is_extension_array_dtype(pd_dtype):\n"
          ]
        },
        {
          "name": "stdout",
          "output_type": "stream",
          "text": [
            "[LightGBM] [Warning] feature_fraction is set=0.85, colsample_bytree=1.0 will be ignored. Current value: feature_fraction=0.85\n"
          ]
        },
        {
          "name": "stderr",
          "output_type": "stream",
          "text": [
            "/Users/mayo/opt/anaconda3/envs/new_env/lib/python3.9/site-packages/sklearn/utils/validation.py:605: FutureWarning: is_sparse is deprecated and will be removed in a future version. Check `isinstance(dtype, pd.SparseDtype)` instead.\n",
            "  if is_sparse(pd_dtype):\n",
            "/Users/mayo/opt/anaconda3/envs/new_env/lib/python3.9/site-packages/sklearn/utils/validation.py:614: FutureWarning: is_sparse is deprecated and will be removed in a future version. Check `isinstance(dtype, pd.SparseDtype)` instead.\n",
            "  if is_sparse(pd_dtype) or not is_extension_array_dtype(pd_dtype):\n"
          ]
        },
        {
          "name": "stdout",
          "output_type": "stream",
          "text": [
            "[LightGBM] [Warning] feature_fraction is set=0.9, colsample_bytree=1.0 will be ignored. Current value: feature_fraction=0.9\n"
          ]
        },
        {
          "name": "stderr",
          "output_type": "stream",
          "text": [
            "/Users/mayo/opt/anaconda3/envs/new_env/lib/python3.9/site-packages/sklearn/utils/validation.py:605: FutureWarning: is_sparse is deprecated and will be removed in a future version. Check `isinstance(dtype, pd.SparseDtype)` instead.\n",
            "  if is_sparse(pd_dtype):\n",
            "/Users/mayo/opt/anaconda3/envs/new_env/lib/python3.9/site-packages/sklearn/utils/validation.py:614: FutureWarning: is_sparse is deprecated and will be removed in a future version. Check `isinstance(dtype, pd.SparseDtype)` instead.\n",
            "  if is_sparse(pd_dtype) or not is_extension_array_dtype(pd_dtype):\n"
          ]
        },
        {
          "name": "stdout",
          "output_type": "stream",
          "text": [
            "[LightGBM] [Warning] feature_fraction is set=0.9, colsample_bytree=1.0 will be ignored. Current value: feature_fraction=0.9\n"
          ]
        },
        {
          "name": "stderr",
          "output_type": "stream",
          "text": [
            "/Users/mayo/opt/anaconda3/envs/new_env/lib/python3.9/site-packages/sklearn/utils/validation.py:605: FutureWarning: is_sparse is deprecated and will be removed in a future version. Check `isinstance(dtype, pd.SparseDtype)` instead.\n",
            "  if is_sparse(pd_dtype):\n",
            "/Users/mayo/opt/anaconda3/envs/new_env/lib/python3.9/site-packages/sklearn/utils/validation.py:614: FutureWarning: is_sparse is deprecated and will be removed in a future version. Check `isinstance(dtype, pd.SparseDtype)` instead.\n",
            "  if is_sparse(pd_dtype) or not is_extension_array_dtype(pd_dtype):\n"
          ]
        },
        {
          "name": "stdout",
          "output_type": "stream",
          "text": [
            "[LightGBM] [Warning] feature_fraction is set=0.9, colsample_bytree=1.0 will be ignored. Current value: feature_fraction=0.9\n"
          ]
        },
        {
          "name": "stderr",
          "output_type": "stream",
          "text": [
            "/Users/mayo/opt/anaconda3/envs/new_env/lib/python3.9/site-packages/sklearn/utils/validation.py:605: FutureWarning: is_sparse is deprecated and will be removed in a future version. Check `isinstance(dtype, pd.SparseDtype)` instead.\n",
            "  if is_sparse(pd_dtype):\n",
            "/Users/mayo/opt/anaconda3/envs/new_env/lib/python3.9/site-packages/sklearn/utils/validation.py:614: FutureWarning: is_sparse is deprecated and will be removed in a future version. Check `isinstance(dtype, pd.SparseDtype)` instead.\n",
            "  if is_sparse(pd_dtype) or not is_extension_array_dtype(pd_dtype):\n"
          ]
        },
        {
          "name": "stdout",
          "output_type": "stream",
          "text": [
            "[LightGBM] [Warning] feature_fraction is set=0.9, colsample_bytree=1.0 will be ignored. Current value: feature_fraction=0.9\n"
          ]
        },
        {
          "name": "stderr",
          "output_type": "stream",
          "text": [
            "/Users/mayo/opt/anaconda3/envs/new_env/lib/python3.9/site-packages/sklearn/utils/validation.py:605: FutureWarning: is_sparse is deprecated and will be removed in a future version. Check `isinstance(dtype, pd.SparseDtype)` instead.\n",
            "  if is_sparse(pd_dtype):\n",
            "/Users/mayo/opt/anaconda3/envs/new_env/lib/python3.9/site-packages/sklearn/utils/validation.py:614: FutureWarning: is_sparse is deprecated and will be removed in a future version. Check `isinstance(dtype, pd.SparseDtype)` instead.\n",
            "  if is_sparse(pd_dtype) or not is_extension_array_dtype(pd_dtype):\n"
          ]
        },
        {
          "name": "stdout",
          "output_type": "stream",
          "text": [
            "[LightGBM] [Warning] feature_fraction is set=0.9, colsample_bytree=1.0 will be ignored. Current value: feature_fraction=0.9\n"
          ]
        },
        {
          "name": "stderr",
          "output_type": "stream",
          "text": [
            "/Users/mayo/opt/anaconda3/envs/new_env/lib/python3.9/site-packages/sklearn/utils/validation.py:605: FutureWarning: is_sparse is deprecated and will be removed in a future version. Check `isinstance(dtype, pd.SparseDtype)` instead.\n",
            "  if is_sparse(pd_dtype):\n",
            "/Users/mayo/opt/anaconda3/envs/new_env/lib/python3.9/site-packages/sklearn/utils/validation.py:614: FutureWarning: is_sparse is deprecated and will be removed in a future version. Check `isinstance(dtype, pd.SparseDtype)` instead.\n",
            "  if is_sparse(pd_dtype) or not is_extension_array_dtype(pd_dtype):\n"
          ]
        },
        {
          "name": "stdout",
          "output_type": "stream",
          "text": [
            "[LightGBM] [Warning] feature_fraction is set=0.9, colsample_bytree=1.0 will be ignored. Current value: feature_fraction=0.9\n"
          ]
        },
        {
          "name": "stderr",
          "output_type": "stream",
          "text": [
            "/Users/mayo/opt/anaconda3/envs/new_env/lib/python3.9/site-packages/sklearn/utils/validation.py:605: FutureWarning: is_sparse is deprecated and will be removed in a future version. Check `isinstance(dtype, pd.SparseDtype)` instead.\n",
            "  if is_sparse(pd_dtype):\n",
            "/Users/mayo/opt/anaconda3/envs/new_env/lib/python3.9/site-packages/sklearn/utils/validation.py:614: FutureWarning: is_sparse is deprecated and will be removed in a future version. Check `isinstance(dtype, pd.SparseDtype)` instead.\n",
            "  if is_sparse(pd_dtype) or not is_extension_array_dtype(pd_dtype):\n"
          ]
        },
        {
          "name": "stdout",
          "output_type": "stream",
          "text": [
            "[LightGBM] [Warning] feature_fraction is set=0.9, colsample_bytree=1.0 will be ignored. Current value: feature_fraction=0.9\n"
          ]
        },
        {
          "name": "stderr",
          "output_type": "stream",
          "text": [
            "/Users/mayo/opt/anaconda3/envs/new_env/lib/python3.9/site-packages/sklearn/utils/validation.py:605: FutureWarning: is_sparse is deprecated and will be removed in a future version. Check `isinstance(dtype, pd.SparseDtype)` instead.\n",
            "  if is_sparse(pd_dtype):\n",
            "/Users/mayo/opt/anaconda3/envs/new_env/lib/python3.9/site-packages/sklearn/utils/validation.py:614: FutureWarning: is_sparse is deprecated and will be removed in a future version. Check `isinstance(dtype, pd.SparseDtype)` instead.\n",
            "  if is_sparse(pd_dtype) or not is_extension_array_dtype(pd_dtype):\n"
          ]
        },
        {
          "name": "stdout",
          "output_type": "stream",
          "text": [
            "[LightGBM] [Warning] feature_fraction is set=0.9, colsample_bytree=1.0 will be ignored. Current value: feature_fraction=0.9\n"
          ]
        },
        {
          "name": "stderr",
          "output_type": "stream",
          "text": [
            "/Users/mayo/opt/anaconda3/envs/new_env/lib/python3.9/site-packages/sklearn/utils/validation.py:605: FutureWarning: is_sparse is deprecated and will be removed in a future version. Check `isinstance(dtype, pd.SparseDtype)` instead.\n",
            "  if is_sparse(pd_dtype):\n",
            "/Users/mayo/opt/anaconda3/envs/new_env/lib/python3.9/site-packages/sklearn/utils/validation.py:614: FutureWarning: is_sparse is deprecated and will be removed in a future version. Check `isinstance(dtype, pd.SparseDtype)` instead.\n",
            "  if is_sparse(pd_dtype) or not is_extension_array_dtype(pd_dtype):\n"
          ]
        },
        {
          "name": "stdout",
          "output_type": "stream",
          "text": [
            "[LightGBM] [Warning] feature_fraction is set=0.9, colsample_bytree=1.0 will be ignored. Current value: feature_fraction=0.9\n"
          ]
        },
        {
          "name": "stderr",
          "output_type": "stream",
          "text": [
            "/Users/mayo/opt/anaconda3/envs/new_env/lib/python3.9/site-packages/sklearn/utils/validation.py:605: FutureWarning: is_sparse is deprecated and will be removed in a future version. Check `isinstance(dtype, pd.SparseDtype)` instead.\n",
            "  if is_sparse(pd_dtype):\n",
            "/Users/mayo/opt/anaconda3/envs/new_env/lib/python3.9/site-packages/sklearn/utils/validation.py:614: FutureWarning: is_sparse is deprecated and will be removed in a future version. Check `isinstance(dtype, pd.SparseDtype)` instead.\n",
            "  if is_sparse(pd_dtype) or not is_extension_array_dtype(pd_dtype):\n"
          ]
        },
        {
          "name": "stdout",
          "output_type": "stream",
          "text": [
            "[LightGBM] [Warning] feature_fraction is set=0.9, colsample_bytree=1.0 will be ignored. Current value: feature_fraction=0.9\n"
          ]
        },
        {
          "name": "stderr",
          "output_type": "stream",
          "text": [
            "/Users/mayo/opt/anaconda3/envs/new_env/lib/python3.9/site-packages/sklearn/utils/validation.py:605: FutureWarning: is_sparse is deprecated and will be removed in a future version. Check `isinstance(dtype, pd.SparseDtype)` instead.\n",
            "  if is_sparse(pd_dtype):\n",
            "/Users/mayo/opt/anaconda3/envs/new_env/lib/python3.9/site-packages/sklearn/utils/validation.py:614: FutureWarning: is_sparse is deprecated and will be removed in a future version. Check `isinstance(dtype, pd.SparseDtype)` instead.\n",
            "  if is_sparse(pd_dtype) or not is_extension_array_dtype(pd_dtype):\n"
          ]
        },
        {
          "name": "stdout",
          "output_type": "stream",
          "text": [
            "[LightGBM] [Warning] feature_fraction is set=0.9, colsample_bytree=1.0 will be ignored. Current value: feature_fraction=0.9\n"
          ]
        },
        {
          "name": "stderr",
          "output_type": "stream",
          "text": [
            "/Users/mayo/opt/anaconda3/envs/new_env/lib/python3.9/site-packages/sklearn/utils/validation.py:605: FutureWarning: is_sparse is deprecated and will be removed in a future version. Check `isinstance(dtype, pd.SparseDtype)` instead.\n",
            "  if is_sparse(pd_dtype):\n",
            "/Users/mayo/opt/anaconda3/envs/new_env/lib/python3.9/site-packages/sklearn/utils/validation.py:614: FutureWarning: is_sparse is deprecated and will be removed in a future version. Check `isinstance(dtype, pd.SparseDtype)` instead.\n",
            "  if is_sparse(pd_dtype) or not is_extension_array_dtype(pd_dtype):\n"
          ]
        },
        {
          "name": "stdout",
          "output_type": "stream",
          "text": [
            "[LightGBM] [Warning] feature_fraction is set=0.9, colsample_bytree=1.0 will be ignored. Current value: feature_fraction=0.9\n"
          ]
        },
        {
          "name": "stderr",
          "output_type": "stream",
          "text": [
            "/Users/mayo/opt/anaconda3/envs/new_env/lib/python3.9/site-packages/sklearn/utils/validation.py:605: FutureWarning: is_sparse is deprecated and will be removed in a future version. Check `isinstance(dtype, pd.SparseDtype)` instead.\n",
            "  if is_sparse(pd_dtype):\n",
            "/Users/mayo/opt/anaconda3/envs/new_env/lib/python3.9/site-packages/sklearn/utils/validation.py:614: FutureWarning: is_sparse is deprecated and will be removed in a future version. Check `isinstance(dtype, pd.SparseDtype)` instead.\n",
            "  if is_sparse(pd_dtype) or not is_extension_array_dtype(pd_dtype):\n"
          ]
        },
        {
          "name": "stdout",
          "output_type": "stream",
          "text": [
            "[LightGBM] [Warning] feature_fraction is set=0.9, colsample_bytree=1.0 will be ignored. Current value: feature_fraction=0.9\n"
          ]
        },
        {
          "name": "stderr",
          "output_type": "stream",
          "text": [
            "/Users/mayo/opt/anaconda3/envs/new_env/lib/python3.9/site-packages/sklearn/utils/validation.py:605: FutureWarning: is_sparse is deprecated and will be removed in a future version. Check `isinstance(dtype, pd.SparseDtype)` instead.\n",
            "  if is_sparse(pd_dtype):\n",
            "/Users/mayo/opt/anaconda3/envs/new_env/lib/python3.9/site-packages/sklearn/utils/validation.py:614: FutureWarning: is_sparse is deprecated and will be removed in a future version. Check `isinstance(dtype, pd.SparseDtype)` instead.\n",
            "  if is_sparse(pd_dtype) or not is_extension_array_dtype(pd_dtype):\n"
          ]
        },
        {
          "name": "stdout",
          "output_type": "stream",
          "text": [
            "[LightGBM] [Warning] feature_fraction is set=0.9, colsample_bytree=1.0 will be ignored. Current value: feature_fraction=0.9\n"
          ]
        },
        {
          "name": "stderr",
          "output_type": "stream",
          "text": [
            "/Users/mayo/opt/anaconda3/envs/new_env/lib/python3.9/site-packages/sklearn/utils/validation.py:605: FutureWarning: is_sparse is deprecated and will be removed in a future version. Check `isinstance(dtype, pd.SparseDtype)` instead.\n",
            "  if is_sparse(pd_dtype):\n",
            "/Users/mayo/opt/anaconda3/envs/new_env/lib/python3.9/site-packages/sklearn/utils/validation.py:614: FutureWarning: is_sparse is deprecated and will be removed in a future version. Check `isinstance(dtype, pd.SparseDtype)` instead.\n",
            "  if is_sparse(pd_dtype) or not is_extension_array_dtype(pd_dtype):\n"
          ]
        },
        {
          "name": "stdout",
          "output_type": "stream",
          "text": [
            "[LightGBM] [Warning] feature_fraction is set=0.9, colsample_bytree=1.0 will be ignored. Current value: feature_fraction=0.9\n"
          ]
        },
        {
          "name": "stderr",
          "output_type": "stream",
          "text": [
            "/Users/mayo/opt/anaconda3/envs/new_env/lib/python3.9/site-packages/sklearn/utils/validation.py:605: FutureWarning: is_sparse is deprecated and will be removed in a future version. Check `isinstance(dtype, pd.SparseDtype)` instead.\n",
            "  if is_sparse(pd_dtype):\n",
            "/Users/mayo/opt/anaconda3/envs/new_env/lib/python3.9/site-packages/sklearn/utils/validation.py:614: FutureWarning: is_sparse is deprecated and will be removed in a future version. Check `isinstance(dtype, pd.SparseDtype)` instead.\n",
            "  if is_sparse(pd_dtype) or not is_extension_array_dtype(pd_dtype):\n"
          ]
        },
        {
          "name": "stdout",
          "output_type": "stream",
          "text": [
            "[LightGBM] [Warning] feature_fraction is set=0.9, colsample_bytree=1.0 will be ignored. Current value: feature_fraction=0.9\n"
          ]
        },
        {
          "name": "stderr",
          "output_type": "stream",
          "text": [
            "/Users/mayo/opt/anaconda3/envs/new_env/lib/python3.9/site-packages/sklearn/utils/validation.py:605: FutureWarning: is_sparse is deprecated and will be removed in a future version. Check `isinstance(dtype, pd.SparseDtype)` instead.\n",
            "  if is_sparse(pd_dtype):\n",
            "/Users/mayo/opt/anaconda3/envs/new_env/lib/python3.9/site-packages/sklearn/utils/validation.py:614: FutureWarning: is_sparse is deprecated and will be removed in a future version. Check `isinstance(dtype, pd.SparseDtype)` instead.\n",
            "  if is_sparse(pd_dtype) or not is_extension_array_dtype(pd_dtype):\n"
          ]
        },
        {
          "name": "stdout",
          "output_type": "stream",
          "text": [
            "[LightGBM] [Warning] feature_fraction is set=0.9, colsample_bytree=1.0 will be ignored. Current value: feature_fraction=0.9\n"
          ]
        },
        {
          "name": "stderr",
          "output_type": "stream",
          "text": [
            "/Users/mayo/opt/anaconda3/envs/new_env/lib/python3.9/site-packages/sklearn/utils/validation.py:605: FutureWarning: is_sparse is deprecated and will be removed in a future version. Check `isinstance(dtype, pd.SparseDtype)` instead.\n",
            "  if is_sparse(pd_dtype):\n",
            "/Users/mayo/opt/anaconda3/envs/new_env/lib/python3.9/site-packages/sklearn/utils/validation.py:614: FutureWarning: is_sparse is deprecated and will be removed in a future version. Check `isinstance(dtype, pd.SparseDtype)` instead.\n",
            "  if is_sparse(pd_dtype) or not is_extension_array_dtype(pd_dtype):\n"
          ]
        },
        {
          "name": "stdout",
          "output_type": "stream",
          "text": [
            "[LightGBM] [Warning] feature_fraction is set=0.9, colsample_bytree=1.0 will be ignored. Current value: feature_fraction=0.9\n"
          ]
        },
        {
          "name": "stderr",
          "output_type": "stream",
          "text": [
            "/Users/mayo/opt/anaconda3/envs/new_env/lib/python3.9/site-packages/sklearn/utils/validation.py:605: FutureWarning: is_sparse is deprecated and will be removed in a future version. Check `isinstance(dtype, pd.SparseDtype)` instead.\n",
            "  if is_sparse(pd_dtype):\n",
            "/Users/mayo/opt/anaconda3/envs/new_env/lib/python3.9/site-packages/sklearn/utils/validation.py:614: FutureWarning: is_sparse is deprecated and will be removed in a future version. Check `isinstance(dtype, pd.SparseDtype)` instead.\n",
            "  if is_sparse(pd_dtype) or not is_extension_array_dtype(pd_dtype):\n"
          ]
        },
        {
          "name": "stdout",
          "output_type": "stream",
          "text": [
            "[LightGBM] [Warning] feature_fraction is set=0.9, colsample_bytree=1.0 will be ignored. Current value: feature_fraction=0.9\n"
          ]
        },
        {
          "name": "stderr",
          "output_type": "stream",
          "text": [
            "/Users/mayo/opt/anaconda3/envs/new_env/lib/python3.9/site-packages/sklearn/utils/validation.py:605: FutureWarning: is_sparse is deprecated and will be removed in a future version. Check `isinstance(dtype, pd.SparseDtype)` instead.\n",
            "  if is_sparse(pd_dtype):\n",
            "/Users/mayo/opt/anaconda3/envs/new_env/lib/python3.9/site-packages/sklearn/utils/validation.py:614: FutureWarning: is_sparse is deprecated and will be removed in a future version. Check `isinstance(dtype, pd.SparseDtype)` instead.\n",
            "  if is_sparse(pd_dtype) or not is_extension_array_dtype(pd_dtype):\n"
          ]
        },
        {
          "name": "stdout",
          "output_type": "stream",
          "text": [
            "[LightGBM] [Warning] feature_fraction is set=0.9, colsample_bytree=1.0 will be ignored. Current value: feature_fraction=0.9\n"
          ]
        },
        {
          "name": "stderr",
          "output_type": "stream",
          "text": [
            "/Users/mayo/opt/anaconda3/envs/new_env/lib/python3.9/site-packages/sklearn/utils/validation.py:605: FutureWarning: is_sparse is deprecated and will be removed in a future version. Check `isinstance(dtype, pd.SparseDtype)` instead.\n",
            "  if is_sparse(pd_dtype):\n",
            "/Users/mayo/opt/anaconda3/envs/new_env/lib/python3.9/site-packages/sklearn/utils/validation.py:614: FutureWarning: is_sparse is deprecated and will be removed in a future version. Check `isinstance(dtype, pd.SparseDtype)` instead.\n",
            "  if is_sparse(pd_dtype) or not is_extension_array_dtype(pd_dtype):\n"
          ]
        },
        {
          "name": "stdout",
          "output_type": "stream",
          "text": [
            "[LightGBM] [Warning] feature_fraction is set=0.9, colsample_bytree=1.0 will be ignored. Current value: feature_fraction=0.9\n"
          ]
        },
        {
          "name": "stderr",
          "output_type": "stream",
          "text": [
            "/Users/mayo/opt/anaconda3/envs/new_env/lib/python3.9/site-packages/sklearn/utils/validation.py:605: FutureWarning: is_sparse is deprecated and will be removed in a future version. Check `isinstance(dtype, pd.SparseDtype)` instead.\n",
            "  if is_sparse(pd_dtype):\n",
            "/Users/mayo/opt/anaconda3/envs/new_env/lib/python3.9/site-packages/sklearn/utils/validation.py:614: FutureWarning: is_sparse is deprecated and will be removed in a future version. Check `isinstance(dtype, pd.SparseDtype)` instead.\n",
            "  if is_sparse(pd_dtype) or not is_extension_array_dtype(pd_dtype):\n"
          ]
        },
        {
          "name": "stdout",
          "output_type": "stream",
          "text": [
            "[LightGBM] [Warning] feature_fraction is set=0.9, colsample_bytree=1.0 will be ignored. Current value: feature_fraction=0.9\n"
          ]
        },
        {
          "name": "stderr",
          "output_type": "stream",
          "text": [
            "/Users/mayo/opt/anaconda3/envs/new_env/lib/python3.9/site-packages/sklearn/utils/validation.py:605: FutureWarning: is_sparse is deprecated and will be removed in a future version. Check `isinstance(dtype, pd.SparseDtype)` instead.\n",
            "  if is_sparse(pd_dtype):\n",
            "/Users/mayo/opt/anaconda3/envs/new_env/lib/python3.9/site-packages/sklearn/utils/validation.py:614: FutureWarning: is_sparse is deprecated and will be removed in a future version. Check `isinstance(dtype, pd.SparseDtype)` instead.\n",
            "  if is_sparse(pd_dtype) or not is_extension_array_dtype(pd_dtype):\n"
          ]
        },
        {
          "name": "stdout",
          "output_type": "stream",
          "text": [
            "[LightGBM] [Warning] feature_fraction is set=0.9, colsample_bytree=1.0 will be ignored. Current value: feature_fraction=0.9\n"
          ]
        },
        {
          "name": "stderr",
          "output_type": "stream",
          "text": [
            "/Users/mayo/opt/anaconda3/envs/new_env/lib/python3.9/site-packages/sklearn/utils/validation.py:605: FutureWarning: is_sparse is deprecated and will be removed in a future version. Check `isinstance(dtype, pd.SparseDtype)` instead.\n",
            "  if is_sparse(pd_dtype):\n",
            "/Users/mayo/opt/anaconda3/envs/new_env/lib/python3.9/site-packages/sklearn/utils/validation.py:614: FutureWarning: is_sparse is deprecated and will be removed in a future version. Check `isinstance(dtype, pd.SparseDtype)` instead.\n",
            "  if is_sparse(pd_dtype) or not is_extension_array_dtype(pd_dtype):\n"
          ]
        },
        {
          "name": "stdout",
          "output_type": "stream",
          "text": [
            "[LightGBM] [Warning] feature_fraction is set=0.9, colsample_bytree=1.0 will be ignored. Current value: feature_fraction=0.9\n"
          ]
        },
        {
          "name": "stderr",
          "output_type": "stream",
          "text": [
            "/Users/mayo/opt/anaconda3/envs/new_env/lib/python3.9/site-packages/sklearn/utils/validation.py:605: FutureWarning: is_sparse is deprecated and will be removed in a future version. Check `isinstance(dtype, pd.SparseDtype)` instead.\n",
            "  if is_sparse(pd_dtype):\n",
            "/Users/mayo/opt/anaconda3/envs/new_env/lib/python3.9/site-packages/sklearn/utils/validation.py:614: FutureWarning: is_sparse is deprecated and will be removed in a future version. Check `isinstance(dtype, pd.SparseDtype)` instead.\n",
            "  if is_sparse(pd_dtype) or not is_extension_array_dtype(pd_dtype):\n"
          ]
        },
        {
          "name": "stdout",
          "output_type": "stream",
          "text": [
            "[LightGBM] [Warning] feature_fraction is set=0.9, colsample_bytree=1.0 will be ignored. Current value: feature_fraction=0.9\n"
          ]
        },
        {
          "name": "stderr",
          "output_type": "stream",
          "text": [
            "/Users/mayo/opt/anaconda3/envs/new_env/lib/python3.9/site-packages/sklearn/utils/validation.py:605: FutureWarning: is_sparse is deprecated and will be removed in a future version. Check `isinstance(dtype, pd.SparseDtype)` instead.\n",
            "  if is_sparse(pd_dtype):\n",
            "/Users/mayo/opt/anaconda3/envs/new_env/lib/python3.9/site-packages/sklearn/utils/validation.py:614: FutureWarning: is_sparse is deprecated and will be removed in a future version. Check `isinstance(dtype, pd.SparseDtype)` instead.\n",
            "  if is_sparse(pd_dtype) or not is_extension_array_dtype(pd_dtype):\n"
          ]
        },
        {
          "name": "stdout",
          "output_type": "stream",
          "text": [
            "[LightGBM] [Warning] feature_fraction is set=0.9, colsample_bytree=1.0 will be ignored. Current value: feature_fraction=0.9\n"
          ]
        },
        {
          "name": "stderr",
          "output_type": "stream",
          "text": [
            "/Users/mayo/opt/anaconda3/envs/new_env/lib/python3.9/site-packages/sklearn/utils/validation.py:605: FutureWarning: is_sparse is deprecated and will be removed in a future version. Check `isinstance(dtype, pd.SparseDtype)` instead.\n",
            "  if is_sparse(pd_dtype):\n",
            "/Users/mayo/opt/anaconda3/envs/new_env/lib/python3.9/site-packages/sklearn/utils/validation.py:614: FutureWarning: is_sparse is deprecated and will be removed in a future version. Check `isinstance(dtype, pd.SparseDtype)` instead.\n",
            "  if is_sparse(pd_dtype) or not is_extension_array_dtype(pd_dtype):\n"
          ]
        },
        {
          "name": "stdout",
          "output_type": "stream",
          "text": [
            "[LightGBM] [Warning] feature_fraction is set=0.9, colsample_bytree=1.0 will be ignored. Current value: feature_fraction=0.9\n"
          ]
        },
        {
          "name": "stderr",
          "output_type": "stream",
          "text": [
            "/Users/mayo/opt/anaconda3/envs/new_env/lib/python3.9/site-packages/sklearn/utils/validation.py:605: FutureWarning: is_sparse is deprecated and will be removed in a future version. Check `isinstance(dtype, pd.SparseDtype)` instead.\n",
            "  if is_sparse(pd_dtype):\n",
            "/Users/mayo/opt/anaconda3/envs/new_env/lib/python3.9/site-packages/sklearn/utils/validation.py:614: FutureWarning: is_sparse is deprecated and will be removed in a future version. Check `isinstance(dtype, pd.SparseDtype)` instead.\n",
            "  if is_sparse(pd_dtype) or not is_extension_array_dtype(pd_dtype):\n"
          ]
        },
        {
          "name": "stdout",
          "output_type": "stream",
          "text": [
            "[LightGBM] [Warning] feature_fraction is set=0.9, colsample_bytree=1.0 will be ignored. Current value: feature_fraction=0.9\n",
            "Best Hyperparameters (Second Round): {'feature_fraction': 0.9, 'learning_rate': 0.2, 'num_leaves': 40}\n",
            "[LightGBM] [Warning] Auto-choosing row-wise multi-threading, the overhead of testing was 0.002368 seconds.\n",
            "You can set `force_row_wise=true` to remove the overhead.\n",
            "And if memory is not enough, you can set `force_col_wise=true`.\n",
            "[LightGBM] [Info] Total Bins 2035\n",
            "[LightGBM] [Info] Number of data points in the train set: 245311, number of used features: 14\n",
            "[LightGBM] [Info] Start training from score 5.743025\n",
            "Training until validation scores don't improve for 10 rounds\n",
            "[10]\ttraining's l2: 10.1204\tvalid_1's l2: 10.2515\n",
            "[20]\ttraining's l2: 9.5558\tvalid_1's l2: 9.78309\n"
          ]
        },
        {
          "name": "stderr",
          "output_type": "stream",
          "text": [
            "/Users/mayo/opt/anaconda3/envs/new_env/lib/python3.9/site-packages/lightgbm/engine.py:181: UserWarning: 'early_stopping_rounds' argument is deprecated and will be removed in a future release of LightGBM. Pass 'early_stopping()' callback via 'callbacks' argument instead.\n",
            "  _log_warning(\"'early_stopping_rounds' argument is deprecated and will be removed in a future release of LightGBM. \"\n",
            "/Users/mayo/opt/anaconda3/envs/new_env/lib/python3.9/site-packages/lightgbm/engine.py:239: UserWarning: 'verbose_eval' argument is deprecated and will be removed in a future release of LightGBM. Pass 'log_evaluation()' callback via 'callbacks' argument instead.\n",
            "  _log_warning(\"'verbose_eval' argument is deprecated and will be removed in a future release of LightGBM. \"\n"
          ]
        },
        {
          "name": "stdout",
          "output_type": "stream",
          "text": [
            "[30]\ttraining's l2: 9.27149\tvalid_1's l2: 9.52621\n",
            "[40]\ttraining's l2: 9.03677\tvalid_1's l2: 9.31513\n",
            "[50]\ttraining's l2: 8.84681\tvalid_1's l2: 9.15743\n",
            "[60]\ttraining's l2: 8.66695\tvalid_1's l2: 9.01142\n",
            "[70]\ttraining's l2: 8.51724\tvalid_1's l2: 8.8925\n",
            "[80]\ttraining's l2: 8.38905\tvalid_1's l2: 8.78321\n",
            "[90]\ttraining's l2: 8.25974\tvalid_1's l2: 8.66675\n",
            "[100]\ttraining's l2: 8.15858\tvalid_1's l2: 8.58349\n",
            "[110]\ttraining's l2: 8.0334\tvalid_1's l2: 8.48827\n",
            "[120]\ttraining's l2: 7.92313\tvalid_1's l2: 8.40299\n",
            "[130]\ttraining's l2: 7.81873\tvalid_1's l2: 8.31685\n",
            "[140]\ttraining's l2: 7.7177\tvalid_1's l2: 8.23144\n",
            "[150]\ttraining's l2: 7.62841\tvalid_1's l2: 8.15672\n",
            "[160]\ttraining's l2: 7.56051\tvalid_1's l2: 8.09549\n",
            "[170]\ttraining's l2: 7.47248\tvalid_1's l2: 8.0263\n",
            "[180]\ttraining's l2: 7.39221\tvalid_1's l2: 7.95403\n",
            "[190]\ttraining's l2: 7.32474\tvalid_1's l2: 7.89874\n",
            "[200]\ttraining's l2: 7.26414\tvalid_1's l2: 7.8441\n",
            "[210]\ttraining's l2: 7.20064\tvalid_1's l2: 7.79039\n",
            "[220]\ttraining's l2: 7.13248\tvalid_1's l2: 7.72804\n",
            "[230]\ttraining's l2: 7.08311\tvalid_1's l2: 7.68131\n",
            "[240]\ttraining's l2: 7.02686\tvalid_1's l2: 7.63589\n",
            "[250]\ttraining's l2: 6.98143\tvalid_1's l2: 7.59628\n",
            "[260]\ttraining's l2: 6.93943\tvalid_1's l2: 7.56026\n",
            "[270]\ttraining's l2: 6.89322\tvalid_1's l2: 7.52075\n",
            "[280]\ttraining's l2: 6.83783\tvalid_1's l2: 7.47311\n",
            "[290]\ttraining's l2: 6.77913\tvalid_1's l2: 7.42071\n",
            "[300]\ttraining's l2: 6.73116\tvalid_1's l2: 7.38711\n",
            "[310]\ttraining's l2: 6.6868\tvalid_1's l2: 7.34724\n",
            "[320]\ttraining's l2: 6.6344\tvalid_1's l2: 7.30333\n",
            "[330]\ttraining's l2: 6.60083\tvalid_1's l2: 7.27368\n",
            "[340]\ttraining's l2: 6.56194\tvalid_1's l2: 7.24397\n",
            "[350]\ttraining's l2: 6.53055\tvalid_1's l2: 7.21972\n",
            "[360]\ttraining's l2: 6.4841\tvalid_1's l2: 7.17942\n",
            "[370]\ttraining's l2: 6.45102\tvalid_1's l2: 7.15241\n",
            "[380]\ttraining's l2: 6.41129\tvalid_1's l2: 7.12381\n",
            "[390]\ttraining's l2: 6.36881\tvalid_1's l2: 7.09322\n",
            "[400]\ttraining's l2: 6.33741\tvalid_1's l2: 7.06765\n",
            "[410]\ttraining's l2: 6.29676\tvalid_1's l2: 7.0332\n",
            "[420]\ttraining's l2: 6.26228\tvalid_1's l2: 7.00181\n",
            "[430]\ttraining's l2: 6.23665\tvalid_1's l2: 6.98343\n",
            "[440]\ttraining's l2: 6.20563\tvalid_1's l2: 6.95822\n",
            "[450]\ttraining's l2: 6.18026\tvalid_1's l2: 6.94004\n",
            "[460]\ttraining's l2: 6.15368\tvalid_1's l2: 6.91769\n",
            "[470]\ttraining's l2: 6.12989\tvalid_1's l2: 6.8984\n",
            "[480]\ttraining's l2: 6.09587\tvalid_1's l2: 6.86643\n",
            "[490]\ttraining's l2: 6.06866\tvalid_1's l2: 6.84272\n",
            "[500]\ttraining's l2: 6.03311\tvalid_1's l2: 6.81582\n",
            "[510]\ttraining's l2: 6.00813\tvalid_1's l2: 6.79352\n",
            "[520]\ttraining's l2: 5.9813\tvalid_1's l2: 6.77341\n",
            "[530]\ttraining's l2: 5.95191\tvalid_1's l2: 6.7482\n",
            "[540]\ttraining's l2: 5.92653\tvalid_1's l2: 6.72831\n",
            "[550]\ttraining's l2: 5.90677\tvalid_1's l2: 6.7134\n",
            "[560]\ttraining's l2: 5.87973\tvalid_1's l2: 6.69079\n",
            "[570]\ttraining's l2: 5.85885\tvalid_1's l2: 6.67609\n",
            "[580]\ttraining's l2: 5.83363\tvalid_1's l2: 6.65574\n",
            "[590]\ttraining's l2: 5.81176\tvalid_1's l2: 6.63868\n",
            "[600]\ttraining's l2: 5.78889\tvalid_1's l2: 6.62217\n",
            "[610]\ttraining's l2: 5.76685\tvalid_1's l2: 6.60428\n",
            "[620]\ttraining's l2: 5.74895\tvalid_1's l2: 6.59114\n",
            "[630]\ttraining's l2: 5.73333\tvalid_1's l2: 6.58142\n",
            "[640]\ttraining's l2: 5.7155\tvalid_1's l2: 6.57083\n",
            "[650]\ttraining's l2: 5.69826\tvalid_1's l2: 6.55701\n",
            "[660]\ttraining's l2: 5.67769\tvalid_1's l2: 6.53993\n",
            "[670]\ttraining's l2: 5.65671\tvalid_1's l2: 6.52384\n",
            "[680]\ttraining's l2: 5.63822\tvalid_1's l2: 6.50957\n",
            "[690]\ttraining's l2: 5.62164\tvalid_1's l2: 6.4979\n",
            "[700]\ttraining's l2: 5.60612\tvalid_1's l2: 6.48503\n",
            "[710]\ttraining's l2: 5.58759\tvalid_1's l2: 6.47084\n",
            "[720]\ttraining's l2: 5.57112\tvalid_1's l2: 6.45872\n",
            "[730]\ttraining's l2: 5.55243\tvalid_1's l2: 6.44545\n",
            "[740]\ttraining's l2: 5.53677\tvalid_1's l2: 6.43421\n",
            "[750]\ttraining's l2: 5.52186\tvalid_1's l2: 6.42362\n",
            "[760]\ttraining's l2: 5.50401\tvalid_1's l2: 6.40877\n",
            "[770]\ttraining's l2: 5.48724\tvalid_1's l2: 6.39759\n",
            "[780]\ttraining's l2: 5.47262\tvalid_1's l2: 6.3853\n",
            "[790]\ttraining's l2: 5.45772\tvalid_1's l2: 6.37405\n",
            "[800]\ttraining's l2: 5.44103\tvalid_1's l2: 6.36124\n",
            "[810]\ttraining's l2: 5.42601\tvalid_1's l2: 6.34869\n",
            "[820]\ttraining's l2: 5.41057\tvalid_1's l2: 6.34172\n",
            "[830]\ttraining's l2: 5.39597\tvalid_1's l2: 6.33217\n",
            "[840]\ttraining's l2: 5.38281\tvalid_1's l2: 6.32454\n",
            "[850]\ttraining's l2: 5.36904\tvalid_1's l2: 6.31534\n",
            "[860]\ttraining's l2: 5.35455\tvalid_1's l2: 6.30579\n",
            "[870]\ttraining's l2: 5.34123\tvalid_1's l2: 6.29564\n",
            "[880]\ttraining's l2: 5.32711\tvalid_1's l2: 6.28483\n",
            "[890]\ttraining's l2: 5.31399\tvalid_1's l2: 6.27639\n",
            "[900]\ttraining's l2: 5.30173\tvalid_1's l2: 6.26938\n",
            "[910]\ttraining's l2: 5.28956\tvalid_1's l2: 6.25908\n",
            "[920]\ttraining's l2: 5.27689\tvalid_1's l2: 6.25204\n",
            "[930]\ttraining's l2: 5.26498\tvalid_1's l2: 6.24303\n",
            "[940]\ttraining's l2: 5.2521\tvalid_1's l2: 6.23334\n",
            "[950]\ttraining's l2: 5.24085\tvalid_1's l2: 6.22569\n",
            "[960]\ttraining's l2: 5.2297\tvalid_1's l2: 6.21824\n",
            "[970]\ttraining's l2: 5.21797\tvalid_1's l2: 6.20932\n",
            "[980]\ttraining's l2: 5.20636\tvalid_1's l2: 6.19835\n",
            "[990]\ttraining's l2: 5.19177\tvalid_1's l2: 6.18766\n",
            "[1000]\ttraining's l2: 5.18401\tvalid_1's l2: 6.1815\n",
            "Did not meet early stopping. Best iteration is:\n",
            "[1000]\ttraining's l2: 5.18401\tvalid_1's l2: 6.1815\n",
            "Evaluation Metrics on Test Set (After Second Hyperparameter Tuning):\n",
            "RMSE: 2.4830\n",
            "MSE: 6.1651\n",
            "MAE: 1.7335\n",
            "R^2: 0.6614\n"
          ]
        },
        {
          "name": "stderr",
          "output_type": "stream",
          "text": [
            "/Users/mayo/opt/anaconda3/envs/new_env/lib/python3.9/site-packages/sklearn/utils/validation.py:605: FutureWarning: is_sparse is deprecated and will be removed in a future version. Check `isinstance(dtype, pd.SparseDtype)` instead.\n",
            "  if is_sparse(pd_dtype):\n",
            "/Users/mayo/opt/anaconda3/envs/new_env/lib/python3.9/site-packages/sklearn/utils/validation.py:614: FutureWarning: is_sparse is deprecated and will be removed in a future version. Check `isinstance(dtype, pd.SparseDtype)` instead.\n",
            "  if is_sparse(pd_dtype) or not is_extension_array_dtype(pd_dtype):\n",
            "/Users/mayo/opt/anaconda3/envs/new_env/lib/python3.9/site-packages/sklearn/utils/validation.py:605: FutureWarning: is_sparse is deprecated and will be removed in a future version. Check `isinstance(dtype, pd.SparseDtype)` instead.\n",
            "  if is_sparse(pd_dtype):\n",
            "/Users/mayo/opt/anaconda3/envs/new_env/lib/python3.9/site-packages/sklearn/utils/validation.py:614: FutureWarning: is_sparse is deprecated and will be removed in a future version. Check `isinstance(dtype, pd.SparseDtype)` instead.\n",
            "  if is_sparse(pd_dtype) or not is_extension_array_dtype(pd_dtype):\n",
            "/Users/mayo/opt/anaconda3/envs/new_env/lib/python3.9/site-packages/sklearn/utils/validation.py:605: FutureWarning: is_sparse is deprecated and will be removed in a future version. Check `isinstance(dtype, pd.SparseDtype)` instead.\n",
            "  if is_sparse(pd_dtype):\n",
            "/Users/mayo/opt/anaconda3/envs/new_env/lib/python3.9/site-packages/sklearn/utils/validation.py:614: FutureWarning: is_sparse is deprecated and will be removed in a future version. Check `isinstance(dtype, pd.SparseDtype)` instead.\n",
            "  if is_sparse(pd_dtype) or not is_extension_array_dtype(pd_dtype):\n"
          ]
        }
      ],
      "source": [
        "# Define a new parameter grid for the second round of hyperparameter tuning\n",
        "param_grid_2 = {\n",
        "    'num_leaves': [20, 30, 40],\n",
        "    'learning_rate': [0.01, 0.1, 0.2],\n",
        "    'feature_fraction': [0.8, 0.85, 0.9]\n",
        "}\n",
        "\n",
        "# Create a new GridSearchCV object\n",
        "grid_search_2 = GridSearchCV(estimator=lgb_reg, param_grid=param_grid_2, scoring='neg_mean_squared_error', cv=3, verbose=1)\n",
        "\n",
        "# Fit the new grid search to the data\n",
        "grid_search_2.fit(X_train, y_train)\n",
        "\n",
        "# Get the best parameters from the second round of tuning\n",
        "best_params_2 = grid_search_2.best_params_\n",
        "print(\"Best Hyperparameters (Second Round):\", best_params_2)\n",
        "\n",
        "# Train the Light GBM model with the best hyperparameters from the second round\n",
        "best_params_2['objective'] = 'regression'\n",
        "best_params_2['metric'] = 'mse'\n",
        "best_bst_2 = lgb.train(best_params_2, train_data, num_round, valid_sets=[train_data, valid_data], early_stopping_rounds=10, verbose_eval=10)\n",
        "\n",
        "# Make predictions on the test set with the newly tuned model\n",
        "y_pred_tuned_2 = best_bst_2.predict(X_test, num_iteration=best_bst_2.best_iteration)\n",
        "\n",
        "# Evaluate the newly tuned model\n",
        "mse_tuned_2 = mean_squared_error(y_test, y_pred_tuned_2)\n",
        "mae_tuned_2 = mean_absolute_error(y_test, y_pred_tuned_2)\n",
        "rmse_tuned_2 = sqrt(mse_tuned_2)\n",
        "r2_tuned_2 = r2_score(y_test, y_pred_tuned_2)\n",
        "\n",
        "# Print the evaluation metrics after the second round of tuning\n",
        "print(\"Evaluation Metrics on Test Set (After Second Hyperparameter Tuning):\")\n",
        "print(\"RMSE: {:.4f}\".format(rmse_tuned_2))\n",
        "print(\"MSE: {:.4f}\".format(mse_tuned_2))\n",
        "print(\"MAE: {:.4f}\".format(mae_tuned_2))\n",
        "print(\"R^2: {:.4f}\".format(r2_tuned_2))\n"
      ]
    },
    {
      "cell_type": "code",
      "execution_count": null,
      "id": "b5d3da5d-17c7-41db-92bd-7f6a45a49be0",
      "metadata": {
        "id": "b5d3da5d-17c7-41db-92bd-7f6a45a49be0"
      },
      "outputs": [],
      "source": [
        "import matplotlib.pyplot as plt"
      ]
    },
    {
      "cell_type": "code",
      "execution_count": null,
      "id": "6543660b-a0d3-4fa3-99e4-8d377cfc812d",
      "metadata": {
        "id": "6543660b-a0d3-4fa3-99e4-8d377cfc812d"
      },
      "outputs": [],
      "source": []
    },
    {
      "cell_type": "code",
      "execution_count": null,
      "id": "ba987876-024a-41ff-a5d0-31f7d8c2aa5a",
      "metadata": {
        "id": "ba987876-024a-41ff-a5d0-31f7d8c2aa5a",
        "outputId": "86e25efc-7f4b-449f-845c-e9b7e1e26d78"
      },
      "outputs": [
        {
          "data": {
            "image/png": "[encoded data removed]",
            "text/plain": [
              "<Figure size 1200x600 with 1 Axes>"
            ]
          },
          "metadata": {},
          "output_type": "display_data"
        }
      ],
      "source": [
        "import pandas as pd\n",
        "import matplotlib.pyplot as plt\n",
        "\n",
        "# Convert the actual and predicted values into pandas Series for easier plot\n",
        "y_test_series = pd.Series(y_test.tolist(), name=\"Actual\")\n",
        "y_pred_lightgbm_series = pd.Series(y_pred.tolist(), name=\"Predicted\")\n",
        "\n",
        "# Plot the actual values\n",
        "plt.figure(figsize=(12,6))\n",
        "plt.plot(y_test_series, label='Actual')\n",
        "\n",
        "# Plot the predicted values\n",
        "plt.plot(y_pred, label='Predicted')\n",
        "\n",
        "# Show the legend\n",
        "plt.legend(loc='best')\n",
        "\n",
        "# Show the title\n",
        "plt.title('Actual vs Predicted values for LightGBM Model')\n",
        "\n",
        "# Show the plot\n",
        "plt.show()"
      ]
    },
    {
      "cell_type": "code",
      "execution_count": null,
      "id": "9e4005a3-cab7-457c-a526-626ed5ee52c9",
      "metadata": {
        "id": "9e4005a3-cab7-457c-a526-626ed5ee52c9"
      },
      "outputs": [],
      "source": []
    },
    {
      "cell_type": "code",
      "execution_count": null,
      "id": "293d05c6-3f8f-4fd1-8488-8d07735cbd9b",
      "metadata": {
        "id": "293d05c6-3f8f-4fd1-8488-8d07735cbd9b"
      },
      "outputs": [],
      "source": []
    },
    {
      "cell_type": "code",
      "execution_count": null,
      "id": "5b998f8c-a6fc-42db-988f-37244e1a8b81",
      "metadata": {
        "id": "5b998f8c-a6fc-42db-988f-37244e1a8b81",
        "outputId": "92799178-f372-441c-9a10-ddfaf1496a37"
      },
      "outputs": [
        {
          "data": {
            "image/png": "[encoded data removed]",
            "text/plain": [
              "<Figure size 1500x1000 with 4 Axes>"
            ]
          },
          "metadata": {},
          "output_type": "display_data"
        }
      ],
      "source": [
        "import numpy as np\n",
        "\n",
        "# Prepare data\n",
        "models = ['Base Model', 'Hypertuned Model 1', 'Hypertuned Model 2']\n",
        "\n",
        "rmse_values = [rmse, rmse_tuned, rmse_tuned_2]\n",
        "mae_values = [mae, mae_tuned, mae_tuned_2]\n",
        "mse_values = [mse, mse_tuned, mse_tuned_2]\n",
        "r2_values = [r2, r2_tuned, r2_tuned_2]\n",
        "\n",
        "x = np.arange(len(models))  # the label locations\n",
        "\n",
        "# Create subplots\n",
        "fig, axs = plt.subplots(2, 2, figsize=(15, 10))\n",
        "\n",
        "# RMSE comparison\n",
        "axs[0, 0].bar(x, rmse_values, color='b', alpha=0.7)\n",
        "axs[0, 0].set_title('RMSE Comparison')\n",
        "axs[0, 0].set_xticks(x)\n",
        "axs[0, 0].set_xticklabels(models)\n",
        "\n",
        "# MAE comparison\n",
        "axs[0, 1].bar(x, mae_values, color='r', alpha=0.7)\n",
        "axs[0, 1].set_title('MAE Comparison')\n",
        "axs[0, 1].set_xticks(x)\n",
        "axs[0, 1].set_xticklabels(models)\n",
        "\n",
        "# MSE comparison\n",
        "axs[1, 0].bar(x, mse_values, color='g', alpha=0.7)\n",
        "axs[1, 0].set_title('MSE Comparison')\n",
        "axs[1, 0].set_xticks(x)\n",
        "axs[1, 0].set_xticklabels(models)\n",
        "\n",
        "# R2 comparison\n",
        "axs[1, 1].bar(x, r2_values, color='purple', alpha=0.7)\n",
        "axs[1, 1].set_title('R2 Comparison')\n",
        "axs[1, 1].set_xticks(x)\n",
        "axs[1, 1].set_xticklabels(models)\n",
        "\n",
        "# Add some text for labels, title and custom x-axis tick labels, etc.\n",
        "for ax in axs.flat:\n",
        "    ax.set(ylabel='Scores', xlabel='Models')\n",
        "\n",
        "# Layout\n",
        "plt.tight_layout()\n",
        "plt.show()"
      ]
    },
    {
      "cell_type": "code",
      "execution_count": null,
      "id": "3c487084-7f8e-4c18-bba9-21fe89fbe0d8",
      "metadata": {
        "id": "3c487084-7f8e-4c18-bba9-21fe89fbe0d8"
      },
      "outputs": [],
      "source": []
    },
    {
      "cell_type": "code",
      "execution_count": null,
      "id": "273cfd90-589f-4cbc-b452-1c6fc4d33391",
      "metadata": {
        "id": "273cfd90-589f-4cbc-b452-1c6fc4d33391"
      },
      "outputs": [],
      "source": []
    },
    {
      "cell_type": "code",
      "execution_count": null,
      "id": "c85ba64e-ea6e-422a-8217-67fc77c5677c",
      "metadata": {
        "id": "c85ba64e-ea6e-422a-8217-67fc77c5677c"
      },
      "outputs": [],
      "source": []
    }
  ],
  "metadata": {
    "kernelspec": {
      "display_name": "Python 3 (ipykernel)",
      "language": "python",
      "name": "python3"
    },
    "language_info": {
      "codemirror_mode": {
        "name": "ipython",
        "version": 3
      },
      "file_extension": ".py",
      "mimetype": "text/x-python",
      "name": "python",
      "nbconvert_exporter": "python",
      "pygments_lexer": "ipython3",
      "version": "3.9.13"
    },
    "colab": {
      "provenance": [],
      "include_colab_link": true
    }
  },
  "nbformat": 4,
  "nbformat_minor": 5
}